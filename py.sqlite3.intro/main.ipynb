{
 "cells": [
  {
   "cell_type": "code",
   "execution_count": 23,
   "metadata": {
    "collapsed": true
   },
   "outputs": [],
   "source": [
    "import sqlite3\n",
    "\n",
    "conn = sqlite3.connect(\"GTA.sqlite3\")\n",
    "\n",
    "gtas = [{\"title\": \"Grand Theft Auto\", \"city\": \"Liberty City\"},\n",
    "        {\"title\": \"Grand Theft Auto: London 1969\", \"city\": \"London\"},\n",
    "        {\"title\": \"Grand Theft Auto III\", \"city\": \"Liberty City\"},\n",
    "        {\"title\": \"Grand Theft Auto: Vice City\", \"city\": \"Vice City\"},\n",
    "        {\"title\": \"Grand Theft Auto: San Andreas\", \"city\": \"San Andreas\"},\n",
    "        {\"title\": \"Grand Theft Auto IV\", \"city\": \"Liberty City\"},\n",
    "        {\"title\": \"Grand Theft Auto: The Lost and Damned\", \"city\": \"Liberty City\"},\n",
    "        {\"title\": \"Grand Theft Auto: The Ballad of Gay Tony\", \"city\": \"Liberty City\"},\n",
    "        {\"title\": \"Grand Theft Auto V\", \"city\": \"Los Santos\"},\n",
    "        {\"title\": \"Grand Theft Auto Online\", \"city\": \"Los Santos\"}]\n"
   ]
  },
  {
   "cell_type": "code",
   "execution_count": 22,
   "outputs": [
    {
     "ename": "NameError",
     "evalue": "name 'OperationalError' is not defined",
     "output_type": "error",
     "traceback": [
      "\u001B[0;31m---------------------------------------------------------------------------\u001B[0m",
      "\u001B[0;31mOperationalError\u001B[0m                          Traceback (most recent call last)",
      "Cell \u001B[0;32mIn[22], line 3\u001B[0m\n\u001B[1;32m      2\u001B[0m \u001B[38;5;28;01mtry\u001B[39;00m:\n\u001B[0;32m----> 3\u001B[0m         \u001B[43mcur\u001B[49m\u001B[38;5;241;43m.\u001B[39;49m\u001B[43mexecute\u001B[49m\u001B[43m(\u001B[49m\u001B[38;5;124;43m\"\u001B[39;49m\u001B[38;5;124;43mcreate table gta(title text, city text)\u001B[39;49m\u001B[38;5;124;43m\"\u001B[39;49m\u001B[43m)\u001B[49m\n\u001B[1;32m      4\u001B[0m \u001B[38;5;28;01mexcept\u001B[39;00m OperationalError:\n",
      "\u001B[0;31mOperationalError\u001B[0m: table gta already exists",
      "\nDuring handling of the above exception, another exception occurred:\n",
      "\u001B[0;31mNameError\u001B[0m                                 Traceback (most recent call last)",
      "Cell \u001B[0;32mIn[22], line 4\u001B[0m\n\u001B[1;32m      2\u001B[0m \u001B[38;5;28;01mtry\u001B[39;00m:\n\u001B[1;32m      3\u001B[0m         cur\u001B[38;5;241m.\u001B[39mexecute(\u001B[38;5;124m\"\u001B[39m\u001B[38;5;124mcreate table gta(title text, city text)\u001B[39m\u001B[38;5;124m\"\u001B[39m)\n\u001B[0;32m----> 4\u001B[0m \u001B[38;5;28;01mexcept\u001B[39;00m \u001B[43mOperationalError\u001B[49m:\n\u001B[1;32m      5\u001B[0m         \u001B[38;5;28;01mpass\u001B[39;00m\n",
      "\u001B[0;31mNameError\u001B[0m: name 'OperationalError' is not defined"
     ]
    }
   ],
   "source": [
    "cur = conn.cursor()\n",
    "cur.execute(\"create table gta(title text, city text)\")"
   ],
   "metadata": {
    "collapsed": false
   }
  },
  {
   "cell_type": "code",
   "execution_count": 24,
   "outputs": [
    {
     "data": {
      "text/plain": "[('Grand Theft Auto', 'Liberty City'),\n ('Grand Theft Auto: London 1969', 'London'),\n ('Grand Theft Auto III', 'Liberty City'),\n ('Grand Theft Auto: Vice City', 'Vice City'),\n ('Grand Theft Auto: San Andreas', 'San Andreas'),\n ('Grand Theft Auto IV', 'Liberty City'),\n ('Grand Theft Auto: The Lost and Damned', 'Liberty City'),\n ('Grand Theft Auto: The Ballad of Gay Tony', 'Liberty City'),\n ('Grand Theft Auto V', 'Los Santos'),\n ('Grand Theft Auto Online', 'Los Santos')]"
     },
     "execution_count": 24,
     "metadata": {},
     "output_type": "execute_result"
    }
   ],
   "source": [
    "bundled = [(g['title'], g['city']) for g in gtas]\n",
    "bundled"
   ],
   "metadata": {
    "collapsed": false
   }
  },
  {
   "cell_type": "code",
   "execution_count": 27,
   "outputs": [
    {
     "data": {
      "text/plain": "<sqlite3.Cursor at 0x7ff9c57f15e0>"
     },
     "execution_count": 27,
     "metadata": {},
     "output_type": "execute_result"
    }
   ],
   "source": [
    "cur.executemany(\"insert into gta values(?, ?)\", bundled)"
   ],
   "metadata": {
    "collapsed": false
   }
  },
  {
   "cell_type": "code",
   "execution_count": 28,
   "outputs": [
    {
     "name": "stdout",
     "output_type": "stream",
     "text": [
      "('Grand Theft Auto', 'Liberty City')\n",
      "('Grand Theft Auto: London 1969', 'London')\n",
      "('Grand Theft Auto III', 'Liberty City')\n",
      "('Grand Theft Auto: Vice City', 'Vice City')\n",
      "('Grand Theft Auto: San Andreas', 'San Andreas')\n",
      "('Grand Theft Auto IV', 'Liberty City')\n",
      "('Grand Theft Auto: The Lost and Damned', 'Liberty City')\n",
      "('Grand Theft Auto: The Ballad of Gay Tony', 'Liberty City')\n",
      "('Grand Theft Auto V', 'Los Santos')\n",
      "('Grand Theft Auto Online', 'Los Santos')\n"
     ]
    }
   ],
   "source": [
    "for row in cur.execute(\"select * from gta\"):\n",
    "        print(row)"
   ],
   "metadata": {
    "collapsed": false
   }
  },
  {
   "cell_type": "code",
   "execution_count": 29,
   "outputs": [
    {
     "name": "stdout",
     "output_type": "stream",
     "text": [
      "[('Grand Theft Auto', 'Liberty City'), ('Grand Theft Auto III', 'Liberty City'), ('Grand Theft Auto IV', 'Liberty City'), ('Grand Theft Auto: The Lost and Damned', 'Liberty City'), ('Grand Theft Auto: The Ballad of Gay Tony', 'Liberty City')]\n"
     ]
    }
   ],
   "source": [
    "cur.execute(\"select * from gta where city=:c\", {\n",
    "        \"c\": \"Liberty City\"\n",
    "})\n",
    "gta_search = cur.fetchall()\n",
    "print(gta_search)"
   ],
   "metadata": {
    "collapsed": false
   }
  },
  {
   "cell_type": "code",
   "execution_count": 30,
   "outputs": [],
   "source": [
    "conn.close()"
   ],
   "metadata": {
    "collapsed": false
   }
  }
 ],
 "metadata": {
  "kernelspec": {
   "display_name": "Python 3",
   "language": "python",
   "name": "python3"
  },
  "language_info": {
   "codemirror_mode": {
    "name": "ipython",
    "version": 2
   },
   "file_extension": ".py",
   "mimetype": "text/x-python",
   "name": "python",
   "nbconvert_exporter": "python",
   "pygments_lexer": "ipython2",
   "version": "2.7.6"
  }
 },
 "nbformat": 4,
 "nbformat_minor": 0
}
