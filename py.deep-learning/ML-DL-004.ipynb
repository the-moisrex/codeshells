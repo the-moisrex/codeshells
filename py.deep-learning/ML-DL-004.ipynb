{
 "cells": [
  {
   "cell_type": "markdown",
   "id": "c9d354a4-f694-458f-9c89-0c632ee15648",
   "metadata": {},
   "source": [
    "# py.deep-learning\n",
    "\n",
    "    Python Version:    Python 3.10.9\n",
    "    Conda Version:     conda 23.1.0\n",
    "    Conda Environment: jup\n",
    "    Conda Path:        $HOME/.conda/envs/jup\n"
   ]
  },
  {
   "cell_type": "code",
   "execution_count": 1,
   "id": "ebab4413-85c4-4117-932e-54e2b15dc9cc",
   "metadata": {},
   "outputs": [
    {
     "name": "stderr",
     "output_type": "stream",
     "text": [
      "2023-03-20 05:16:26.236014: I tensorflow/core/platform/cpu_feature_guard.cc:193] This TensorFlow binary is optimized with oneAPI Deep Neural Network Library (oneDNN) to use the following CPU instructions in performance-critical operations:  SSE4.1 SSE4.2 AVX AVX2 FMA\n",
      "To enable them in other operations, rebuild TensorFlow with the appropriate compiler flags.\n"
     ]
    }
   ],
   "source": [
    "import math\n",
    "import numpy as np\n",
    "import matplotlib.pyplot as plt\n",
    "import tensorflow as tf\n",
    "from tensorflow import keras\n",
    "%matplotlib inline"
   ]
  },
  {
   "cell_type": "code",
   "execution_count": null,
   "id": "9bfc31cb-c45d-4c63-8e4b-871ba3616e92",
   "metadata": {},
   "outputs": [],
   "source": []
  }
 ],
 "metadata": {
  "kernelspec": {
   "display_name": "Python 3 (ipykernel)",
   "language": "python",
   "name": "python3"
  },
  "language_info": {
   "codemirror_mode": {
    "name": "ipython",
    "version": 3
   },
   "file_extension": ".py",
   "mimetype": "text/x-python",
   "name": "python",
   "nbconvert_exporter": "python",
   "pygments_lexer": "ipython3",
   "version": "3.10.9"
  }
 },
 "nbformat": 4,
 "nbformat_minor": 5
}
