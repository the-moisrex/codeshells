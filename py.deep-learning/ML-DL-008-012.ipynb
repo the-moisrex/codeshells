{
 "cells": [
  {
   "cell_type": "markdown",
   "id": "c9d354a4-f694-458f-9c89-0c632ee15648",
   "metadata": {},
   "source": [
    "# Hyper Parameters\n",
    "\n"
   ]
  },
  {
   "cell_type": "markdown",
   "id": "aada13af-8c70-4cd9-baa3-f714720c0b5e",
   "metadata": {},
   "source": [
    "# Loss functions:\n",
    "\n",
    "- MSE: Mean Squared Error\n",
    "- MAE: Mean Absolute Error\n",
    "- Binary Cross-Entropy\n",
    "- Sparse Categorical Cross-Entropy\n",
    "\n"
   ]
  },
  {
   "cell_type": "markdown",
   "id": "119c85e5-b2bc-40f1-b3df-1d6f801128eb",
   "metadata": {},
   "source": [
    "# Optimizers:\n",
    "\n",
    "- SGD: Stochastic Gradient Descent\n",
    "- RMSProp: root mean square propagation\n",
    "- Adam"
   ]
  },
  {
   "cell_type": "markdown",
   "id": "e8044007-67d5-49d1-922b-b423e01daf23",
   "metadata": {},
   "source": [
    "# Activation Function:\n",
    "\n",
    "- ReLU"
   ]
  },
  {
   "cell_type": "markdown",
   "id": "1be9ea45-b31a-4cf3-8cd8-35da463eacd8",
   "metadata": {},
   "source": [
    "# Batch Size:\n",
    "\n",
    "- Batch GD (Gradient Descent): One batch is the whole dataset\n",
    "- Mini-Batch GD: a batch size between one data point and the whole dataset\n",
    "- Stochastic GD: One batch is one data point"
   ]
  },
  {
   "cell_type": "markdown",
   "id": "850fc31d-f63a-409d-b286-93ee5d05f809",
   "metadata": {},
   "source": [
    "# Epochs\n",
    "\n",
    "- Early Stopping\n",
    "- Overfitting\n"
   ]
  },
  {
   "cell_type": "markdown",
   "id": "a8a6fda3-a5d4-4017-8f05-b3c4094a902a",
   "metadata": {},
   "source": [
    "# Weight Initialization\n",
    "\n",
    "- initialized randomly\n",
    "- Problem: Unstable Gradient Descent Problem"
   ]
  },
  {
   "cell_type": "markdown",
   "id": "03f82461-0eb5-458c-aaec-6b4aea584bc5",
   "metadata": {},
   "source": [
    "# Regularization\n",
    "\n",
    "- Used to deal with overfitting\n",
    "- Disable some neurans from generating output"
   ]
  }
 ],
 "metadata": {
  "kernelspec": {
   "display_name": "Python 3 (ipykernel)",
   "language": "python",
   "name": "python3"
  },
  "language_info": {
   "codemirror_mode": {
    "name": "ipython",
    "version": 3
   },
   "file_extension": ".py",
   "mimetype": "text/x-python",
   "name": "python",
   "nbconvert_exporter": "python",
   "pygments_lexer": "ipython3",
   "version": "3.10.9"
  }
 },
 "nbformat": 4,
 "nbformat_minor": 5
}
