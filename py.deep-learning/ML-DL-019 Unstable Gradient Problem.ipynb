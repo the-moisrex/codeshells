{
 "cells": [
  {
   "cell_type": "markdown",
   "id": "5c92582a-bef4-4dfd-a9a8-508f5ce6c296",
   "metadata": {},
   "source": [
    "# Vanishing/Exploding (Unstable) Gradient Problem\n",
    "\n",
    "\n",
    "**How to Solve?**\n",
    "\n",
    "- Changing how we initialize weights\n",
    "- Using non-saturating activation functions\n",
    "- Batch-normalization\n",
    "- Gradient clipping\n"
   ]
  }
 ],
 "metadata": {
  "kernelspec": {
   "display_name": "Python 3 (ipykernel)",
   "language": "python",
   "name": "python3"
  },
  "language_info": {
   "codemirror_mode": {
    "name": "ipython",
    "version": 3
   },
   "file_extension": ".py",
   "mimetype": "text/x-python",
   "name": "python",
   "nbconvert_exporter": "python",
   "pygments_lexer": "ipython3",
   "version": "3.10.10"
  }
 },
 "nbformat": 4,
 "nbformat_minor": 5
}
