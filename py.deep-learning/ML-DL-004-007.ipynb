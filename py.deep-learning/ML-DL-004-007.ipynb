{
 "cells": [
  {
   "cell_type": "markdown",
   "id": "c9d354a4-f694-458f-9c89-0c632ee15648",
   "metadata": {},
   "source": [
    "# py.deep-learning\n",
    "\n",
    "    Python Version:    Python 3.10.9\n",
    "    Conda Version:     conda 23.1.0\n",
    "    Conda Environment: jup\n",
    "    Conda Path:        $HOME/.conda/envs/jup\n"
   ]
  },
  {
   "cell_type": "code",
   "execution_count": 1,
   "id": "ebab4413-85c4-4117-932e-54e2b15dc9cc",
   "metadata": {},
   "outputs": [
    {
     "name": "stderr",
     "output_type": "stream",
     "text": [
      "2023-03-27 07:49:30.316039: I tensorflow/core/platform/cpu_feature_guard.cc:193] This TensorFlow binary is optimized with oneAPI Deep Neural Network Library (oneDNN) to use the following CPU instructions in performance-critical operations:  SSE4.1 SSE4.2 AVX AVX2 FMA\n",
      "To enable them in other operations, rebuild TensorFlow with the appropriate compiler flags.\n"
     ]
    }
   ],
   "source": [
    "import math\n",
    "import numpy as np\n",
    "import matplotlib.pyplot as plt\n",
    "import tensorflow as tf\n",
    "from tensorflow import keras\n",
    "%matplotlib inline"
   ]
  },
  {
   "cell_type": "code",
   "execution_count": 2,
   "id": "9bfc31cb-c45d-4c63-8e4b-871ba3616e92",
   "metadata": {},
   "outputs": [],
   "source": [
    "mnist = keras.datasets.mnist\n",
    "\n",
    "(xtrain_full, ytrain_full), (xtest, ytest) = mnist.load_data();"
   ]
  },
  {
   "cell_type": "code",
   "execution_count": 3,
   "id": "48da3c2d-2498-4c7e-99ad-6b3aeaa88658",
   "metadata": {},
   "outputs": [
    {
     "data": {
      "text/plain": [
       "(10000, 28, 28)"
      ]
     },
     "execution_count": 3,
     "metadata": {},
     "output_type": "execute_result"
    }
   ],
   "source": [
    "xtest.shape"
   ]
  },
  {
   "cell_type": "code",
   "execution_count": 4,
   "id": "be3e8b4d-6401-47b3-b858-b8b113591808",
   "metadata": {},
   "outputs": [
    {
     "data": {
      "text/plain": [
       "array([[  0,   0,   0,   0,   0,   0,   0,   0,   0,   0,   0,   0,   0,\n",
       "          0,   0,   0,   0,   0,   0,   0,   0,   0,   0,   0,   0,   0,\n",
       "          0,   0],\n",
       "       [  0,   0,   0,   0,   0,   0,   0,   0,   0,   0,   0,   0,   0,\n",
       "          0,   0,   0,   0,   0,   0,   0,   0,   0,   0,   0,   0,   0,\n",
       "          0,   0],\n",
       "       [  0,   0,   0,   0,   0,   0,   0,   0,   0,   0,   0,   0,   0,\n",
       "          0,   0,   0,   0,   0,   0,   0,   0,   0,   0,   0,   0,   0,\n",
       "          0,   0],\n",
       "       [  0,   0,   0,   0,   0,   0,   0,   0,   0,   0,   0,   0,   0,\n",
       "          0,   0,   0,   0,   0,   0,   0,   0,   0,   0,   0,   0,   0,\n",
       "          0,   0],\n",
       "       [  0,   0,   0,   0,   0,   0,   0,   0,   0,   0,   0,   0,   0,\n",
       "          0,   0,   0,   0,   0,   0,   0,   0,   0,   0,   0,   0,   0,\n",
       "          0,   0],\n",
       "       [  0,   0,   0,   0,   0,   0,   0,   0,   0,   0,   0,   0,   3,\n",
       "         18,  18,  18, 126, 136, 175,  26, 166, 255, 247, 127,   0,   0,\n",
       "          0,   0],\n",
       "       [  0,   0,   0,   0,   0,   0,   0,   0,  30,  36,  94, 154, 170,\n",
       "        253, 253, 253, 253, 253, 225, 172, 253, 242, 195,  64,   0,   0,\n",
       "          0,   0],\n",
       "       [  0,   0,   0,   0,   0,   0,   0,  49, 238, 253, 253, 253, 253,\n",
       "        253, 253, 253, 253, 251,  93,  82,  82,  56,  39,   0,   0,   0,\n",
       "          0,   0],\n",
       "       [  0,   0,   0,   0,   0,   0,   0,  18, 219, 253, 253, 253, 253,\n",
       "        253, 198, 182, 247, 241,   0,   0,   0,   0,   0,   0,   0,   0,\n",
       "          0,   0],\n",
       "       [  0,   0,   0,   0,   0,   0,   0,   0,  80, 156, 107, 253, 253,\n",
       "        205,  11,   0,  43, 154,   0,   0,   0,   0,   0,   0,   0,   0,\n",
       "          0,   0],\n",
       "       [  0,   0,   0,   0,   0,   0,   0,   0,   0,  14,   1, 154, 253,\n",
       "         90,   0,   0,   0,   0,   0,   0,   0,   0,   0,   0,   0,   0,\n",
       "          0,   0],\n",
       "       [  0,   0,   0,   0,   0,   0,   0,   0,   0,   0,   0, 139, 253,\n",
       "        190,   2,   0,   0,   0,   0,   0,   0,   0,   0,   0,   0,   0,\n",
       "          0,   0],\n",
       "       [  0,   0,   0,   0,   0,   0,   0,   0,   0,   0,   0,  11, 190,\n",
       "        253,  70,   0,   0,   0,   0,   0,   0,   0,   0,   0,   0,   0,\n",
       "          0,   0],\n",
       "       [  0,   0,   0,   0,   0,   0,   0,   0,   0,   0,   0,   0,  35,\n",
       "        241, 225, 160, 108,   1,   0,   0,   0,   0,   0,   0,   0,   0,\n",
       "          0,   0],\n",
       "       [  0,   0,   0,   0,   0,   0,   0,   0,   0,   0,   0,   0,   0,\n",
       "         81, 240, 253, 253, 119,  25,   0,   0,   0,   0,   0,   0,   0,\n",
       "          0,   0],\n",
       "       [  0,   0,   0,   0,   0,   0,   0,   0,   0,   0,   0,   0,   0,\n",
       "          0,  45, 186, 253, 253, 150,  27,   0,   0,   0,   0,   0,   0,\n",
       "          0,   0],\n",
       "       [  0,   0,   0,   0,   0,   0,   0,   0,   0,   0,   0,   0,   0,\n",
       "          0,   0,  16,  93, 252, 253, 187,   0,   0,   0,   0,   0,   0,\n",
       "          0,   0],\n",
       "       [  0,   0,   0,   0,   0,   0,   0,   0,   0,   0,   0,   0,   0,\n",
       "          0,   0,   0,   0, 249, 253, 249,  64,   0,   0,   0,   0,   0,\n",
       "          0,   0],\n",
       "       [  0,   0,   0,   0,   0,   0,   0,   0,   0,   0,   0,   0,   0,\n",
       "          0,  46, 130, 183, 253, 253, 207,   2,   0,   0,   0,   0,   0,\n",
       "          0,   0],\n",
       "       [  0,   0,   0,   0,   0,   0,   0,   0,   0,   0,   0,   0,  39,\n",
       "        148, 229, 253, 253, 253, 250, 182,   0,   0,   0,   0,   0,   0,\n",
       "          0,   0],\n",
       "       [  0,   0,   0,   0,   0,   0,   0,   0,   0,   0,  24, 114, 221,\n",
       "        253, 253, 253, 253, 201,  78,   0,   0,   0,   0,   0,   0,   0,\n",
       "          0,   0],\n",
       "       [  0,   0,   0,   0,   0,   0,   0,   0,  23,  66, 213, 253, 253,\n",
       "        253, 253, 198,  81,   2,   0,   0,   0,   0,   0,   0,   0,   0,\n",
       "          0,   0],\n",
       "       [  0,   0,   0,   0,   0,   0,  18, 171, 219, 253, 253, 253, 253,\n",
       "        195,  80,   9,   0,   0,   0,   0,   0,   0,   0,   0,   0,   0,\n",
       "          0,   0],\n",
       "       [  0,   0,   0,   0,  55, 172, 226, 253, 253, 253, 253, 244, 133,\n",
       "         11,   0,   0,   0,   0,   0,   0,   0,   0,   0,   0,   0,   0,\n",
       "          0,   0],\n",
       "       [  0,   0,   0,   0, 136, 253, 253, 253, 212, 135, 132,  16,   0,\n",
       "          0,   0,   0,   0,   0,   0,   0,   0,   0,   0,   0,   0,   0,\n",
       "          0,   0],\n",
       "       [  0,   0,   0,   0,   0,   0,   0,   0,   0,   0,   0,   0,   0,\n",
       "          0,   0,   0,   0,   0,   0,   0,   0,   0,   0,   0,   0,   0,\n",
       "          0,   0],\n",
       "       [  0,   0,   0,   0,   0,   0,   0,   0,   0,   0,   0,   0,   0,\n",
       "          0,   0,   0,   0,   0,   0,   0,   0,   0,   0,   0,   0,   0,\n",
       "          0,   0],\n",
       "       [  0,   0,   0,   0,   0,   0,   0,   0,   0,   0,   0,   0,   0,\n",
       "          0,   0,   0,   0,   0,   0,   0,   0,   0,   0,   0,   0,   0,\n",
       "          0,   0]], dtype=uint8)"
      ]
     },
     "execution_count": 4,
     "metadata": {},
     "output_type": "execute_result"
    }
   ],
   "source": [
    "xtrain_full[0]"
   ]
  },
  {
   "cell_type": "code",
   "execution_count": 5,
   "id": "c7861907-c577-4b33-8b24-56b361212c6b",
   "metadata": {},
   "outputs": [
    {
     "data": {
      "text/plain": [
       "(60000, 28, 28)"
      ]
     },
     "execution_count": 5,
     "metadata": {},
     "output_type": "execute_result"
    }
   ],
   "source": [
    "xtrain_full.shape"
   ]
  },
  {
   "cell_type": "code",
   "execution_count": 6,
   "id": "0b85ed15-81ce-4b3e-973d-3e86e87e37b2",
   "metadata": {},
   "outputs": [
    {
     "data": {
      "text/plain": [
       "(60000,)"
      ]
     },
     "execution_count": 6,
     "metadata": {},
     "output_type": "execute_result"
    }
   ],
   "source": [
    "ytrain_full.shape"
   ]
  },
  {
   "cell_type": "code",
   "execution_count": 7,
   "id": "bb171687-a4b7-4a77-86ad-34e313485394",
   "metadata": {},
   "outputs": [
    {
     "data": {
      "image/png": "[encoded data removed]",
      "text/plain": [
       "<Figure size 1000x1000 with 9 Axes>"
      ]
     },
     "metadata": {},
     "output_type": "display_data"
    }
   ],
   "source": [
    "fig, axes = plt.subplots(nrows = 3, ncols=3, figsize=(10,10))\n",
    "a = 0\n",
    "\n",
    "for i in range(3):\n",
    "    for j in range(3):\n",
    "        axes[i, j].imshow(xtrain_full[a])\n",
    "        a = a + 1\n",
    "\n",
    "plt.show()"
   ]
  },
  {
   "cell_type": "code",
   "execution_count": 8,
   "id": "7d4e84ac-cf01-430d-9beb-b253d8a7bbce",
   "metadata": {},
   "outputs": [],
   "source": [
    "# Normalization\n",
    "\n",
    "xvalid, xtrain = xtrain_full[:5000] / 255, xtrain_full[5000:] / 255\n",
    "yvalid, ytrain = ytrain_full[:5000], ytrain_full[5000:]\n",
    "xtest = xtest / 255"
   ]
  },
  {
   "cell_type": "code",
   "execution_count": 32,
   "id": "f3b1c25a-b16f-421b-b0b7-f1ee7fdaf7a5",
   "metadata": {},
   "outputs": [
    {
     "data": {
      "text/plain": [
       "'[0 1 2 3 4 5 6 7 8 9]'"
      ]
     },
     "execution_count": 32,
     "metadata": {},
     "output_type": "execute_result"
    }
   ],
   "source": [
    "class_names = np.array2string(np.arange(10))\n",
    "class_names # not what we want"
   ]
  },
  {
   "cell_type": "code",
   "execution_count": 33,
   "id": "d43f43fb-ed30-47d4-aa64-7c3ca6178d11",
   "metadata": {},
   "outputs": [
    {
     "data": {
      "text/plain": [
       "array(['0', '1', '2', '3', '4', '5', '6', '7', '8', '9'], dtype='<U21')"
      ]
     },
     "execution_count": 33,
     "metadata": {},
     "output_type": "execute_result"
    }
   ],
   "source": [
    "class_names = np.arange(10).astype(str)\n",
    "class_names"
   ]
  },
  {
   "cell_type": "code",
   "execution_count": 11,
   "id": "4c77925f-14d8-47c5-8218-61b335c63f01",
   "metadata": {},
   "outputs": [
    {
     "data": {
      "text/plain": [
       "(array([7, 2, 1, ..., 4, 5, 6], dtype=uint8), (10000,), 3)"
      ]
     },
     "execution_count": 11,
     "metadata": {},
     "output_type": "execute_result"
    }
   ],
   "source": [
    "ytest, ytest.shape, ytrain[1]"
   ]
  },
  {
   "cell_type": "code",
   "execution_count": 12,
   "id": "0247de08-92b6-4eba-9068-057502fa2805",
   "metadata": {},
   "outputs": [
    {
     "data": {
      "text/plain": [
       "<matplotlib.image.AxesImage at 0x7f2d4db0f5e0>"
      ]
     },
     "execution_count": 12,
     "metadata": {},
     "output_type": "execute_result"
    },
    {
     "data": {
      "image/png": "[encoded data removed]",
      "text/plain": [
       "<Figure size 640x480 with 1 Axes>"
      ]
     },
     "metadata": {},
     "output_type": "display_data"
    }
   ],
   "source": [
    "plt.imshow(xtrain[1])"
   ]
  },
  {
   "cell_type": "code",
   "execution_count": 13,
   "id": "167b18a1-d2a8-4eba-81fd-2052b4aa09c8",
   "metadata": {},
   "outputs": [
    {
     "data": {
      "text/plain": [
       "(3, '3')"
      ]
     },
     "execution_count": 13,
     "metadata": {},
     "output_type": "execute_result"
    }
   ],
   "source": [
    "ytrain[1], class_names[ytrain[1]]"
   ]
  },
  {
   "cell_type": "code",
   "execution_count": 15,
   "id": "c62002e0-4ae0-4ceb-a773-51662bd90fc4",
   "metadata": {},
   "outputs": [],
   "source": [
    "model = keras.models.Sequential()\n",
    "\n",
    "model.add(keras.layers.Flatten(input_shape=[28, 28]))\n",
    "model.add(keras.layers.Dense(300, activation=\"relu\"))\n",
    "model.add(keras.layers.Dense(100, activation=\"relu\"))\n",
    "model.add(keras.layers.Dense(10, activation=\"softmax\"))\n",
    "\n"
   ]
  },
  {
   "cell_type": "markdown",
   "id": "d1d6e7ca-ce81-4ae3-8a59-915a2bfa3b0c",
   "metadata": {},
   "source": [
    "Sigmoid and Softmax are both activation functions in neural networks, but they have some differences:\n",
    "\n",
    "Sigmoid:\n",
    "\n",
    "It takes any input value and squeezes it into a range between 0 and 1.\n",
    "It is mostly used in binary classification problems as it can produce a probability score for the positive class.\n",
    "It can cause the vanishing gradient problem and become less effective with very large or very small inputs.\n",
    "Softmax:\n",
    "\n",
    "It also converts input values into a range between 0 and 1, but it ensures that the values add up to 1 across all classes.\n",
    "It is used for multi-class classification problems as it can produce a probability distribution across all classes.\n",
    "It can handle large inputs well and is more effective for problems with more than two classes.\n",
    "In summary, both sigmoid and softmax are activation functions that convert input values into a range between 0 and 1, but sigmoid is mostly used for binary classification, while softmax is used for multi-class classification.\n",
    "\n",
    "\n",
    "The mathematical formulas for Sigmoid and Softmax are as follows:\n",
    "\n",
    "Sigmoid:\n",
    "\n",
    "sigmoid(x) = 1 / (1 + e^-x)\n",
    "\n",
    "Where 'x' is the input value.\n",
    "\n",
    "Softmax:\n",
    "\n",
    "softmax(x_i) = e^(x_i) / (e^(x_1) + e^(x_2) + ... + e^(x_n))\n",
    "\n",
    "Where 'x_i' is the input value of the i-th class, and 'n' is the total number of classes. The softmax function takes the exponent of the input values and normalizes the values by dividing them by the sum of all the exponentiated input values. This results in a probability distribution across all the classes that adds up to 1."
   ]
  },
  {
   "cell_type": "code",
   "execution_count": 17,
   "id": "b7dd4f96-83aa-4aca-843f-6b86aa19a5b9",
   "metadata": {},
   "outputs": [
    {
     "name": "stdout",
     "output_type": "stream",
     "text": [
      "Model: \"sequential_1\"\n",
      "_________________________________________________________________\n",
      " Layer (type)                Output Shape              Param #   \n",
      "=================================================================\n",
      " flatten_1 (Flatten)         (None, 784)               0         \n",
      "                                                                 \n",
      " dense_3 (Dense)             (None, 300)               235500    \n",
      "                                                                 \n",
      " dense_4 (Dense)             (None, 100)               30100     \n",
      "                                                                 \n",
      " dense_5 (Dense)             (None, 10)                1010      \n",
      "                                                                 \n",
      "=================================================================\n",
      "Total params: 266,610\n",
      "Trainable params: 266,610\n",
      "Non-trainable params: 0\n",
      "_________________________________________________________________\n"
     ]
    }
   ],
   "source": [
    "model.summary()"
   ]
  },
  {
   "cell_type": "code",
   "execution_count": 18,
   "id": "cf2bd800-d4c0-4a6c-82ad-70860a99020b",
   "metadata": {},
   "outputs": [
    {
     "data": {
      "text/plain": [
       "[<keras.layers.reshaping.flatten.Flatten at 0x7f2d2d248e80>,\n",
       " <keras.layers.core.dense.Dense at 0x7f2d2d402fe0>,\n",
       " <keras.layers.core.dense.Dense at 0x7f2d2d24aad0>,\n",
       " <keras.layers.core.dense.Dense at 0x7f2d2d4f8dc0>]"
      ]
     },
     "execution_count": 18,
     "metadata": {},
     "output_type": "execute_result"
    }
   ],
   "source": [
    "model.layers"
   ]
  },
  {
   "cell_type": "markdown",
   "id": "91094006-0460-4225-bff2-9cc38eef1343",
   "metadata": {},
   "source": [
    "## Available losses\n",
    "\n",
    "\n",
    "Probabilistic losses\n",
    "\n",
    "    BinaryCrossentropy class\n",
    "    CategoricalCrossentropy class\n",
    "    SparseCategoricalCrossentropy class\n",
    "    Poisson class\n",
    "    binary_crossentropy function\n",
    "    categorical_crossentropy function\n",
    "    sparse_categorical_crossentropy function\n",
    "    poisson function\n",
    "    KLDivergence class\n",
    "    kl_divergence function\n",
    "\n",
    "Regression losses\n",
    "\n",
    "    MeanSquaredError class\n",
    "    MeanAbsoluteError class\n",
    "    MeanAbsolutePercentageError class\n",
    "    MeanSquaredLogarithmicError class\n",
    "    CosineSimilarity class\n",
    "    mean_squared_error function\n",
    "    mean_absolute_error function\n",
    "    mean_absolute_percentage_error function\n",
    "    mean_squared_logarithmic_error function\n",
    "    cosine_similarity function\n",
    "    Huber class\n",
    "    huber function\n",
    "    LogCosh class\n",
    "    log_cosh function\n",
    "\n",
    "Hinge losses for \"maximum-margin\" classification\n",
    "\n",
    "    Hinge class\n",
    "    SquaredHinge class\n",
    "    CategoricalHinge class\n",
    "    hinge function\n",
    "    squared_hinge function\n",
    "    categorical_hinge function\n"
   ]
  },
  {
   "cell_type": "markdown",
   "id": "43f6e258-7e4c-47d9-b1dd-35b9d73cdcf2",
   "metadata": {},
   "source": [
    "https://keras.io/api/losses/\n",
    "\n",
    "https://keras.io/api/optimizers/#available-optimizers\n",
    "\n",
    "https://keras.io/api/metrics\n"
   ]
  },
  {
   "cell_type": "markdown",
   "id": "beef57c3-9501-46a6-b8fa-7d7b31d9451f",
   "metadata": {},
   "source": [
    "## Available optimizers\n",
    "\n",
    "    SGD\n",
    "    RMSprop\n",
    "    Adam\n",
    "    AdamW\n",
    "    Adadelta\n",
    "    Adagrad\n",
    "    Adamax\n",
    "    Adafactor\n",
    "    Nadam\n",
    "    Ftrl\n"
   ]
  },
  {
   "cell_type": "markdown",
   "id": "74bbb479-cf1f-4bbc-9f1c-39b71ac1dc26",
   "metadata": {},
   "source": [
    "## Available metrics\n",
    "\n",
    "\n",
    "Accuracy metrics\n",
    "\n",
    "    Accuracy class\n",
    "    BinaryAccuracy class\n",
    "    CategoricalAccuracy class\n",
    "    SparseCategoricalAccuracy class\n",
    "    TopKCategoricalAccuracy class\n",
    "    SparseTopKCategoricalAccuracy class\n",
    "\n",
    "Probabilistic metrics\n",
    "\n",
    "    BinaryCrossentropy class\n",
    "    CategoricalCrossentropy class\n",
    "    SparseCategoricalCrossentropy class\n",
    "    KLDivergence class\n",
    "    Poisson class\n",
    "\n",
    "Regression metrics\n",
    "\n",
    "    MeanSquaredError class\n",
    "    RootMeanSquaredError class\n",
    "    MeanAbsoluteError class\n",
    "    MeanAbsolutePercentageError class\n",
    "    MeanSquaredLogarithmicError class\n",
    "    CosineSimilarity class\n",
    "    LogCoshError class\n",
    "\n",
    "Classification metrics based on True/False positives & negatives\n",
    "\n",
    "    AUC class\n",
    "    Precision class\n",
    "    Recall class\n",
    "    TruePositives class\n",
    "    TrueNegatives class\n",
    "    FalsePositives class\n",
    "    FalseNegatives class\n",
    "    PrecisionAtRecall class\n",
    "    SensitivityAtSpecificity class\n",
    "    SpecificityAtSensitivity class\n",
    "\n",
    "Image segmentation metrics\n",
    "\n",
    "    MeanIoU class\n",
    "\n",
    "Hinge metrics for \"maximum-margin\" classification\n",
    "\n",
    "    Hinge class\n",
    "    SquaredHinge class\n",
    "    CategoricalHinge class\n"
   ]
  },
  {
   "cell_type": "code",
   "execution_count": 21,
   "id": "8a321c3d-aee0-475e-8302-a4cc8655c331",
   "metadata": {},
   "outputs": [],
   "source": [
    "model.compile(\n",
    "    loss=\"sparse_categorical_crossentropy\",\n",
    "    optimizer=\"sgd\", # stochastic gradient descent\n",
    "    metrics=[\"accuracy\"])"
   ]
  },
  {
   "cell_type": "code",
   "execution_count": 22,
   "id": "42c040bb-cd42-46c8-b6c6-0d844f055493",
   "metadata": {},
   "outputs": [
    {
     "name": "stdout",
     "output_type": "stream",
     "text": [
      "Epoch 1/30\n",
      "1719/1719 [==============================] - 32s 18ms/step - loss: 0.5899 - accuracy: 0.8479 - val_loss: 0.3112 - val_accuracy: 0.9114\n",
      "Epoch 2/30\n",
      "1719/1719 [==============================] - 43s 25ms/step - loss: 0.2895 - accuracy: 0.9168 - val_loss: 0.2404 - val_accuracy: 0.9318\n",
      "Epoch 3/30\n",
      "1719/1719 [==============================] - 48s 28ms/step - loss: 0.2380 - accuracy: 0.9316 - val_loss: 0.2032 - val_accuracy: 0.9434\n",
      "Epoch 4/30\n",
      "1719/1719 [==============================] - 49s 28ms/step - loss: 0.2028 - accuracy: 0.9418 - val_loss: 0.1797 - val_accuracy: 0.9502\n",
      "Epoch 5/30\n",
      "1719/1719 [==============================] - 47s 27ms/step - loss: 0.1763 - accuracy: 0.9495 - val_loss: 0.1626 - val_accuracy: 0.9542\n",
      "Epoch 6/30\n",
      "1719/1719 [==============================] - 32s 19ms/step - loss: 0.1562 - accuracy: 0.9554 - val_loss: 0.1481 - val_accuracy: 0.9590\n",
      "Epoch 7/30\n",
      "1719/1719 [==============================] - 50s 29ms/step - loss: 0.1395 - accuracy: 0.9605 - val_loss: 0.1345 - val_accuracy: 0.9612\n",
      "Epoch 8/30\n",
      "1719/1719 [==============================] - 31s 18ms/step - loss: 0.1259 - accuracy: 0.9645 - val_loss: 0.1262 - val_accuracy: 0.9648\n",
      "Epoch 9/30\n",
      "1719/1719 [==============================] - 43s 25ms/step - loss: 0.1145 - accuracy: 0.9680 - val_loss: 0.1148 - val_accuracy: 0.9662\n",
      "Epoch 10/30\n",
      "1719/1719 [==============================] - 58s 34ms/step - loss: 0.1045 - accuracy: 0.9706 - val_loss: 0.1119 - val_accuracy: 0.9704\n",
      "Epoch 11/30\n",
      "1719/1719 [==============================] - 52s 30ms/step - loss: 0.0966 - accuracy: 0.9732 - val_loss: 0.1066 - val_accuracy: 0.9710\n",
      "Epoch 12/30\n",
      "1719/1719 [==============================] - 53s 31ms/step - loss: 0.0889 - accuracy: 0.9754 - val_loss: 0.0992 - val_accuracy: 0.9732\n",
      "Epoch 13/30\n",
      "1719/1719 [==============================] - 56s 33ms/step - loss: 0.0823 - accuracy: 0.9773 - val_loss: 0.0952 - val_accuracy: 0.9726\n",
      "Epoch 14/30\n",
      "1719/1719 [==============================] - 54s 31ms/step - loss: 0.0763 - accuracy: 0.9789 - val_loss: 0.0902 - val_accuracy: 0.9758\n",
      "Epoch 15/30\n",
      "1719/1719 [==============================] - 35s 21ms/step - loss: 0.0707 - accuracy: 0.9805 - val_loss: 0.0925 - val_accuracy: 0.9754\n",
      "Epoch 16/30\n",
      "1719/1719 [==============================] - 42s 25ms/step - loss: 0.0661 - accuracy: 0.9823 - val_loss: 0.0875 - val_accuracy: 0.9752\n",
      "Epoch 17/30\n",
      "1719/1719 [==============================] - 55s 32ms/step - loss: 0.0620 - accuracy: 0.9833 - val_loss: 0.0829 - val_accuracy: 0.9766\n",
      "Epoch 18/30\n",
      "1719/1719 [==============================] - 50s 29ms/step - loss: 0.0579 - accuracy: 0.9840 - val_loss: 0.0820 - val_accuracy: 0.9770\n",
      "Epoch 19/30\n",
      "1719/1719 [==============================] - 41s 24ms/step - loss: 0.0541 - accuracy: 0.9857 - val_loss: 0.0835 - val_accuracy: 0.9766\n",
      "Epoch 20/30\n",
      "1719/1719 [==============================] - 50s 29ms/step - loss: 0.0509 - accuracy: 0.9865 - val_loss: 0.0790 - val_accuracy: 0.9784\n",
      "Epoch 21/30\n",
      "1719/1719 [==============================] - 52s 30ms/step - loss: 0.0480 - accuracy: 0.9874 - val_loss: 0.0760 - val_accuracy: 0.9784\n",
      "Epoch 22/30\n",
      "1719/1719 [==============================] - 53s 31ms/step - loss: 0.0450 - accuracy: 0.9881 - val_loss: 0.0759 - val_accuracy: 0.9788\n",
      "Epoch 23/30\n",
      "1719/1719 [==============================] - 45s 26ms/step - loss: 0.0425 - accuracy: 0.9889 - val_loss: 0.0742 - val_accuracy: 0.9792\n",
      "Epoch 24/30\n",
      "1719/1719 [==============================] - 33s 19ms/step - loss: 0.0401 - accuracy: 0.9898 - val_loss: 0.0739 - val_accuracy: 0.9794\n",
      "Epoch 25/30\n",
      "1719/1719 [==============================] - 34s 20ms/step - loss: 0.0377 - accuracy: 0.9902 - val_loss: 0.0762 - val_accuracy: 0.9776\n",
      "Epoch 26/30\n",
      "1719/1719 [==============================] - 33s 19ms/step - loss: 0.0355 - accuracy: 0.9917 - val_loss: 0.0714 - val_accuracy: 0.9798\n",
      "Epoch 27/30\n",
      "1719/1719 [==============================] - 33s 19ms/step - loss: 0.0336 - accuracy: 0.9919 - val_loss: 0.0717 - val_accuracy: 0.9798\n",
      "Epoch 28/30\n",
      "1719/1719 [==============================] - 33s 19ms/step - loss: 0.0317 - accuracy: 0.9921 - val_loss: 0.0711 - val_accuracy: 0.9796\n",
      "Epoch 29/30\n",
      "1719/1719 [==============================] - 34s 20ms/step - loss: 0.0299 - accuracy: 0.9930 - val_loss: 0.0727 - val_accuracy: 0.9786\n",
      "Epoch 30/30\n",
      "1719/1719 [==============================] - 32s 19ms/step - loss: 0.0283 - accuracy: 0.9933 - val_loss: 0.0704 - val_accuracy: 0.9788\n"
     ]
    }
   ],
   "source": [
    "# batch = the batch size is a hyperparameter that defines the number of samples to work through before updateing the internal model parameters\n",
    "# epochs = ho many times to do a pass over all the dataset\n",
    "\n",
    "history = model.fit(\n",
    "    xtrain, ytrain,\n",
    "    epochs=30,\n",
    "    validation_data=(xvalid, yvalid),\n",
    "    batch_size=32)"
   ]
  },
  {
   "cell_type": "code",
   "execution_count": 23,
   "id": "a10ecf0a-aa73-4668-851f-c2b74a80fe9c",
   "metadata": {},
   "outputs": [
    {
     "data": {
      "image/png": "[encoded data removed]",
      "text/plain": [
       "<Figure size 1500x800 with 1 Axes>"
      ]
     },
     "metadata": {},
     "output_type": "display_data"
    }
   ],
   "source": [
    "import pandas as pd\n",
    "\n",
    "pd.DataFrame(history.history).plot(figsize=(15, 8))\n",
    "plt.grid(True)\n",
    "plt.gca().set_ylim(0, 1)\n",
    "plt.show()"
   ]
  },
  {
   "cell_type": "code",
   "execution_count": 24,
   "id": "527a8a29-4818-4864-842c-22ae5be5f2f1",
   "metadata": {},
   "outputs": [
    {
     "name": "stdout",
     "output_type": "stream",
     "text": [
      "313/313 [==============================] - 3s 10ms/step - loss: 0.0691 - accuracy: 0.9785\n"
     ]
    },
    {
     "data": {
      "text/plain": [
       "[0.0691167563199997, 0.9785000085830688]"
      ]
     },
     "execution_count": 24,
     "metadata": {},
     "output_type": "execute_result"
    }
   ],
   "source": [
    "model.evaluate(xtest, ytest)"
   ]
  },
  {
   "cell_type": "code",
   "execution_count": 25,
   "id": "0ab3e58a-faa8-4a52-bb1a-2a59e75f70d9",
   "metadata": {},
   "outputs": [
    {
     "name": "stdout",
     "output_type": "stream",
     "text": [
      "313/313 [==============================] - 3s 11ms/step\n"
     ]
    },
    {
     "data": {
      "text/plain": [
       "array([[2.1107815e-06, 8.9430628e-08, 4.1715804e-05, ..., 9.9956948e-01,\n",
       "        6.4995938e-06, 2.6668493e-05],\n",
       "       [2.3570240e-07, 3.0872368e-05, 9.9993861e-01, ..., 6.4395733e-12,\n",
       "        1.1854762e-06, 3.9499681e-13],\n",
       "       [2.1512117e-06, 9.9720985e-01, 2.1027424e-04, ..., 1.0377206e-03,\n",
       "        9.8103168e-04, 7.5740131e-06],\n",
       "       ...,\n",
       "       [8.2555577e-12, 3.4941069e-10, 3.5308198e-10, ..., 2.3667692e-06,\n",
       "        3.4803722e-06, 6.0834209e-06],\n",
       "       [3.0181749e-07, 2.8423570e-09, 1.5062771e-09, ..., 7.1067535e-10,\n",
       "        5.9821283e-05, 5.7189392e-10],\n",
       "       [9.8445426e-08, 7.4211431e-10, 1.2034350e-07, ..., 4.7437564e-13,\n",
       "        1.0180773e-09, 4.7375703e-10]], dtype=float32)"
      ]
     },
     "execution_count": 25,
     "metadata": {},
     "output_type": "execute_result"
    }
   ],
   "source": [
    "model.predict(xtest) # gives a probablity of each number"
   ]
  },
  {
   "cell_type": "code",
   "execution_count": 26,
   "id": "51bce053-cfb9-42fa-a533-ac1fc202bf5a",
   "metadata": {},
   "outputs": [
    {
     "name": "stdout",
     "output_type": "stream",
     "text": [
      "313/313 [==============================] - 3s 8ms/step\n"
     ]
    },
    {
     "data": {
      "text/plain": [
       "array([7, 2, 1, ..., 4, 5, 6])"
      ]
     },
     "execution_count": 26,
     "metadata": {},
     "output_type": "execute_result"
    }
   ],
   "source": [
    "yprob = model.predict(xtest)\n",
    "yclasses = yprob.argmax(axis=-1)\n",
    "yclasses"
   ]
  },
  {
   "cell_type": "code",
   "execution_count": 36,
   "id": "5391e9a2-13ea-42f7-afab-8edda983bf9d",
   "metadata": {},
   "outputs": [
    {
     "data": {
      "text/plain": [
       "<tf.Tensor: shape=(10, 10), dtype=int32, numpy=\n",
       "array([[ 966,    1,    2,    0,    1,    4,    3,    1,    1,    1],\n",
       "       [   0, 1122,    2,    1,    0,    0,    3,    2,    5,    0],\n",
       "       [   2,    3, 1012,    1,    1,    0,    3,    8,    2,    0],\n",
       "       [   0,    0,    5,  992,    0,    5,    0,    4,    2,    2],\n",
       "       [   2,    0,    4,    1,  956,    0,    1,    3,    0,   15],\n",
       "       [   2,    0,    0,    8,    1,  871,    5,    1,    3,    1],\n",
       "       [   5,    3,    0,    1,    5,    5,  936,    0,    3,    0],\n",
       "       [   1,    5,    6,    2,    0,    0,    0, 1005,    2,    7],\n",
       "       [   5,    0,    3,    7,    4,    3,    5,    3,  942,    2],\n",
       "       [   2,    3,    0,    6,    5,    0,    2,    7,    1,  983]],\n",
       "      dtype=int32)>"
      ]
     },
     "execution_count": 36,
     "metadata": {},
     "output_type": "execute_result"
    }
   ],
   "source": [
    "confusion_matrix = tf.math.confusion_matrix(ytest, yclasses)\n",
    "confusion_matrix"
   ]
  },
  {
   "cell_type": "code",
   "execution_count": 37,
   "id": "1eeb5420-c00c-4b5b-9a19-89d2ec1683ea",
   "metadata": {},
   "outputs": [
    {
     "data": {
      "image/png": "[encoded data removed]",
      "text/plain": [
       "<Figure size 1000x1000 with 2 Axes>"
      ]
     },
     "metadata": {},
     "output_type": "display_data"
    }
   ],
   "source": [
    "import seaborn as sb\n",
    "\n",
    "fig = sb.heatmap(confusion_matrix,\n",
    "                 annot=True,   # To annotate cells\n",
    "                 fmt='g',      # Disable something :)\n",
    "                 cmap='Greens')\n",
    "\n",
    "fig.set_xlabel('Predicted labels')\n",
    "fig.set_ylabel('True labels')\n",
    "fig.xaxis.set_ticklabels(class_names)\n",
    "fig.yaxis.set_ticklabels(class_names)\n",
    "fig.figure.set_size_inches(10, 10)\n",
    "\n",
    "plt.show()"
   ]
  },
  {
   "cell_type": "code",
   "execution_count": null,
   "id": "58679a6c-b36c-4955-b216-7c8a06505d1d",
   "metadata": {},
   "outputs": [],
   "source": []
  }
 ],
 "metadata": {
  "kernelspec": {
   "display_name": "Python 3 (ipykernel)",
   "language": "python",
   "name": "python3"
  },
  "language_info": {
   "codemirror_mode": {
    "name": "ipython",
    "version": 3
   },
   "file_extension": ".py",
   "mimetype": "text/x-python",
   "name": "python",
   "nbconvert_exporter": "python",
   "pygments_lexer": "ipython3",
   "version": "3.10.9"
  }
 },
 "nbformat": 4,
 "nbformat_minor": 5
}
