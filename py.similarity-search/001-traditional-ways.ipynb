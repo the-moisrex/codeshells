{
 "cells": [
  {
   "cell_type": "markdown",
   "id": "1fc08f0ea1bbbaf7",
   "metadata": {},
   "source": [
    "# Traditional Ways for similarity search\n",
    "\n",
    "- Jaccard Similarity\n",
    "- W-Shingling\n",
    "- Levenshtein\n"
   ]
  }
 ],
 "metadata": {
  "kernelspec": {
   "display_name": "Python 3 (ipykernel)",
   "language": "python",
   "name": "python3"
  },
  "language_info": {
   "codemirror_mode": {
    "name": "ipython",
    "version": 3
   },
   "file_extension": ".py",
   "mimetype": "text/x-python",
   "name": "python",
   "nbconvert_exporter": "python",
   "pygments_lexer": "ipython3",
   "version": "3.13.3"
  }
 },
 "nbformat": 4,
 "nbformat_minor": 5
}
