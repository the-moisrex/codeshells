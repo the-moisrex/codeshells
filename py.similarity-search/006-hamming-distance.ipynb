{
 "cells": [
  {
   "metadata": {},
   "cell_type": "markdown",
   "source": [
    "# Hamming Distance\n",
    "\n",
    "The Hamming distance is a metric for comparing two strings or sequences of equal length. It measures the minimum number of substitutions required to change one string into the other. In other words, it counts the number of positions at which the corresponding symbols differ between the two strings.\n"
   ],
   "id": "cd1085c79b976c42"
  },
  {
   "metadata": {},
   "cell_type": "markdown",
   "source": [
    "## Definition and Concept\n",
    "\n",
    "The Hamming distance between two strings of equal length is the number of positions at which the corresponding symbols are different. It is named after Richard Hamming, who introduced the concept in his work on error-detecting and error-correcting codes.\n",
    "\n",
    "For two strings a and b of equal length, the Hamming distance d(a,b) is defined as:\n",
    "\n",
    "$$d(a,b) = \\sum_{i=1}^{n} \\delta(a_i, b_i)$$\n",
    "\n",
    "Where:\n",
    "- n is the length of the strings\n",
    "- δ(a_i, b_i) is 0 if a_i = b_i, and 1 otherwise\n",
    "\n",
    "For example, the Hamming distance between \"karolin\" and \"kathrin\" is 3, as they differ at positions 2, 3, and 5:\n",
    "- k**a**rolin\n",
    "- k**a**thrin\n",
    "\n",
    "### Mathematical Properties\n",
    "\n",
    "The Hamming distance satisfies the properties of a metric:\n",
    "1. **Non-negativity**: d(a,b) ≥ 0\n",
    "2. **Identity of indiscernibles**: d(a,b) = 0 if and only if a = b\n",
    "3. **Symmetry**: d(a,b) = d(b,a)\n",
    "4. **Triangle inequality**: d(a,c) ≤ d(a,b) + d(b,c)\n"
   ],
   "id": "9dbdb75ed3d88e84"
  },
  {
   "metadata": {
    "ExecuteTime": {
     "end_time": "2025-04-27T23:53:39.780273Z",
     "start_time": "2025-04-27T23:53:39.769883Z"
    }
   },
   "cell_type": "code",
   "source": [
    "# Basic implementation of Hamming distance\n",
    "def hamming_distance(str1, str2):\n",
    "    \"\"\"\n",
    "    Calculate the Hamming distance between two strings.\n",
    "\n",
    "    Parameters:\n",
    "    -----------\n",
    "    str1, str2 : str\n",
    "        The strings to compare (must be of equal length)\n",
    "\n",
    "    Returns:\n",
    "    --------\n",
    "    int\n",
    "        The Hamming distance\n",
    "\n",
    "    Raises:\n",
    "    -------\n",
    "    ValueError\n",
    "        If the strings have different lengths\n",
    "    \"\"\"\n",
    "    if len(str1) != len(str2):\n",
    "        raise ValueError(\"Strings must be of equal length\")\n",
    "\n",
    "    # Count the number of positions where characters differ\n",
    "    return sum(c1 != c2 for c1, c2 in zip(str1, str2))\n",
    "\n",
    "# Example usage\n",
    "examples = [\n",
    "    (\"karolin\", \"kathrin\"),\n",
    "    (\"1011101\", \"1001001\"),\n",
    "    (\"ATGCATGC\", \"ATGGATGC\"),\n",
    "    (\"hello\", \"hello\")\n",
    "]\n",
    "\n",
    "for str1, str2 in examples:\n",
    "    try:\n",
    "        distance = hamming_distance(str1, str2)\n",
    "        print(f\"Hamming distance between '{str1}' and '{str2}': {distance}\")\n",
    "    except ValueError as e:\n",
    "        print(f\"Error comparing '{str1}' and '{str2}': {e}\")\n"
   ],
   "id": "c158da6b241765cd",
   "outputs": [
    {
     "name": "stdout",
     "output_type": "stream",
     "text": [
      "Hamming distance between 'karolin' and 'kathrin': 3\n",
      "Hamming distance between '1011101' and '1001001': 2\n",
      "Hamming distance between 'ATGCATGC' and 'ATGGATGC': 1\n",
      "Hamming distance between 'hello' and 'hello': 0\n"
     ]
    }
   ],
   "execution_count": 1
  },
  {
   "metadata": {},
   "cell_type": "markdown",
   "source": [
    "## Bit-Level Implementation\n",
    "\n",
    "For binary strings or bit vectors, we can use bitwise operations to calculate the Hamming distance more efficiently:\n"
   ],
   "id": "37be37223fb87127"
  },
  {
   "metadata": {
    "ExecuteTime": {
     "end_time": "2025-04-27T23:53:39.915339Z",
     "start_time": "2025-04-27T23:53:39.912796Z"
    }
   },
   "cell_type": "code",
   "source": [
    "# Bit-level implementation for binary strings\n",
    "def hamming_distance_binary(bin1, bin2):\n",
    "    \"\"\"\n",
    "    Calculate the Hamming distance between two binary strings using bitwise operations.\n",
    "\n",
    "    Parameters:\n",
    "    -----------\n",
    "    bin1, bin2 : str\n",
    "        Binary strings (containing only '0's and '1's) of equal length\n",
    "\n",
    "    Returns:\n",
    "    --------\n",
    "    int\n",
    "        The Hamming distance\n",
    "    \"\"\"\n",
    "    if len(bin1) != len(bin2):\n",
    "        raise ValueError(\"Binary strings must be of equal length\")\n",
    "\n",
    "    # Convert to integers\n",
    "    int1 = int(bin1, 2)\n",
    "    int2 = int(bin2, 2)\n",
    "\n",
    "    # XOR will set bits to 1 where they differ\n",
    "    xor_result = int1 ^ int2\n",
    "\n",
    "    # Count the number of 1s in the XOR result\n",
    "    return bin(xor_result).count('1')\n",
    "\n",
    "# For integers directly\n",
    "def hamming_distance_int(x, y):\n",
    "    \"\"\"\n",
    "    Calculate the Hamming distance between the binary representations of two integers.\n",
    "\n",
    "    Parameters:\n",
    "    -----------\n",
    "    x, y : int\n",
    "        The integers to compare\n",
    "\n",
    "    Returns:\n",
    "    --------\n",
    "    int\n",
    "        The Hamming distance\n",
    "    \"\"\"\n",
    "    # XOR the integers and count the number of 1s in the result\n",
    "    return bin(x ^ y).count('1')\n",
    "\n",
    "# Example usage\n",
    "binary_examples = [\n",
    "    (\"1011101\", \"1001001\"),\n",
    "    (\"0000000\", \"1111111\"),\n",
    "    (\"10101010\", \"01010101\")\n",
    "]\n",
    "\n",
    "for bin1, bin2 in binary_examples:\n",
    "    try:\n",
    "        distance = hamming_distance_binary(bin1, bin2)\n",
    "        print(f\"Hamming distance between binary '{bin1}' and '{bin2}': {distance}\")\n",
    "    except ValueError as e:\n",
    "        print(f\"Error comparing '{bin1}' and '{bin2}': {e}\")\n",
    "\n",
    "# Integer examples\n",
    "int_examples = [\n",
    "    (25, 30),    # 11001 vs 11110\n",
    "    (8, 15),     # 1000 vs 1111\n",
    "    (123, 456)   # 1111011 vs 111001000\n",
    "]\n",
    "\n",
    "for x, y in int_examples:\n",
    "    distance = hamming_distance_int(x, y)\n",
    "    print(f\"Hamming distance between {x} ({bin(x)[2:]}) and {y} ({bin(y)[2:]}): {distance}\")\n"
   ],
   "id": "fe14d19c58812bc",
   "outputs": [
    {
     "name": "stdout",
     "output_type": "stream",
     "text": [
      "Hamming distance between binary '1011101' and '1001001': 2\n",
      "Hamming distance between binary '0000000' and '1111111': 7\n",
      "Hamming distance between binary '10101010' and '01010101': 8\n",
      "Hamming distance between 25 (11001) and 30 (11110): 3\n",
      "Hamming distance between 8 (1000) and 15 (1111): 3\n",
      "Hamming distance between 123 (1111011) and 456 (111001000): 6\n"
     ]
    }
   ],
   "execution_count": 2
  },
  {
   "metadata": {},
   "cell_type": "markdown",
   "source": [
    "## Handling Strings of Different Lengths\n",
    "\n",
    "The standard Hamming distance is only defined for strings of equal length. However, we can extend it to handle strings of different lengths in several ways:\n"
   ],
   "id": "120cfc59cb597ae"
  },
  {
   "metadata": {
    "ExecuteTime": {
     "end_time": "2025-04-27T23:53:39.992790Z",
     "start_time": "2025-04-27T23:53:39.988686Z"
    }
   },
   "cell_type": "code",
   "source": [
    "# Extended Hamming distance for strings of different lengths\n",
    "def extended_hamming_distance(str1, str2):\n",
    "    \"\"\"\n",
    "    Calculate an extended version of Hamming distance for strings of different lengths.\n",
    "\n",
    "    This implementation considers the minimum possible Hamming distance by:\n",
    "    1. Calculating the standard Hamming distance for the overlapping part\n",
    "    2. Adding the difference in lengths (which represents the minimum number of insertions/deletions)\n",
    "\n",
    "    Parameters:\n",
    "    -----------\n",
    "    str1, str2 : str\n",
    "        The strings to compare (can be of different lengths)\n",
    "\n",
    "    Returns:\n",
    "    --------\n",
    "    int\n",
    "        The extended Hamming distance\n",
    "    \"\"\"\n",
    "    # Calculate the standard Hamming distance for the overlapping part\n",
    "    min_length = min(len(str1), len(str2))\n",
    "    standard_distance = sum(c1 != c2 for c1, c2 in zip(str1[:min_length], str2[:min_length]))\n",
    "\n",
    "    # Add the difference in lengths\n",
    "    length_difference = abs(len(str1) - len(str2))\n",
    "\n",
    "    return standard_distance + length_difference\n",
    "\n",
    "# Example usage\n",
    "different_length_examples = [\n",
    "    (\"hamming\", \"ham\"),\n",
    "    (\"distance\", \"distant\"),\n",
    "    (\"algorithm\", \"logarithm\"),\n",
    "    (\"short\", \"very long string\")\n",
    "]\n",
    "\n",
    "for str1, str2 in different_length_examples:\n",
    "    distance = extended_hamming_distance(str1, str2)\n",
    "    print(f\"Extended Hamming distance between '{str1}' and '{str2}': {distance}\")\n"
   ],
   "id": "3eed8d63172d7ecd",
   "outputs": [
    {
     "name": "stdout",
     "output_type": "stream",
     "text": [
      "Extended Hamming distance between 'hamming' and 'ham': 4\n",
      "Extended Hamming distance between 'distance' and 'distant': 2\n",
      "Extended Hamming distance between 'algorithm' and 'logarithm': 3\n",
      "Extended Hamming distance between 'short' and 'very long string': 16\n"
     ]
    }
   ],
   "execution_count": 3
  },
  {
   "metadata": {},
   "cell_type": "markdown",
   "source": [
    "## Normalized Hamming Distance\n",
    "\n",
    "For comparing strings of equal length but different sizes, it's often useful to normalize the Hamming distance to a value between 0 and 1:\n"
   ],
   "id": "319f607aea98b3a"
  },
  {
   "metadata": {
    "ExecuteTime": {
     "end_time": "2025-04-27T23:53:40.040667Z",
     "start_time": "2025-04-27T23:53:40.038545Z"
    }
   },
   "cell_type": "code",
   "source": [
    "def normalized_hamming_distance(str1, str2):\n",
    "    \"\"\"\n",
    "    Calculate the normalized Hamming distance between two strings.\n",
    "\n",
    "    Parameters:\n",
    "    -----------\n",
    "    str1, str2 : str\n",
    "        The strings to compare (must be of equal length)\n",
    "\n",
    "    Returns:\n",
    "    --------\n",
    "    float\n",
    "        The normalized Hamming distance (between 0 and 1)\n",
    "    \"\"\"\n",
    "    if len(str1) != len(str2):\n",
    "        raise ValueError(\"Strings must be of equal length\")\n",
    "\n",
    "    if len(str1) == 0:\n",
    "        return 0.0  # Both strings are empty\n",
    "\n",
    "    # Calculate the absolute Hamming distance\n",
    "    distance = hamming_distance(str1, str2)\n",
    "\n",
    "    # Normalize by the length of the strings\n",
    "    return distance / len(str1)\n",
    "\n",
    "# Example usage\n",
    "for str1, str2 in examples:\n",
    "    try:\n",
    "        norm_distance = normalized_hamming_distance(str1, str2)\n",
    "        print(f\"Normalized Hamming distance between '{str1}' and '{str2}': {norm_distance:.4f}\")\n",
    "    except ValueError as e:\n",
    "        print(f\"Error comparing '{str1}' and '{str2}': {e}\")\n"
   ],
   "id": "1823c0419926dbea",
   "outputs": [
    {
     "name": "stdout",
     "output_type": "stream",
     "text": [
      "Normalized Hamming distance between 'karolin' and 'kathrin': 0.4286\n",
      "Normalized Hamming distance between '1011101' and '1001001': 0.2857\n",
      "Normalized Hamming distance between 'ATGCATGC' and 'ATGGATGC': 0.1250\n",
      "Normalized Hamming distance between 'hello' and 'hello': 0.0000\n"
     ]
    }
   ],
   "execution_count": 4
  },
  {
   "metadata": {},
   "cell_type": "markdown",
   "source": [
    "## Hamming Similarity\n",
    "\n",
    "While Hamming distance measures the difference between strings, we can convert it to a similarity measure (where higher values indicate greater similarity):\n"
   ],
   "id": "799dcc1c552c4ef5"
  },
  {
   "metadata": {
    "ExecuteTime": {
     "end_time": "2025-04-27T23:53:40.087756Z",
     "start_time": "2025-04-27T23:53:40.086009Z"
    }
   },
   "cell_type": "code",
   "source": [
    "def hamming_similarity(str1, str2):\n",
    "    \"\"\"\n",
    "    Calculate the Hamming similarity between two strings.\n",
    "\n",
    "    Parameters:\n",
    "    -----------\n",
    "    str1, str2 : str\n",
    "        The strings to compare (must be of equal length)\n",
    "\n",
    "    Returns:\n",
    "    --------\n",
    "    float\n",
    "        The Hamming similarity (between 0 and 1)\n",
    "    \"\"\"\n",
    "    try:\n",
    "        # Calculate the normalized distance\n",
    "        distance = normalized_hamming_distance(str1, str2)\n",
    "\n",
    "        # Convert to similarity (1 - distance)\n",
    "        return 1.0 - distance\n",
    "    except ValueError:\n",
    "        # For strings of different lengths, return 0 (no similarity)\n",
    "        return 0.0\n",
    "\n",
    "# Example usage\n",
    "for str1, str2 in examples:\n",
    "    similarity = hamming_similarity(str1, str2)\n",
    "    print(f\"Hamming similarity between '{str1}' and '{str2}': {similarity:.4f}\")\n"
   ],
   "id": "cf77fa31eddf748e",
   "outputs": [
    {
     "name": "stdout",
     "output_type": "stream",
     "text": [
      "Hamming similarity between 'karolin' and 'kathrin': 0.5714\n",
      "Hamming similarity between '1011101' and '1001001': 0.7143\n",
      "Hamming similarity between 'ATGCATGC' and 'ATGGATGC': 0.8750\n",
      "Hamming similarity between 'hello' and 'hello': 1.0000\n"
     ]
    }
   ],
   "execution_count": 5
  },
  {
   "metadata": {},
   "cell_type": "markdown",
   "source": [
    "## Visualizing Hamming Distance\n",
    "\n",
    "Let's visualize the Hamming distance between two strings:\n"
   ],
   "id": "9d203b1b05f3be90"
  },
  {
   "metadata": {
    "ExecuteTime": {
     "end_time": "2025-04-27T23:53:41.376581Z",
     "start_time": "2025-04-27T23:53:40.134261Z"
    }
   },
   "cell_type": "code",
   "source": [
    "import matplotlib.pyplot as plt\n",
    "import numpy as np\n",
    "\n",
    "def visualize_hamming_distance(str1, str2):\n",
    "    \"\"\"\n",
    "    Visualize the Hamming distance between two strings.\n",
    "\n",
    "    Parameters:\n",
    "    -----------\n",
    "    str1, str2 : str\n",
    "        The strings to compare (must be of equal length)\n",
    "    \"\"\"\n",
    "    if len(str1) != len(str2):\n",
    "        raise ValueError(\"Strings must be of equal length\")\n",
    "\n",
    "    # Create a figure and axis\n",
    "    fig, ax = plt.subplots(figsize=(10, 2))\n",
    "\n",
    "    # Create a matrix to represent matches and mismatches\n",
    "    comparison = [c1 == c2 for c1, c2 in zip(str1, str2)]\n",
    "\n",
    "    # Plot the comparison\n",
    "    cmap = plt.cm.RdYlGn  # Red for mismatches, green for matches\n",
    "    im = ax.imshow([comparison], cmap=cmap, aspect='auto', vmin=0, vmax=1)\n",
    "\n",
    "    # Add text annotations\n",
    "    for i in range(len(str1)):\n",
    "        color = 'black' if comparison[i] else 'white'\n",
    "        ax.text(i, 0, f\"{str1[i]}\\n{str2[i]}\", ha=\"center\", va=\"center\", color=color)\n",
    "\n",
    "    # Set ticks and labels\n",
    "    ax.set_xticks(range(len(str1)))\n",
    "    ax.set_xticklabels(range(1, len(str1) + 1))\n",
    "    ax.set_yticks([])\n",
    "\n",
    "    # Add a title\n",
    "    distance = sum(not x for x in comparison)\n",
    "    ax.set_title(f\"Hamming Distance: {distance} (positions where characters differ)\")\n",
    "\n",
    "    # Add a colorbar\n",
    "    cbar = plt.colorbar(im, ax=ax, orientation='horizontal', pad=0.2, ticks=[0, 1])\n",
    "    cbar.set_ticklabels(['Different', 'Same'])\n",
    "\n",
    "    plt.tight_layout()\n",
    "    plt.show()\n",
    "\n",
    "# Example visualization\n",
    "str1 = \"ALGORITHM\"\n",
    "str2 = \"ALTRUISM_\"\n",
    "try:\n",
    "    visualize_hamming_distance(str1, str2)\n",
    "except ValueError as e:\n",
    "    print(f\"Error: {e}\")\n"
   ],
   "id": "3946da63e8ae24a0",
   "outputs": [
    {
     "data": {
      "text/plain": [
       "<Figure size 1000x200 with 2 Axes>"
      ],
      "image/png": "[encoded data removed]"
     },
     "metadata": {},
     "output_type": "display_data"
    }
   ],
   "execution_count": 6
  },
  {
   "metadata": {},
   "cell_type": "markdown",
   "source": [
    "## Applications of Hamming Distance\n",
    "\n",
    "Hamming distance has numerous applications across various domains:\n",
    "\n",
    "### 1. Error Detection and Correction\n",
    "\n",
    "One of the original applications of Hamming distance is in error detection and correction codes:\n"
   ],
   "id": "edfffdb6ac00d892"
  },
  {
   "metadata": {
    "ExecuteTime": {
     "end_time": "2025-04-27T23:53:41.393815Z",
     "start_time": "2025-04-27T23:53:41.391234Z"
    }
   },
   "cell_type": "code",
   "source": [
    "def can_detect_errors(hamming_distance):\n",
    "    \"\"\"Determine how many errors can be detected with a given Hamming distance.\"\"\"\n",
    "    return hamming_distance - 1\n",
    "\n",
    "def can_correct_errors(hamming_distance):\n",
    "    \"\"\"Determine how many errors can be corrected with a given Hamming distance.\"\"\"\n",
    "    return (hamming_distance - 1) // 2\n",
    "\n",
    "# Example: Error detection and correction capabilities\n",
    "code_distances = [3, 5, 7, 9]\n",
    "\n",
    "print(\"Error Detection and Correction Capabilities:\")\n",
    "print(\"Hamming Distance | Errors Detectable | Errors Correctable\")\n",
    "print(\"----------------|-------------------|-------------------\")\n",
    "for distance in code_distances:\n",
    "    detect = can_detect_errors(distance)\n",
    "    correct = can_correct_errors(distance)\n",
    "    print(f\"{distance:16} | {detect:17} | {correct:19}\")\n"
   ],
   "id": "de8373b443c98b67",
   "outputs": [
    {
     "name": "stdout",
     "output_type": "stream",
     "text": [
      "Error Detection and Correction Capabilities:\n",
      "Hamming Distance | Errors Detectable | Errors Correctable\n",
      "----------------|-------------------|-------------------\n",
      "               3 |                 2 |                   1\n",
      "               5 |                 4 |                   2\n",
      "               7 |                 6 |                   3\n",
      "               9 |                 8 |                   4\n"
     ]
    }
   ],
   "execution_count": 7
  },
  {
   "metadata": {},
   "cell_type": "markdown",
   "source": [
    "### 2. Information Retrieval\n",
    "\n",
    "Hamming distance is used in information retrieval to find similar documents or records:\n"
   ],
   "id": "940763a609aa01fd"
  },
  {
   "metadata": {
    "ExecuteTime": {
     "end_time": "2025-04-27T23:53:41.456921Z",
     "start_time": "2025-04-27T23:53:41.453213Z"
    }
   },
   "cell_type": "code",
   "source": [
    "def find_similar_documents(query, documents, threshold=0.7):\n",
    "    \"\"\"\n",
    "    Find documents similar to the query based on Hamming similarity.\n",
    "\n",
    "    Parameters:\n",
    "    -----------\n",
    "    query : str\n",
    "        The query document\n",
    "    documents : list\n",
    "        List of documents to search through\n",
    "    threshold : float\n",
    "        Minimum similarity threshold (0-1)\n",
    "\n",
    "    Returns:\n",
    "    --------\n",
    "    list\n",
    "        Matching documents sorted by similarity\n",
    "    \"\"\"\n",
    "    results = []\n",
    "\n",
    "    # Convert documents to equal length by padding or truncating\n",
    "    max_len = max(len(query), max(len(doc) for doc in documents))\n",
    "    padded_query = query.ljust(max_len)\n",
    "\n",
    "    for doc in documents:\n",
    "        padded_doc = doc.ljust(max_len)\n",
    "        # Calculate similarity for the equal-length parts\n",
    "        min_len = min(len(query), len(doc))\n",
    "        similarity = hamming_similarity(query[:min_len], doc[:min_len])\n",
    "\n",
    "        # Adjust for length difference\n",
    "        length_penalty = min_len / max_len\n",
    "        adjusted_similarity = similarity * length_penalty\n",
    "\n",
    "        if adjusted_similarity >= threshold:\n",
    "            results.append((doc, adjusted_similarity))\n",
    "\n",
    "    # Sort by similarity (descending)\n",
    "    results.sort(key=lambda x: x[1], reverse=True)\n",
    "\n",
    "    return results\n",
    "\n",
    "# Example usage\n",
    "documents = [\n",
    "    \"hamming distance\",\n",
    "    \"hamming code\",\n",
    "    \"hammering nails\",\n",
    "    \"distance measure\",\n",
    "    \"levenshtein distance\",\n",
    "    \"hamming weight\"\n",
    "]\n",
    "\n",
    "query = \"hamming distance\"\n",
    "print(f\"Query: '{query}'\")\n",
    "matches = find_similar_documents(query, documents)\n",
    "for doc, similarity in matches:\n",
    "    print(f\"  '{doc}' (similarity: {similarity:.4f})\")\n"
   ],
   "id": "7241c13664d2155a",
   "outputs": [
    {
     "name": "stdout",
     "output_type": "stream",
     "text": [
      "Query: 'hamming distance'\n",
      "  'hamming distance' (similarity: 0.8000)\n"
     ]
    }
   ],
   "execution_count": 8
  },
  {
   "metadata": {},
   "cell_type": "markdown",
   "source": [
    "### 3. Bioinformatics\n",
    "\n",
    "In bioinformatics, Hamming distance is used to compare DNA or protein sequences:\n"
   ],
   "id": "5e4e23c50640bdf5"
  },
  {
   "metadata": {
    "ExecuteTime": {
     "end_time": "2025-04-27T23:53:41.511407Z",
     "start_time": "2025-04-27T23:53:41.507245Z"
    }
   },
   "cell_type": "code",
   "source": [
    "def analyze_dna_mutations(seq1, seq2):\n",
    "    \"\"\"\n",
    "    Analyze mutations between two DNA sequences using Hamming distance.\n",
    "\n",
    "    Parameters:\n",
    "    -----------\n",
    "    seq1, seq2 : str\n",
    "        The DNA sequences to compare (must be of equal length)\n",
    "\n",
    "    Returns:\n",
    "    --------\n",
    "    dict\n",
    "        Dictionary with mutation analysis\n",
    "    \"\"\"\n",
    "    if len(seq1) != len(seq2):\n",
    "        raise ValueError(\"Sequences must be of equal length\")\n",
    "\n",
    "    # Calculate Hamming distance\n",
    "    distance = hamming_distance(seq1, seq2)\n",
    "\n",
    "    # Identify mutation positions and types\n",
    "    mutations = []\n",
    "    for i, (base1, base2) in enumerate(zip(seq1, seq2)):\n",
    "        if base1 != base2:\n",
    "            mutations.append({\n",
    "                'position': i + 1,\n",
    "                'from': base1,\n",
    "                'to': base2\n",
    "            })\n",
    "\n",
    "    return {\n",
    "        'distance': distance,\n",
    "        'mutation_rate': distance / len(seq1),\n",
    "        'mutations': mutations\n",
    "    }\n",
    "\n",
    "# Example DNA sequences\n",
    "dna_seq1 = \"ACGTACGTACGT\"\n",
    "dna_seq2 = \"ACGTAGTACCT\"\n",
    "\n",
    "try:\n",
    "    result = analyze_dna_mutations(dna_seq1, dna_seq2)\n",
    "    print(f\"DNA Mutation Analysis:\")\n",
    "    print(f\"Sequence 1: {dna_seq1}\")\n",
    "    print(f\"Sequence 2: {dna_seq2}\")\n",
    "    print(f\"Hamming Distance: {result['distance']}\")\n",
    "    print(f\"Mutation Rate: {result['mutation_rate']:.4f}\")\n",
    "    print(\"Mutations:\")\n",
    "    for mutation in result['mutations']:\n",
    "        print(f\"  Position {mutation['position']}: {mutation['from']} → {mutation['to']}\")\n",
    "except ValueError as e:\n",
    "    print(f\"Error: {e}\")\n"
   ],
   "id": "1c6f7d6442867a68",
   "outputs": [
    {
     "name": "stdout",
     "output_type": "stream",
     "text": [
      "Error: Sequences must be of equal length\n"
     ]
    }
   ],
   "execution_count": 9
  },
  {
   "metadata": {},
   "cell_type": "markdown",
   "source": [
    "## Advantages and Limitations\n",
    "\n",
    "### Advantages:\n",
    "\n",
    "1. **Simplicity**: Easy to understand and implement\n",
    "2. **Efficiency**: O(n) time complexity, where n is the length of the strings\n",
    "3. **Metric Properties**: Satisfies all the properties of a metric space\n",
    "4. **Bit-level Operations**: Can be efficiently implemented using bitwise operations for binary data\n",
    "\n",
    "### Limitations:\n",
    "\n",
    "1. **Equal Length Requirement**: Only defined for strings of equal length\n",
    "2. **No Insertions/Deletions**: Doesn't account for insertions or deletions, only substitutions\n",
    "3. **Position Sensitivity**: Doesn't handle shifts or transpositions well\n",
    "4. **Binary Comparison**: Each position is either a match or mismatch, with no partial matching\n"
   ],
   "id": "bfe3734c18c3c90e"
  },
  {
   "metadata": {},
   "cell_type": "markdown",
   "source": [
    "## Comparison with Other String Metrics\n",
    "\n",
    "Hamming distance is one of many string similarity metrics. Here's how it compares to some others:\n",
    "\n",
    "### 1. Levenshtein Distance\n",
    "- Allows insertions, deletions, and substitutions\n",
    "- Works for strings of different lengths\n",
    "- More computationally expensive (O(m×n) time complexity)\n",
    "- Better for general string comparison\n",
    "\n",
    "### 2. Jaccard Similarity\n",
    "- Based on character or word sets, not sequences\n",
    "- Ignores order and position\n",
    "- Better for document similarity when word order is less important\n",
    "\n",
    "### 3. Cosine Similarity\n",
    "- Treats strings as vectors in high-dimensional space\n",
    "- Good for document similarity with term frequency weighting\n",
    "- Ignores sequence information\n"
   ],
   "id": "70f3a3d36158786"
  },
  {
   "metadata": {
    "ExecuteTime": {
     "end_time": "2025-04-27T23:53:42.847629Z",
     "start_time": "2025-04-27T23:53:41.566374Z"
    }
   },
   "cell_type": "code",
   "source": [
    "# Comparing Hamming distance with other metrics\n",
    "import numpy as np\n",
    "from sklearn.feature_extraction.text import CountVectorizer\n",
    "from sklearn.metrics.pairwise import cosine_similarity\n",
    "\n",
    "def compare_string_metrics(str1, str2):\n",
    "    \"\"\"\n",
    "    Compare different string similarity metrics.\n",
    "\n",
    "    Parameters:\n",
    "    -----------\n",
    "    str1, str2 : str\n",
    "        The strings to compare\n",
    "\n",
    "    Returns:\n",
    "    --------\n",
    "    dict\n",
    "        Dictionary with different similarity metrics\n",
    "    \"\"\"\n",
    "    # Prepare strings of equal length for Hamming\n",
    "    max_len = max(len(str1), len(str2))\n",
    "    padded_str1 = str1.ljust(max_len)\n",
    "    padded_str2 = str2.ljust(max_len)\n",
    "\n",
    "    # Hamming similarity\n",
    "    ham_sim = hamming_similarity(padded_str1, padded_str2)\n",
    "\n",
    "    # Jaccard similarity (character-based)\n",
    "    def jaccard_similarity(s1, s2):\n",
    "        set1 = set(s1.lower())\n",
    "        set2 = set(s2.lower())\n",
    "        intersection = len(set1.intersection(set2))\n",
    "        union = len(set1.union(set2))\n",
    "        return intersection / union if union > 0 else 0\n",
    "\n",
    "    jac_sim = jaccard_similarity(str1, str2)\n",
    "\n",
    "    # Cosine similarity\n",
    "    vectorizer = CountVectorizer().fit([str1, str2])\n",
    "    vectors = vectorizer.transform([str1, str2])\n",
    "    cos_sim = cosine_similarity(vectors)[0, 1]\n",
    "\n",
    "    return {\n",
    "        \"hamming\": ham_sim,\n",
    "        \"jaccard\": jac_sim,\n",
    "        \"cosine\": cos_sim\n",
    "    }\n",
    "\n",
    "# Example comparisons\n",
    "comparison_examples = [\n",
    "    (\"hamming\", \"hanning\"),\n",
    "    (\"distance\", \"resistance\"),\n",
    "    (\"algorithm\", \"logarithm\"),\n",
    "    (\"completely different\", \"totally unrelated\")\n",
    "]\n",
    "\n",
    "print(\"Comparison of String Similarity Metrics:\")\n",
    "for str1, str2 in comparison_examples:\n",
    "    metrics = compare_string_metrics(str1, str2)\n",
    "    print(f\"\\n'{str1}' vs '{str2}':\")\n",
    "    print(f\"  Hamming: {metrics['hamming']:.4f}\")\n",
    "    print(f\"  Jaccard: {metrics['jaccard']:.4f}\")\n",
    "    print(f\"  Cosine: {metrics['cosine']:.4f}\")\n"
   ],
   "id": "aeaa26f9ba6166e0",
   "outputs": [
    {
     "name": "stdout",
     "output_type": "stream",
     "text": [
      "Comparison of String Similarity Metrics:\n",
      "\n",
      "'hamming' vs 'hanning':\n",
      "  Hamming: 0.7143\n",
      "  Jaccard: 0.8333\n",
      "  Cosine: 0.0000\n",
      "\n",
      "'distance' vs 'resistance':\n",
      "  Hamming: 0.1000\n",
      "  Jaccard: 0.7778\n",
      "  Cosine: 0.0000\n",
      "\n",
      "'algorithm' vs 'logarithm':\n",
      "  Hamming: 0.6667\n",
      "  Jaccard: 1.0000\n",
      "  Cosine: 0.0000\n",
      "\n",
      "'completely different' vs 'totally unrelated':\n",
      "  Hamming: 0.1500\n",
      "  Jaccard: 0.5625\n",
      "  Cosine: 0.0000\n"
     ]
    }
   ],
   "execution_count": 10
  },
  {
   "metadata": {},
   "cell_type": "markdown",
   "source": [
    "## Conclusion\n",
    "\n",
    "Hamming distance is a fundamental metric for comparing strings of equal length. Its simplicity and efficiency make it particularly useful in applications where only substitutions are relevant, such as error detection and correction codes, DNA sequence analysis, and certain types of pattern matching.\n",
    "\n",
    "Key takeaways:\n",
    "1. Hamming distance counts the number of positions where two strings of equal length differ\n",
    "2. It has a linear time complexity O(n) and can be efficiently implemented using bitwise operations for binary data\n",
    "3. It's particularly useful in error detection/correction and signal processing\n",
    "4. Its main limitation is that it only handles substitutions and requires strings of equal length\n",
    "5. For more flexible string comparison, other metrics like Levenshtein distance may be more appropriate\n",
    "\n",
    "When working with string similarity, it's important to choose the right metric for your specific application, as different metrics capture different aspects of string similarity.\n"
   ],
   "id": "71f53617e8b4f3c5"
  }
 ],
 "metadata": {
  "kernelspec": {
   "display_name": "Python 3",
   "language": "python",
   "name": "python3"
  },
  "language_info": {
   "codemirror_mode": {
    "name": "ipython",
    "version": 2
   },
   "file_extension": ".py",
   "mimetype": "text/x-python",
   "name": "python",
   "nbconvert_exporter": "python",
   "pygments_lexer": "ipython2",
   "version": "2.7.6"
  }
 },
 "nbformat": 4,
 "nbformat_minor": 5
}
