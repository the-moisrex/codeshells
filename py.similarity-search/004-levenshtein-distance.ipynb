{
 "cells": [
  {
   "metadata": {},
   "cell_type": "markdown",
   "source": [
    "# Levenshtein Distance\n",
    "\n",
    "The Levenshtein distance, also known as edit distance, is a string metric for measuring the difference between two sequences. It quantifies how dissimilar two strings are by counting the minimum number of single-character operations (insertions, deletions, or substitutions) required to change one string into the other.\n"
   ],
   "id": "e746fb1ce292ad57"
  },
  {
   "metadata": {},
   "cell_type": "markdown",
   "source": [
    "## Definition and Concept\n",
    "\n",
    "The Levenshtein distance between two strings a and b is defined as the minimum number of elementary operations required to transform string a into string b, where an elementary operation is one of:\n",
    "\n",
    "1. **Insertion**: Insert a single character into string a\n",
    "2. **Deletion**: Delete a single character from string a\n",
    "3. **Substitution**: Replace a character in string a with a different character\n",
    "\n",
    "For example, the Levenshtein distance between \"kitten\" and \"sitting\" is 3, as the following three edits change one into the other:\n",
    "1. kitten → sitten (substitution of \"s\" for \"k\")\n",
    "2. sitten → sittin (substitution of \"i\" for \"e\")\n",
    "3. sittin → sitting (insertion of \"g\" at the end)\n",
    "\n",
    "### Mathematical Definition\n",
    "\n",
    "Mathematically, the Levenshtein distance between two strings a and b is given by lev(a,b) where:\n",
    "\n",
    "For empty strings:\n",
    "- lev(ε, ε) = 0 (where ε is the empty string)\n",
    "- lev(a, ε) = lev(ε, a) = |a| (the length of a)\n",
    "\n",
    "For non-empty strings, it's defined recursively as:\n",
    "\n",
    "$$lev(a,b) = \\min \\begin{cases}\n",
    "lev(tail(a), b) + 1 \\\\\n",
    "lev(a, tail(b)) + 1 \\\\\n",
    "lev(tail(a), tail(b)) + cost\n",
    "\\end{cases}$$\n",
    "\n",
    "Where:\n",
    "- tail(s) is the string s without its first character\n",
    "- cost = 0 if the first characters of a and b are the same, 1 otherwise\n"
   ],
   "id": "6f1cb47e1cf5bc82"
  },
  {
   "metadata": {
    "ExecuteTime": {
     "end_time": "2025-04-22T14:01:39.656385Z",
     "start_time": "2025-04-22T14:01:39.650667Z"
    }
   },
   "cell_type": "code",
   "source": [
    "# Recursive implementation of Levenshtein distance\n",
    "def levenshtein_distance_recursive(str1, str2):\n",
    "    \"\"\"\n",
    "    Calculate the Levenshtein distance between two strings using recursion.\n",
    "\n",
    "    Parameters:\n",
    "    -----------\n",
    "    str1, str2 : str\n",
    "        The two strings to compare\n",
    "\n",
    "    Returns:\n",
    "    --------\n",
    "    int\n",
    "        The Levenshtein distance\n",
    "    \"\"\"\n",
    "    # Base cases\n",
    "    if len(str1) == 0:\n",
    "        return len(str2)  # If str1 is empty, insert all characters of str2\n",
    "    if len(str2) == 0:\n",
    "        return len(str1)  # If str2 is empty, delete all characters of str1\n",
    "\n",
    "    # If the first characters match, no operation needed for them\n",
    "    if str1[0] == str2[0]:\n",
    "        cost = 0\n",
    "    else:\n",
    "        cost = 1  # Substitution cost\n",
    "\n",
    "    # Recursive calculation considering all three operations\n",
    "    return min(\n",
    "        levenshtein_distance_recursive(str1[1:], str2) + 1,      # Deletion\n",
    "        levenshtein_distance_recursive(str1, str2[1:]) + 1,      # Insertion\n",
    "        levenshtein_distance_recursive(str1[1:], str2[1:]) + cost  # Substitution\n",
    "    )\n",
    "\n",
    "# Example usage\n",
    "str1 = \"kitten\"\n",
    "str2 = \"sitting\"\n",
    "\n",
    "print(f\"Recursive Levenshtein distance between '{str1}' and '{str2}': {levenshtein_distance_recursive(str1, str2)}\")\n",
    "\n",
    "# Note: The recursive implementation is inefficient for longer strings\n",
    "# due to repeated calculations. Let's implement a more efficient version using dynamic programming.\n"
   ],
   "id": "a760fc54395510a5",
   "outputs": [
    {
     "name": "stdout",
     "output_type": "stream",
     "text": [
      "Recursive Levenshtein distance between 'kitten' and 'sitting': 3\n"
     ]
    }
   ],
   "execution_count": 4
  },
  {
   "metadata": {},
   "cell_type": "markdown",
   "source": [
    "## Dynamic Programming Implementation\n",
    "\n",
    "The recursive implementation above has exponential time complexity, making it impractical for longer strings. A more efficient approach uses dynamic programming with a matrix to store intermediate results:\n"
   ],
   "id": "a72f22d441923b4b"
  },
  {
   "metadata": {
    "ExecuteTime": {
     "end_time": "2025-04-22T14:01:39.721550Z",
     "start_time": "2025-04-22T14:01:39.715822Z"
    }
   },
   "cell_type": "code",
   "source": [
    "# Dynamic programming implementation of Levenshtein distance\n",
    "def levenshtein_distance(str1, str2):\n",
    "    \"\"\"\n",
    "    Calculate the Levenshtein distance between two strings using dynamic programming.\n",
    "\n",
    "    Parameters:\n",
    "    -----------\n",
    "    str1, str2 : str\n",
    "        The two strings to compare\n",
    "\n",
    "    Returns:\n",
    "    --------\n",
    "    int\n",
    "        The Levenshtein distance\n",
    "    \"\"\"\n",
    "    # Create a matrix of size (len(str1)+1) x (len(str2)+1)\n",
    "    m, n = len(str1), len(str2)\n",
    "    dp = [[0 for _ in range(n + 1)] for _ in range(m + 1)]\n",
    "\n",
    "    # Initialize the first row and column\n",
    "    for i in range(m + 1):\n",
    "        dp[i][0] = i  # Distance from any string to empty string is the length\n",
    "    for j in range(n + 1):\n",
    "        dp[0][j] = j  # Distance from empty string to any string is the length\n",
    "\n",
    "    # Fill the matrix\n",
    "    for i in range(1, m + 1):\n",
    "        for j in range(1, n + 1):\n",
    "            # If characters match, no operation needed\n",
    "            if str1[i-1] == str2[j-1]:\n",
    "                dp[i][j] = dp[i-1][j-1]\n",
    "            else:\n",
    "                # Take the minimum of three operations\n",
    "                dp[i][j] = 1 + min(\n",
    "                    dp[i-1][j],      # Deletion\n",
    "                    dp[i][j-1],      # Insertion\n",
    "                    dp[i-1][j-1]     # Substitution\n",
    "                )\n",
    "\n",
    "    return dp[m][n]\n",
    "\n",
    "# Example usage\n",
    "examples = [\n",
    "    (\"kitten\", \"sitting\"),\n",
    "    (\"sunday\", \"saturday\"),\n",
    "    (\"python\", \"programming\"),\n",
    "    (\"hello\", \"hello\"),\n",
    "    (\"\", \"world\")\n",
    "]\n",
    "\n",
    "for str1, str2 in examples:\n",
    "    distance = levenshtein_distance(str1, str2)\n",
    "    print(f\"Levenshtein distance between '{str1}' and '{str2}': {distance}\")\n"
   ],
   "id": "b4e574378a4e34a3",
   "outputs": [
    {
     "name": "stdout",
     "output_type": "stream",
     "text": [
      "Levenshtein distance between 'kitten' and 'sitting': 3\n",
      "Levenshtein distance between 'sunday' and 'saturday': 3\n",
      "Levenshtein distance between 'python' and 'programming': 9\n",
      "Levenshtein distance between 'hello' and 'hello': 0\n",
      "Levenshtein distance between '' and 'world': 5\n"
     ]
    }
   ],
   "execution_count": 5
  },
  {
   "metadata": {},
   "cell_type": "markdown",
   "source": [
    "## Visualizing the Dynamic Programming Matrix\n",
    "\n",
    "To better understand how the Levenshtein distance is calculated, let's visualize the dynamic programming matrix for a simple example:\n"
   ],
   "id": "35570227ef24c9cb"
  },
  {
   "metadata": {
    "ExecuteTime": {
     "end_time": "2025-04-22T14:01:41.286459Z",
     "start_time": "2025-04-22T14:01:39.762592Z"
    }
   },
   "cell_type": "code",
   "source": [
    "import numpy as np\n",
    "import matplotlib.pyplot as plt\n",
    "import matplotlib.colors as mcolors\n",
    "\n",
    "def visualize_levenshtein_matrix(str1, str2):\n",
    "    \"\"\"\n",
    "    Visualize the Levenshtein distance calculation matrix.\n",
    "\n",
    "    Parameters:\n",
    "    -----------\n",
    "    str1, str2 : str\n",
    "        The two strings to compare\n",
    "    \"\"\"\n",
    "    # Create the matrix\n",
    "    m, n = len(str1), len(str2)\n",
    "    dp = [[0 for _ in range(n + 1)] for _ in range(m + 1)]\n",
    "\n",
    "    # Initialize the first row and column\n",
    "    for i in range(m + 1):\n",
    "        dp[i][0] = i\n",
    "    for j in range(n + 1):\n",
    "        dp[0][j] = j\n",
    "\n",
    "    # Fill the matrix and track operations\n",
    "    operations = [['' for _ in range(n + 1)] for _ in range(m + 1)]\n",
    "    for i in range(1, m + 1):\n",
    "        for j in range(1, n + 1):\n",
    "            if str1[i-1] == str2[j-1]:\n",
    "                dp[i][j] = dp[i-1][j-1]\n",
    "                operations[i][j] = 'match'\n",
    "            else:\n",
    "                deletion = dp[i-1][j]\n",
    "                insertion = dp[i][j-1]\n",
    "                substitution = dp[i-1][j-1]\n",
    "\n",
    "                min_op = min(deletion, insertion, substitution)\n",
    "                dp[i][j] = 1 + min_op\n",
    "\n",
    "                if min_op == deletion:\n",
    "                    operations[i][j] = 'delete'\n",
    "                elif min_op == insertion:\n",
    "                    operations[i][j] = 'insert'\n",
    "                else:\n",
    "                    operations[i][j] = 'substitute'\n",
    "\n",
    "    # Create a figure and axis\n",
    "    fig, ax = plt.subplots(figsize=(10, 8))\n",
    "\n",
    "    # Create a color map for different operations\n",
    "    cmap = mcolors.ListedColormap(['white', 'lightgreen', 'lightcoral', 'lightskyblue', 'lightyellow'])\n",
    "    bounds = [-0.5, 0.5, 1.5, 2.5, 3.5, 4.5]\n",
    "    norm = mcolors.BoundaryNorm(bounds, cmap.N)\n",
    "\n",
    "    # Map operations to colors\n",
    "    color_matrix = np.zeros((m + 1, n + 1))\n",
    "    for i in range(m + 1):\n",
    "        for j in range(n + 1):\n",
    "            if i == 0 or j == 0:\n",
    "                color_matrix[i, j] = 1  # initialization\n",
    "            elif operations[i][j] == 'match':\n",
    "                color_matrix[i, j] = 2  # match\n",
    "            elif operations[i][j] == 'delete':\n",
    "                color_matrix[i, j] = 3  # deletion\n",
    "            elif operations[i][j] == 'insert':\n",
    "                color_matrix[i, j] = 4  # insertion\n",
    "            else:\n",
    "                color_matrix[i, j] = 5  # substitution\n",
    "\n",
    "    # Plot the matrix\n",
    "    im = ax.imshow(color_matrix, cmap=cmap, norm=norm)\n",
    "\n",
    "    # Add text annotations\n",
    "    for i in range(m + 1):\n",
    "        for j in range(n + 1):\n",
    "            text = str(dp[i][j])\n",
    "            ax.text(j, i, text, ha=\"center\", va=\"center\", color=\"black\")\n",
    "\n",
    "    # Set ticks and labels\n",
    "    ax.set_xticks(np.arange(n + 1))\n",
    "    ax.set_yticks(np.arange(m + 1))\n",
    "    ax.set_xticklabels([''] + list(str2))\n",
    "    ax.set_yticklabels([''] + list(str1))\n",
    "\n",
    "    # Add a legend\n",
    "    from matplotlib.patches import Patch\n",
    "    legend_elements = [\n",
    "        Patch(facecolor='lightgreen', label='Initialization'),\n",
    "        Patch(facecolor='lightcoral', label='Match'),\n",
    "        Patch(facecolor='lightskyblue', label='Deletion'),\n",
    "        Patch(facecolor='lightyellow', label='Insertion/Substitution')\n",
    "    ]\n",
    "    ax.legend(handles=legend_elements, loc='upper center', bbox_to_anchor=(0.5, -0.05), ncol=4)\n",
    "\n",
    "    plt.title(f\"Levenshtein Distance Matrix: '{str1}' to '{str2}'\")\n",
    "    plt.tight_layout()\n",
    "    plt.show()\n",
    "\n",
    "    return dp[m][n]\n",
    "\n",
    "# Example visualization\n",
    "str1 = \"cat\"\n",
    "str2 = \"bat\"\n",
    "distance = visualize_levenshtein_matrix(str1, str2)\n",
    "print(f\"Levenshtein distance between '{str1}' and '{str2}': {distance}\")\n"
   ],
   "id": "66ee7c75cc4db3",
   "outputs": [
    {
     "data": {
      "text/plain": [
       "<Figure size 1000x800 with 1 Axes>"
      ],
      "image/png": "[encoded data removed]"
     },
     "metadata": {},
     "output_type": "display_data"
    },
    {
     "name": "stdout",
     "output_type": "stream",
     "text": [
      "Levenshtein distance between 'cat' and 'bat': 1\n"
     ]
    }
   ],
   "execution_count": 6
  },
  {
   "metadata": {},
   "cell_type": "markdown",
   "source": [
    "## Optimizations and Variations\n",
    "\n",
    "### Space Optimization\n",
    "\n",
    "The standard dynamic programming implementation uses O(m×n) space. We can optimize this to O(min(m,n)) by only storing two rows of the matrix at a time:\n"
   ],
   "id": "2fff37896e5f4645"
  },
  {
   "metadata": {
    "ExecuteTime": {
     "end_time": "2025-04-22T14:01:41.344142Z",
     "start_time": "2025-04-22T14:01:41.339691Z"
    }
   },
   "cell_type": "code",
   "source": [
    "# Space-optimized implementation of Levenshtein distance\n",
    "def levenshtein_distance_optimized(str1, str2):\n",
    "    \"\"\"\n",
    "    Calculate the Levenshtein distance with optimized space complexity.\n",
    "\n",
    "    Parameters:\n",
    "    -----------\n",
    "    str1, str2 : str\n",
    "        The two strings to compare\n",
    "\n",
    "    Returns:\n",
    "    --------\n",
    "    int\n",
    "        The Levenshtein distance\n",
    "    \"\"\"\n",
    "    # Ensure str1 is the shorter string to minimize space\n",
    "    if len(str1) > len(str2):\n",
    "        str1, str2 = str2, str1\n",
    "\n",
    "    m, n = len(str1), len(str2)\n",
    "\n",
    "    # Previous row of distances\n",
    "    prev_row = list(range(n + 1))\n",
    "\n",
    "    # Current row of distances (to be calculated)\n",
    "    curr_row = [0] * (n + 1)\n",
    "\n",
    "    for i in range(1, m + 1):\n",
    "        # Initialize the first element of the current row\n",
    "        curr_row[0] = i\n",
    "\n",
    "        for j in range(1, n + 1):\n",
    "            # Calculate cost - 0 if characters match, 1 otherwise\n",
    "            cost = 0 if str1[i-1] == str2[j-1] else 1\n",
    "\n",
    "            # Calculate current cell from previous results\n",
    "            curr_row[j] = min(\n",
    "                prev_row[j] + 1,          # Deletion\n",
    "                curr_row[j-1] + 1,        # Insertion\n",
    "                prev_row[j-1] + cost      # Substitution\n",
    "            )\n",
    "\n",
    "        # Swap rows for next iteration\n",
    "        prev_row, curr_row = curr_row, prev_row\n",
    "\n",
    "    # The result is in the last cell of the last calculated row (which is now prev_row)\n",
    "    return prev_row[n]\n",
    "\n",
    "# Example usage\n",
    "for str1, str2 in examples:\n",
    "    distance = levenshtein_distance_optimized(str1, str2)\n",
    "    print(f\"Optimized Levenshtein distance between '{str1}' and '{str2}': {distance}\")\n"
   ],
   "id": "c0322bd964efd6d1",
   "outputs": [
    {
     "name": "stdout",
     "output_type": "stream",
     "text": [
      "Optimized Levenshtein distance between 'kitten' and 'sitting': 3\n",
      "Optimized Levenshtein distance between 'sunday' and 'saturday': 3\n",
      "Optimized Levenshtein distance between 'python' and 'programming': 9\n",
      "Optimized Levenshtein distance between 'hello' and 'hello': 0\n",
      "Optimized Levenshtein distance between '' and 'world': 5\n"
     ]
    }
   ],
   "execution_count": 7
  },
  {
   "metadata": {},
   "cell_type": "markdown",
   "source": [
    "### Damerau-Levenshtein Distance\n",
    "\n",
    "The Damerau-Levenshtein distance is a variation that also allows transpositions of adjacent characters as a single operation. This is useful for catching common typing errors:\n"
   ],
   "id": "6f9ee18dc2bbd622"
  },
  {
   "metadata": {
    "ExecuteTime": {
     "end_time": "2025-04-22T14:01:41.394030Z",
     "start_time": "2025-04-22T14:01:41.389025Z"
    }
   },
   "cell_type": "code",
   "source": [
    "# Damerau-Levenshtein distance implementation\n",
    "def damerau_levenshtein_distance(str1, str2):\n",
    "    \"\"\"\n",
    "    Calculate the Damerau-Levenshtein distance between two strings.\n",
    "    This includes transpositions as a single operation.\n",
    "\n",
    "    Parameters:\n",
    "    -----------\n",
    "    str1, str2 : str\n",
    "        The two strings to compare\n",
    "\n",
    "    Returns:\n",
    "    --------\n",
    "    int\n",
    "        The Damerau-Levenshtein distance\n",
    "    \"\"\"\n",
    "    m, n = len(str1), len(str2)\n",
    "    dp = [[0 for _ in range(n + 1)] for _ in range(m + 1)]\n",
    "\n",
    "    # Initialize the first row and column\n",
    "    for i in range(m + 1):\n",
    "        dp[i][0] = i\n",
    "    for j in range(n + 1):\n",
    "        dp[0][j] = j\n",
    "\n",
    "    for i in range(1, m + 1):\n",
    "        for j in range(1, n + 1):\n",
    "            cost = 0 if str1[i-1] == str2[j-1] else 1\n",
    "\n",
    "            # Standard Levenshtein operations\n",
    "            dp[i][j] = min(\n",
    "                dp[i-1][j] + 1,      # Deletion\n",
    "                dp[i][j-1] + 1,      # Insertion\n",
    "                dp[i-1][j-1] + cost  # Substitution\n",
    "            )\n",
    "\n",
    "            # Transposition (if applicable)\n",
    "            if i > 1 and j > 1 and str1[i-1] == str2[j-2] and str1[i-2] == str2[j-1]:\n",
    "                dp[i][j] = min(dp[i][j], dp[i-2][j-2] + 1)\n",
    "\n",
    "    return dp[m][n]\n",
    "\n",
    "# Examples demonstrating the difference between Levenshtein and Damerau-Levenshtein\n",
    "transposition_examples = [\n",
    "    (\"abc\", \"acb\"),  # Transposition of 'b' and 'c'\n",
    "    (\"algorithm\", \"algortihm\"),  # Transposition of 'i' and 'h'\n",
    "    (\"python\", \"pyhton\")  # Transposition of 't' and 'h'\n",
    "]\n",
    "\n",
    "print(\"Comparing Levenshtein and Damerau-Levenshtein distances:\")\n",
    "for str1, str2 in transposition_examples:\n",
    "    lev_dist = levenshtein_distance(str1, str2)\n",
    "    dam_lev_dist = damerau_levenshtein_distance(str1, str2)\n",
    "    print(f\"'{str1}' to '{str2}':\")\n",
    "    print(f\"  Levenshtein: {lev_dist}\")\n",
    "    print(f\"  Damerau-Levenshtein: {dam_lev_dist}\")\n"
   ],
   "id": "8ee6997522f9e2c8",
   "outputs": [
    {
     "name": "stdout",
     "output_type": "stream",
     "text": [
      "Comparing Levenshtein and Damerau-Levenshtein distances:\n",
      "'abc' to 'acb':\n",
      "  Levenshtein: 2\n",
      "  Damerau-Levenshtein: 1\n",
      "'algorithm' to 'algortihm':\n",
      "  Levenshtein: 2\n",
      "  Damerau-Levenshtein: 1\n",
      "'python' to 'pyhton':\n",
      "  Levenshtein: 2\n",
      "  Damerau-Levenshtein: 1\n"
     ]
    }
   ],
   "execution_count": 8
  },
  {
   "metadata": {},
   "cell_type": "markdown",
   "source": [
    "## Normalized Levenshtein Distance\n",
    "\n",
    "For comparing strings of different lengths, it's often useful to normalize the Levenshtein distance to a value between 0 and 1:\n"
   ],
   "id": "593049c48e02d621"
  },
  {
   "metadata": {
    "ExecuteTime": {
     "end_time": "2025-04-22T14:01:41.443868Z",
     "start_time": "2025-04-22T14:01:41.441138Z"
    }
   },
   "cell_type": "code",
   "source": [
    "def normalized_levenshtein_distance(str1, str2):\n",
    "    \"\"\"\n",
    "    Calculate the normalized Levenshtein distance between two strings.\n",
    "\n",
    "    Parameters:\n",
    "    -----------\n",
    "    str1, str2 : str\n",
    "        The two strings to compare\n",
    "\n",
    "    Returns:\n",
    "    --------\n",
    "    float\n",
    "        The normalized Levenshtein distance (between 0 and 1)\n",
    "    \"\"\"\n",
    "    if len(str1) == 0 and len(str2) == 0:\n",
    "        return 0.0  # Both strings are empty\n",
    "\n",
    "    # Calculate the absolute Levenshtein distance\n",
    "    distance = levenshtein_distance(str1, str2)\n",
    "\n",
    "    # Normalize by the maximum possible distance (length of the longer string)\n",
    "    max_len = max(len(str1), len(str2))\n",
    "\n",
    "    return distance / max_len\n",
    "\n",
    "# Example usage\n",
    "for str1, str2 in examples:\n",
    "    norm_distance = normalized_levenshtein_distance(str1, str2)\n",
    "    print(f\"Normalized Levenshtein distance between '{str1}' and '{str2}': {norm_distance:.4f}\")\n"
   ],
   "id": "c3ad35d181b33181",
   "outputs": [
    {
     "name": "stdout",
     "output_type": "stream",
     "text": [
      "Normalized Levenshtein distance between 'kitten' and 'sitting': 0.4286\n",
      "Normalized Levenshtein distance between 'sunday' and 'saturday': 0.3750\n",
      "Normalized Levenshtein distance between 'python' and 'programming': 0.8182\n",
      "Normalized Levenshtein distance between 'hello' and 'hello': 0.0000\n",
      "Normalized Levenshtein distance between '' and 'world': 1.0000\n"
     ]
    }
   ],
   "execution_count": 9
  },
  {
   "metadata": {},
   "cell_type": "markdown",
   "source": [
    "## Levenshtein Similarity\n",
    "\n",
    "While Levenshtein distance measures the difference between strings, we can convert it to a similarity measure (where higher values indicate greater similarity):\n"
   ],
   "id": "6c98f0112d535769"
  },
  {
   "metadata": {
    "ExecuteTime": {
     "end_time": "2025-04-22T14:01:41.498133Z",
     "start_time": "2025-04-22T14:01:41.495975Z"
    }
   },
   "cell_type": "code",
   "source": [
    "def levenshtein_similarity(str1, str2):\n",
    "    \"\"\"\n",
    "    Calculate the Levenshtein similarity between two strings.\n",
    "\n",
    "    Parameters:\n",
    "    -----------\n",
    "    str1, str2 : str\n",
    "        The two strings to compare\n",
    "\n",
    "    Returns:\n",
    "    --------\n",
    "    float\n",
    "        The Levenshtein similarity (between 0 and 1)\n",
    "    \"\"\"\n",
    "    # Calculate the normalized distance\n",
    "    distance = normalized_levenshtein_distance(str1, str2)\n",
    "\n",
    "    # Convert to similarity (1 - distance)\n",
    "    return 1.0 - distance\n",
    "\n",
    "# Example usage\n",
    "for str1, str2 in examples:\n",
    "    similarity = levenshtein_similarity(str1, str2)\n",
    "    print(f\"Levenshtein similarity between '{str1}' and '{str2}': {similarity:.4f}\")\n"
   ],
   "id": "445479947e380bf8",
   "outputs": [
    {
     "name": "stdout",
     "output_type": "stream",
     "text": [
      "Levenshtein similarity between 'kitten' and 'sitting': 0.5714\n",
      "Levenshtein similarity between 'sunday' and 'saturday': 0.6250\n",
      "Levenshtein similarity between 'python' and 'programming': 0.1818\n",
      "Levenshtein similarity between 'hello' and 'hello': 1.0000\n",
      "Levenshtein similarity between '' and 'world': 0.0000\n"
     ]
    }
   ],
   "execution_count": 10
  },
  {
   "metadata": {},
   "cell_type": "markdown",
   "source": [
    "## Applications of Levenshtein Distance\n",
    "\n",
    "Levenshtein distance has numerous applications across various domains:\n",
    "\n",
    "### 1. Spell Checking and Correction\n",
    "\n",
    "One of the most common applications is in spell checkers, where it helps identify the closest correct word to a misspelled one:\n"
   ],
   "id": "9556569b9dc098e7"
  },
  {
   "metadata": {
    "ExecuteTime": {
     "end_time": "2025-04-22T14:01:41.547595Z",
     "start_time": "2025-04-22T14:01:41.544131Z"
    }
   },
   "cell_type": "code",
   "source": [
    "def spell_check(word, dictionary):\n",
    "    \"\"\"\n",
    "    Find the closest word in the dictionary using Levenshtein distance.\n",
    "\n",
    "    Parameters:\n",
    "    -----------\n",
    "    word : str\n",
    "        The potentially misspelled word\n",
    "    dictionary : list\n",
    "        A list of correctly spelled words\n",
    "\n",
    "    Returns:\n",
    "    --------\n",
    "    str\n",
    "        The closest word from the dictionary\n",
    "    \"\"\"\n",
    "    if word in dictionary:\n",
    "        return word  # Word is already correct\n",
    "\n",
    "    # Find the word with the minimum Levenshtein distance\n",
    "    min_distance = float('inf')\n",
    "    closest_word = None\n",
    "\n",
    "    for dict_word in dictionary:\n",
    "        distance = levenshtein_distance(word, dict_word)\n",
    "        if distance < min_distance:\n",
    "            min_distance = distance\n",
    "            closest_word = dict_word\n",
    "\n",
    "    return closest_word\n",
    "\n",
    "# Example usage\n",
    "dictionary = [\"apple\", \"banana\", \"orange\", \"grape\", \"pineapple\", \"strawberry\", \"blueberry\"]\n",
    "misspelled_words = [\"appel\", \"ornage\", \"bluberry\", \"pinapple\"]\n",
    "\n",
    "print(\"Spell checking examples:\")\n",
    "for word in misspelled_words:\n",
    "    correction = spell_check(word, dictionary)\n",
    "    print(f\"'{word}' → '{correction}'\")\n"
   ],
   "id": "4468b150b3f111f8",
   "outputs": [
    {
     "name": "stdout",
     "output_type": "stream",
     "text": [
      "Spell checking examples:\n",
      "'appel' → 'apple'\n",
      "'ornage' → 'orange'\n",
      "'bluberry' → 'blueberry'\n",
      "'pinapple' → 'pineapple'\n"
     ]
    }
   ],
   "execution_count": 11
  },
  {
   "metadata": {},
   "cell_type": "markdown",
   "source": [
    "### 2. DNA Sequence Analysis\n",
    "\n",
    "In bioinformatics, Levenshtein distance helps measure the similarity between DNA sequences:\n"
   ],
   "id": "cf54117aea37e354"
  },
  {
   "metadata": {
    "ExecuteTime": {
     "end_time": "2025-04-22T14:01:41.612732Z",
     "start_time": "2025-04-22T14:01:41.607923Z"
    }
   },
   "cell_type": "code",
   "source": [
    "def analyze_dna_similarity(seq1, seq2):\n",
    "    \"\"\"\n",
    "    Analyze the similarity between two DNA sequences.\n",
    "\n",
    "    Parameters:\n",
    "    -----------\n",
    "    seq1, seq2 : str\n",
    "        The DNA sequences to compare\n",
    "\n",
    "    Returns:\n",
    "    --------\n",
    "    dict\n",
    "        Dictionary with distance and similarity metrics\n",
    "    \"\"\"\n",
    "    distance = levenshtein_distance(seq1, seq2)\n",
    "    similarity = levenshtein_similarity(seq1, seq2)\n",
    "\n",
    "    return {\n",
    "        \"distance\": distance,\n",
    "        \"similarity\": similarity,\n",
    "        \"percent_similarity\": similarity * 100\n",
    "    }\n",
    "\n",
    "# Example DNA sequences\n",
    "dna_seq1 = \"ACGTACGTACGT\"\n",
    "dna_seq2 = \"ACGTAGTACCT\"\n",
    "\n",
    "result = analyze_dna_similarity(dna_seq1, dna_seq2)\n",
    "print(f\"DNA Sequence Analysis:\")\n",
    "print(f\"Sequence 1: {dna_seq1}\")\n",
    "print(f\"Sequence 2: {dna_seq2}\")\n",
    "print(f\"Edit Distance: {result['distance']}\")\n",
    "print(f\"Similarity: {result['similarity']:.4f}\")\n",
    "print(f\"Percent Similarity: {result['percent_similarity']:.2f}%\")\n"
   ],
   "id": "c636f707f43417cd",
   "outputs": [
    {
     "name": "stdout",
     "output_type": "stream",
     "text": [
      "DNA Sequence Analysis:\n",
      "Sequence 1: ACGTACGTACGT\n",
      "Sequence 2: ACGTAGTACCT\n",
      "Edit Distance: 2\n",
      "Similarity: 0.8333\n",
      "Percent Similarity: 83.33%\n"
     ]
    }
   ],
   "execution_count": 12
  },
  {
   "metadata": {},
   "cell_type": "markdown",
   "source": [
    "### 3. Fuzzy String Matching\n",
    "\n",
    "Levenshtein distance is useful for fuzzy string matching in search applications:\n"
   ],
   "id": "3fbbaa48c1aa9df5"
  },
  {
   "metadata": {
    "ExecuteTime": {
     "end_time": "2025-04-22T14:01:41.667194Z",
     "start_time": "2025-04-22T14:01:41.662604Z"
    }
   },
   "cell_type": "code",
   "source": [
    "def fuzzy_search(query, items, threshold=0.7):\n",
    "    \"\"\"\n",
    "    Perform a fuzzy search on a list of items.\n",
    "\n",
    "    Parameters:\n",
    "    -----------\n",
    "    query : str\n",
    "        The search query\n",
    "    items : list\n",
    "        List of items to search through\n",
    "    threshold : float\n",
    "        Minimum similarity threshold (0-1)\n",
    "\n",
    "    Returns:\n",
    "    --------\n",
    "    list\n",
    "        Matching items sorted by similarity\n",
    "    \"\"\"\n",
    "    results = []\n",
    "\n",
    "    for item in items:\n",
    "        similarity = levenshtein_similarity(query.lower(), item.lower())\n",
    "        if similarity >= threshold:\n",
    "            results.append((item, similarity))\n",
    "\n",
    "    # Sort by similarity (descending)\n",
    "    results.sort(key=lambda x: x[1], reverse=True)\n",
    "\n",
    "    return results\n",
    "\n",
    "# Example usage\n",
    "items = [\n",
    "    \"New York\", \"Los Angeles\", \"Chicago\", \"Houston\", \"Phoenix\",\n",
    "    \"Philadelphia\", \"San Antonio\", \"San Diego\", \"Dallas\", \"San Francisco\"\n",
    "]\n",
    "\n",
    "queries = [\"New Yrok\", \"San Frncisco\", \"Filadelfia\", \"Huston\"]\n",
    "\n",
    "print(\"Fuzzy Search Examples:\")\n",
    "for query in queries:\n",
    "    print(f\"\\nQuery: '{query}'\")\n",
    "    matches = fuzzy_search(query, items)\n",
    "    if matches:\n",
    "        for item, similarity in matches:\n",
    "            print(f\"  '{item}' (similarity: {similarity:.4f})\")\n",
    "    else:\n",
    "        print(\"  No matches found\")\n"
   ],
   "id": "2d7e14c8377cfa29",
   "outputs": [
    {
     "name": "stdout",
     "output_type": "stream",
     "text": [
      "Fuzzy Search Examples:\n",
      "\n",
      "Query: 'New Yrok'\n",
      "  'New York' (similarity: 0.7500)\n",
      "\n",
      "Query: 'San Frncisco'\n",
      "  'San Francisco' (similarity: 0.9231)\n",
      "\n",
      "Query: 'Filadelfia'\n",
      "  No matches found\n",
      "\n",
      "Query: 'Huston'\n",
      "  'Houston' (similarity: 0.8571)\n"
     ]
    }
   ],
   "execution_count": 13
  },
  {
   "metadata": {},
   "cell_type": "markdown",
   "source": [
    "## Advantages and Limitations\n",
    "\n",
    "### Advantages:\n",
    "\n",
    "1. **Intuitive Metric**: The concept of edit operations is easy to understand and interpret\n",
    "2. **Versatility**: Applicable to various domains and data types\n",
    "3. **Well-studied**: Extensive research and optimizations available\n",
    "4. **Language-independent**: Works for any sequence data, not just natural language\n",
    "\n",
    "### Limitations:\n",
    "\n",
    "1. **Computational Complexity**: O(m×n) time complexity can be prohibitive for very long strings\n",
    "2. **Equal Operation Weights**: Standard implementation treats all operations equally, which may not be realistic\n",
    "3. **Character-level Only**: Doesn't account for semantic meaning or word-level operations\n",
    "4. **No Context Awareness**: Doesn't consider the context or meaning of the text\n"
   ],
   "id": "84b353864e842049"
  },
  {
   "metadata": {},
   "cell_type": "markdown",
   "source": [
    "## Comparison with Other String Similarity Metrics\n",
    "\n",
    "Levenshtein distance is one of many string similarity metrics. Here's how it compares to some others:\n",
    "\n",
    "### 1. Hamming Distance\n",
    "- Only counts substitutions (no insertions/deletions)\n",
    "- Only works for strings of equal length\n",
    "- Faster to compute than Levenshtein\n",
    "\n",
    "### 2. Jaro-Winkler Distance\n",
    "- Designed for short strings like names\n",
    "- Gives more weight to matches at the beginning of strings\n",
    "- Better for name matching and record linkage\n",
    "\n",
    "### 3. Jaccard Similarity\n",
    "- Based on character or word sets, not sequences\n",
    "- Ignores order and repetition\n",
    "- Better for document similarity when word order is less important\n",
    "\n",
    "### 4. Cosine Similarity\n",
    "- Treats strings as vectors in high-dimensional space\n",
    "- Good for document similarity with term frequency weighting\n",
    "- Ignores sequence information\n"
   ],
   "id": "dfc5a1640f008494"
  },
  {
   "metadata": {
    "ExecuteTime": {
     "end_time": "2025-04-22T14:01:41.725132Z",
     "start_time": "2025-04-22T14:01:41.719033Z"
    }
   },
   "cell_type": "code",
   "source": [
    "# Implementing a simple comparison of different string metrics\n",
    "def compare_string_metrics(str1, str2):\n",
    "    \"\"\"\n",
    "    Compare different string similarity metrics.\n",
    "\n",
    "    Parameters:\n",
    "    -----------\n",
    "    str1, str2 : str\n",
    "        The strings to compare\n",
    "\n",
    "    Returns:\n",
    "    --------\n",
    "    dict\n",
    "        Dictionary with different similarity metrics\n",
    "    \"\"\"\n",
    "    # Levenshtein similarity\n",
    "    lev_sim = levenshtein_similarity(str1, str2)\n",
    "\n",
    "    # Jaccard similarity (character-based)\n",
    "    def jaccard_similarity(s1, s2):\n",
    "        set1 = set(s1.lower())\n",
    "        set2 = set(s2.lower())\n",
    "        intersection = len(set1.intersection(set2))\n",
    "        union = len(set1.union(set2))\n",
    "        return intersection / union if union > 0 else 0\n",
    "\n",
    "    jac_sim = jaccard_similarity(str1, str2)\n",
    "\n",
    "    # Simple implementation of Jaro similarity\n",
    "    def jaro_similarity(s1, s2):\n",
    "        # This is a simplified version\n",
    "        if not s1 and not s2:\n",
    "            return 1.0\n",
    "        if not s1 or not s2:\n",
    "            return 0.0\n",
    "\n",
    "        # Calculate match distance\n",
    "        match_distance = max(len(s1), len(s2)) // 2 - 1\n",
    "\n",
    "        # Find matching characters\n",
    "        s1_matches = [False] * len(s1)\n",
    "        s2_matches = [False] * len(s2)\n",
    "\n",
    "        matches = 0\n",
    "        transpositions = 0\n",
    "\n",
    "        for i in range(len(s1)):\n",
    "            start = max(0, i - match_distance)\n",
    "            end = min(i + match_distance + 1, len(s2))\n",
    "\n",
    "            for j in range(start, end):\n",
    "                if not s2_matches[j] and s1[i] == s2[j]:\n",
    "                    s1_matches[i] = True\n",
    "                    s2_matches[j] = True\n",
    "                    matches += 1\n",
    "                    break\n",
    "\n",
    "        if matches == 0:\n",
    "            return 0.0\n",
    "\n",
    "        # Count transpositions\n",
    "        k = 0\n",
    "        for i in range(len(s1)):\n",
    "            if s1_matches[i]:\n",
    "                while not s2_matches[k]:\n",
    "                    k += 1\n",
    "                if s1[i] != s2[k]:\n",
    "                    transpositions += 1\n",
    "                k += 1\n",
    "\n",
    "        # Calculate Jaro similarity\n",
    "        return (matches / len(s1) + matches / len(s2) + (matches - transpositions/2) / matches) / 3\n",
    "\n",
    "    jaro_sim = jaro_similarity(str1, str2)\n",
    "\n",
    "    return {\n",
    "        \"levenshtein\": lev_sim,\n",
    "        \"jaccard\": jac_sim,\n",
    "        \"jaro\": jaro_sim\n",
    "    }\n",
    "\n",
    "# Example comparisons\n",
    "comparison_examples = [\n",
    "    (\"color\", \"colour\"),\n",
    "    (\"new york\", \"newyork\"),\n",
    "    (\"encyclopedia\", \"encyclopaedia\"),\n",
    "    (\"completely different\", \"totally unrelated\")\n",
    "]\n",
    "\n",
    "print(\"Comparison of String Similarity Metrics:\")\n",
    "for str1, str2 in comparison_examples:\n",
    "    metrics = compare_string_metrics(str1, str2)\n",
    "    print(f\"\\n'{str1}' vs '{str2}':\")\n",
    "    print(f\"  Levenshtein: {metrics['levenshtein']:.4f}\")\n",
    "    print(f\"  Jaccard: {metrics['jaccard']:.4f}\")\n",
    "    print(f\"  Jaro: {metrics['jaro']:.4f}\")\n"
   ],
   "id": "7fc6102ebe35f839",
   "outputs": [
    {
     "name": "stdout",
     "output_type": "stream",
     "text": [
      "Comparison of String Similarity Metrics:\n",
      "\n",
      "'color' vs 'colour':\n",
      "  Levenshtein: 0.8333\n",
      "  Jaccard: 0.8000\n",
      "  Jaro: 0.9444\n",
      "\n",
      "'new york' vs 'newyork':\n",
      "  Levenshtein: 0.8750\n",
      "  Jaccard: 0.8750\n",
      "  Jaro: 0.9583\n",
      "\n",
      "'encyclopedia' vs 'encyclopaedia':\n",
      "  Levenshtein: 0.9231\n",
      "  Jaccard: 1.0000\n",
      "  Jaro: 0.9188\n",
      "\n",
      "'completely different' vs 'totally unrelated':\n",
      "  Levenshtein: 0.2500\n",
      "  Jaccard: 0.5625\n",
      "  Jaro: 0.6020\n"
     ]
    }
   ],
   "execution_count": 14
  },
  {
   "metadata": {},
   "cell_type": "markdown",
   "source": [
    "## Conclusion\n",
    "\n",
    "Levenshtein distance is a fundamental string metric with wide-ranging applications. Its intuitive definition based on edit operations makes it easy to understand, while its dynamic programming implementation provides an efficient way to compute it for practical applications.\n",
    "\n",
    "Key takeaways:\n",
    "1. Levenshtein distance measures the minimum number of single-character edits required to change one string into another\n",
    "2. It can be efficiently implemented using dynamic programming\n",
    "3. Variations like Damerau-Levenshtein distance add additional operations like transpositions\n",
    "4. Normalization helps compare strings of different lengths\n",
    "5. Applications include spell checking, DNA analysis, and fuzzy string matching\n",
    "\n",
    "When working with string similarity, it's important to choose the right metric for your specific application, as different metrics capture different aspects of string similarity.\n"
   ],
   "id": "c79277350769fb2c"
  }
 ],
 "metadata": {
  "kernelspec": {
   "display_name": "Python 3 (ipykernel)",
   "language": "python",
   "name": "python3"
  },
  "language_info": {
   "codemirror_mode": {
    "name": "ipython",
    "version": 3
   },
   "file_extension": ".py",
   "mimetype": "text/x-python",
   "name": "python",
   "nbconvert_exporter": "python",
   "pygments_lexer": "ipython3",
   "version": "3.13.3"
  }
 },
 "nbformat": 4,
 "nbformat_minor": 5
}
