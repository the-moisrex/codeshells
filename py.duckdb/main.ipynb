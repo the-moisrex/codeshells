{
 "cells": [
  {
   "cell_type": "markdown",
   "id": "c9d354a4-f694-458f-9c89-0c632ee15648",
   "metadata": {},
   "source": [
    "# tmp.Lrl5MXJLOo-codeshell\n",
    "\n",
    "    Python Version:    Python 3.8.18\n",
    "    Conda Version:     conda 24.5.0\n",
    "    Conda Environment: base\n",
    "    Conda Path:        $HOME/.conda/envs/jup\n",
    "\n",
    "    Link to docs: https://duckdb.org/docs/api/python/overview\n"
   ]
  },
  {
   "cell_type": "code",
   "execution_count": 17,
   "id": "ebab4413-85c4-4117-932e-54e2b15dc9cc",
   "metadata": {},
   "outputs": [],
   "source": [
    "import math\n",
    "import numpy as np\n",
    "import matplotlib.pyplot as plt\n",
    "import pandas as pd\n",
    "%matplotlib inline"
   ]
  },
  {
   "cell_type": "code",
   "execution_count": 18,
   "id": "4417f40f-ff3c-42f4-8d0d-dea0a6519298",
   "metadata": {},
   "outputs": [],
   "source": [
    "import duckdb"
   ]
  },
  {
   "cell_type": "code",
   "execution_count": 19,
   "id": "230c7b60-da13-44b1-a35f-3890c8a0199d",
   "metadata": {},
   "outputs": [
    {
     "data": {
      "text/plain": [
       "┌──────────┬───────────────────┬─────────┬─────────┬───┬────────────────────┬──────────────────────┬───────────┐\n",
       "│  Brand   │       Model       │ Storage │   RAM   │ … │    Camera (MP)     │ Battery Capacity (…  │ Price ($) │\n",
       "│ varchar  │      varchar      │ varchar │ varchar │   │      varchar       │        int64         │  varchar  │\n",
       "├──────────┼───────────────────┼─────────┼─────────┼───┼────────────────────┼──────────────────────┼───────────┤\n",
       "│ Apple    │ iPhone 13 Pro     │ 128 GB  │ 6 GB    │ … │ 12 + 12 + 12       │                 3095 │ 999       │\n",
       "│ Samsung  │ Galaxy S21 Ultra  │ 256 GB  │ 12 GB   │ … │ 108 + 10 + 10 + 12 │                 5000 │ 1199      │\n",
       "│ OnePlus  │ 9 Pro             │ 128 GB  │ 8 GB    │ … │ 48 + 50 + 8 + 2    │                 4500 │ 899       │\n",
       "│ Xiaomi   │ Redmi Note 10 Pro │ 128 GB  │ 6 GB    │ … │ 64 + 8 + 5 + 2     │                 5020 │ 279       │\n",
       "│ Google   │ Pixel 6           │ 128 GB  │ 8 GB    │ … │ 50 + 12.2          │                 4614 │ 799       │\n",
       "│ Apple    │ iPhone 13         │ 128 GB  │ 4 GB    │ … │ 12 + 12            │                 2815 │ 799       │\n",
       "│ Samsung  │ Galaxy Z Flip3    │ 256 GB  │ 8 GB    │ … │ 12 + 12            │                 3300 │ 999       │\n",
       "│ Xiaomi   │ Poco X3 Pro       │ 128 GB  │ 6 GB    │ … │ 48 + 8 + 2 + 2     │                 5160 │ 249       │\n",
       "│ Oppo     │ Reno6 Pro+ 5G     │ 128 GB  │ 8 GB    │ … │ 50 + 13 + 16 + 2   │                 4500 │ 699       │\n",
       "│ Vivo     │ X70 Pro+          │ 256 GB  │ 12 GB   │ … │ 50 + 48 + 12 + 8   │                 4500 │ 1199      │\n",
       "│  ·       │    ·              │  ·      │ ·       │ · │   ·                │                   ·  │  ·        │\n",
       "│  ·       │    ·              │  ·      │ ·       │ · │   ·                │                   ·  │  ·        │\n",
       "│  ·       │    ·              │  ·      │ ·       │ · │   ·                │                   ·  │  ·        │\n",
       "│ Xiaomi   │ Poco M3           │ 128     │ 4       │ … │ 48+2+2             │                 6000 │ 149       │\n",
       "│ Samsung  │ Galaxy A52 5G     │ 128     │ 6       │ … │ 64+12+5+5          │                 4500 │ 449       │\n",
       "│ Oppo     │ A93               │ 128     │ 8       │ … │ 48+8+2+2           │                 4000 │ 319       │\n",
       "│ Motorola │ Moto G Pro        │ 128     │ 4       │ … │ 48+16+2            │                 4000 │ 329       │\n",
       "│ Huawei   │ P30 Lite          │ 128     │ 4       │ … │ 48+8+2             │                 3340 │ 329       │\n",
       "│ Samsung  │ Galaxy Note20 5G  │ 128     │ 8       │ … │ 12+64+12           │                 4300 │ 1049      │\n",
       "│ Xiaomi   │ Mi 10 Lite 5G     │ 128     │ 6       │ … │ 48+8+2+2           │                 4160 │ 349       │\n",
       "│ Apple    │ iPhone 12 Pro Max │ 128     │ 6       │ … │ 12+12+12           │                 3687 │ 1099      │\n",
       "│ Oppo     │ Reno3             │ 128     │ 8       │ … │ 48+13+8+2          │                 4025 │ 429       │\n",
       "│ Samsung  │ Galaxy S10 Lite   │ 128     │ 6       │ … │ 48+12+5            │                 4500 │ 649       │\n",
       "├──────────┴───────────────────┴─────────┴─────────┴───┴────────────────────┴──────────────────────┴───────────┤\n",
       "│ 407 rows (20 shown)                                                                      8 columns (7 shown) │\n",
       "└──────────────────────────────────────────────────────────────────────────────────────────────────────────────┘"
      ]
     },
     "execution_count": 19,
     "metadata": {},
     "output_type": "execute_result"
    }
   ],
   "source": [
    "duckdb.read_csv(\"prices.csv\")"
   ]
  },
  {
   "cell_type": "code",
   "execution_count": 20,
   "id": "ea066029-b0ac-43b8-9d72-d6276bf1ba24",
   "metadata": {},
   "outputs": [
    {
     "name": "stdout",
     "output_type": "stream",
     "text": [
      "┌──────────┬───────────────────┬─────────┬─────────┬───┬────────────────────┬──────────────────────┬───────────┐\n",
      "│  Brand   │       Model       │ Storage │   RAM   │ … │    Camera (MP)     │ Battery Capacity (…  │ Price ($) │\n",
      "│ varchar  │      varchar      │ varchar │ varchar │   │      varchar       │        int64         │  varchar  │\n",
      "├──────────┼───────────────────┼─────────┼─────────┼───┼────────────────────┼──────────────────────┼───────────┤\n",
      "│ Apple    │ iPhone 13 Pro     │ 128 GB  │ 6 GB    │ … │ 12 + 12 + 12       │                 3095 │ 999       │\n",
      "│ Samsung  │ Galaxy S21 Ultra  │ 256 GB  │ 12 GB   │ … │ 108 + 10 + 10 + 12 │                 5000 │ 1199      │\n",
      "│ OnePlus  │ 9 Pro             │ 128 GB  │ 8 GB    │ … │ 48 + 50 + 8 + 2    │                 4500 │ 899       │\n",
      "│ Xiaomi   │ Redmi Note 10 Pro │ 128 GB  │ 6 GB    │ … │ 64 + 8 + 5 + 2     │                 5020 │ 279       │\n",
      "│ Google   │ Pixel 6           │ 128 GB  │ 8 GB    │ … │ 50 + 12.2          │                 4614 │ 799       │\n",
      "│ Apple    │ iPhone 13         │ 128 GB  │ 4 GB    │ … │ 12 + 12            │                 2815 │ 799       │\n",
      "│ Samsung  │ Galaxy Z Flip3    │ 256 GB  │ 8 GB    │ … │ 12 + 12            │                 3300 │ 999       │\n",
      "│ Xiaomi   │ Poco X3 Pro       │ 128 GB  │ 6 GB    │ … │ 48 + 8 + 2 + 2     │                 5160 │ 249       │\n",
      "│ Oppo     │ Reno6 Pro+ 5G     │ 128 GB  │ 8 GB    │ … │ 50 + 13 + 16 + 2   │                 4500 │ 699       │\n",
      "│ Vivo     │ X70 Pro+          │ 256 GB  │ 12 GB   │ … │ 50 + 48 + 12 + 8   │                 4500 │ 1199      │\n",
      "│  ·       │    ·              │  ·      │ ·       │ · │   ·                │                   ·  │  ·        │\n",
      "│  ·       │    ·              │  ·      │ ·       │ · │   ·                │                   ·  │  ·        │\n",
      "│  ·       │    ·              │  ·      │ ·       │ · │   ·                │                   ·  │  ·        │\n",
      "│ Xiaomi   │ Poco M3           │ 128     │ 4       │ … │ 48+2+2             │                 6000 │ 149       │\n",
      "│ Samsung  │ Galaxy A52 5G     │ 128     │ 6       │ … │ 64+12+5+5          │                 4500 │ 449       │\n",
      "│ Oppo     │ A93               │ 128     │ 8       │ … │ 48+8+2+2           │                 4000 │ 319       │\n",
      "│ Motorola │ Moto G Pro        │ 128     │ 4       │ … │ 48+16+2            │                 4000 │ 329       │\n",
      "│ Huawei   │ P30 Lite          │ 128     │ 4       │ … │ 48+8+2             │                 3340 │ 329       │\n",
      "│ Samsung  │ Galaxy Note20 5G  │ 128     │ 8       │ … │ 12+64+12           │                 4300 │ 1049      │\n",
      "│ Xiaomi   │ Mi 10 Lite 5G     │ 128     │ 6       │ … │ 48+8+2+2           │                 4160 │ 349       │\n",
      "│ Apple    │ iPhone 12 Pro Max │ 128     │ 6       │ … │ 12+12+12           │                 3687 │ 1099      │\n",
      "│ Oppo     │ Reno3             │ 128     │ 8       │ … │ 48+13+8+2          │                 4025 │ 429       │\n",
      "│ Samsung  │ Galaxy S10 Lite   │ 128     │ 6       │ … │ 48+12+5            │                 4500 │ 649       │\n",
      "├──────────┴───────────────────┴─────────┴─────────┴───┴────────────────────┴──────────────────────┴───────────┤\n",
      "│ 407 rows (20 shown)                                                                      8 columns (7 shown) │\n",
      "└──────────────────────────────────────────────────────────────────────────────────────────────────────────────┘\n",
      "\n"
     ]
    }
   ],
   "source": [
    "duckdb.sql(\"select * from 'prices.csv'\").show()"
   ]
  },
  {
   "cell_type": "code",
   "execution_count": 21,
   "id": "46dee236-bc4b-44b7-ad68-ed1b55c2d96c",
   "metadata": {},
   "outputs": [
    {
     "data": {
      "text/plain": [
       "[(42,)]"
      ]
     },
     "execution_count": 21,
     "metadata": {},
     "output_type": "execute_result"
    }
   ],
   "source": [
    "duckdb.sql(\"select 42\").fetchall()"
   ]
  },
  {
   "cell_type": "code",
   "execution_count": 22,
   "id": "6daa99de-e61c-4a81-afdc-f4815f716c5c",
   "metadata": {},
   "outputs": [
    {
     "data": {
      "text/html": [
       "<div>\n",
       "<style scoped>\n",
       "    .dataframe tbody tr th:only-of-type {\n",
       "        vertical-align: middle;\n",
       "    }\n",
       "\n",
       "    .dataframe tbody tr th {\n",
       "        vertical-align: top;\n",
       "    }\n",
       "\n",
       "    .dataframe thead th {\n",
       "        text-align: right;\n",
       "    }\n",
       "</style>\n",
       "<table border=\"1\" class=\"dataframe\">\n",
       "  <thead>\n",
       "    <tr style=\"text-align: right;\">\n",
       "      <th></th>\n",
       "      <th>42</th>\n",
       "    </tr>\n",
       "  </thead>\n",
       "  <tbody>\n",
       "    <tr>\n",
       "      <th>0</th>\n",
       "      <td>42</td>\n",
       "    </tr>\n",
       "  </tbody>\n",
       "</table>\n",
       "</div>"
      ],
      "text/plain": [
       "   42\n",
       "0  42"
      ]
     },
     "execution_count": 22,
     "metadata": {},
     "output_type": "execute_result"
    }
   ],
   "source": [
    "duckdb.sql(\"select 42\").df()"
   ]
  },
  {
   "cell_type": "code",
   "execution_count": 23,
   "id": "b04f0869-de89-4f9d-bb8f-5bebc9a3d6cb",
   "metadata": {},
   "outputs": [
    {
     "data": {
      "text/plain": [
       "{'42': array([42], dtype=int32)}"
      ]
     },
     "execution_count": 23,
     "metadata": {},
     "output_type": "execute_result"
    }
   ],
   "source": [
    "duckdb.sql(\"select 42\").fetchnumpy()"
   ]
  },
  {
   "cell_type": "code",
   "execution_count": 24,
   "id": "3d14ed22-7b79-44b0-8c3a-1fd2387b3e4c",
   "metadata": {},
   "outputs": [
    {
     "data": {
      "text/plain": [
       "┌─────────┬──────────────────────┬─────────┬─────────┬───┬─────────────────┬──────────────────────┬───────────┐\n",
       "│  Brand  │        Model         │ Storage │   RAM   │ … │   Camera (MP)   │ Battery Capacity (…  │ Price ($) │\n",
       "│ varchar │       varchar        │ varchar │ varchar │   │     varchar     │        int64         │  varchar  │\n",
       "├─────────┼──────────────────────┼─────────┼─────────┼───┼─────────────────┼──────────────────────┼───────────┤\n",
       "│ Xiaomi  │ Redmi Note 10 Pro    │ 128 GB  │ 6 GB    │ … │ 64 + 8 + 5 + 2  │                 5020 │ 279       │\n",
       "│ Xiaomi  │ Poco X3 Pro          │ 128 GB  │ 6 GB    │ … │ 48 + 8 + 2 + 2  │                 5160 │ 249       │\n",
       "│ Xiaomi  │ Mi 11 Lite 5G NE     │ 128 GB  │ 6 GB    │ … │ 64 + 8 + 5      │                 4250 │ 329       │\n",
       "│ Xiaomi  │ Redmi 10 Prime       │ 128 GB  │ 6 GB    │ … │ 50 + 8 + 2 + 2  │                 6000 │ 179       │\n",
       "│ Xiaomi  │ Redmi Note 10 Pro …  │ 128 GB  │ 6 GB    │ … │ 108 + 8 + 5 + 2 │                 5020 │ 279       │\n",
       "│ Xiaomi  │ Redmi 10             │ 128 GB  │ 4 GB    │ … │ 50 + 8 + 2 + 2  │                 5000 │ 179       │\n",
       "│ Xiaomi  │ Poco M3 Pro 5G       │ 64 GB   │ 4 GB    │ … │ 48 + 2 + 2      │                 5000 │ 199       │\n",
       "│ Xiaomi  │ Mi 11X               │ 128 GB  │ 8 GB    │ … │ 48 + 8 + 5      │                 4520 │ 529       │\n",
       "│ Xiaomi  │ Redmi 9 Power        │ 128 GB  │ 4 GB    │ … │ 48 + 8 + 2 + 2  │                 6000 │ 189       │\n",
       "│ Xiaomi  │ Redmi 9T             │ 128 GB  │ 4 GB    │ … │ 48 + 8 + 2 + 2  │                 6000 │ 199       │\n",
       "│   ·     │    ·                 │  ·      │ ·       │ · │   ·             │                   ·  │  ·        │\n",
       "│   ·     │    ·                 │  ·      │ ·       │ · │   ·             │                   ·  │  ·        │\n",
       "│   ·     │    ·                 │  ·      │ ·       │ · │   ·             │                   ·  │  ·        │\n",
       "│ Xiaomi  │ Mi 11 Lite           │ 128     │ 6       │ … │ 64+8+5          │                 4250 │ 399       │\n",
       "│ Xiaomi  │ Redmi 9T             │ 128     │ 4       │ … │ 48+8+2+2        │                 6000 │ 199       │\n",
       "│ Xiaomi  │ Poco M3              │ 128     │ 4       │ … │ 48+2+2          │                 6000 │ 179       │\n",
       "│ Xiaomi  │ Redmi Note 9S        │ 128     │ 6       │ … │ 48+8+5+2        │                 5020 │ 229       │\n",
       "│ Xiaomi  │ Mi 10T Pro 5G        │ 128     │ 8       │ … │ 108+13+5        │                 5000 │ 599       │\n",
       "│ Xiaomi  │ Redmi 9C             │ 64      │ 3       │ … │ 13+2+2          │                 5000 │ 119       │\n",
       "│ Xiaomi  │ Redmi Note 10 Pro    │ 128     │ 6       │ … │ 108+8+5+2       │                 5020 │ 329       │\n",
       "│ Xiaomi  │ Redmi 9T             │ 128     │ 4       │ … │ 48+8+2+2        │                 6000 │ 199       │\n",
       "│ Xiaomi  │ Poco M3              │ 128     │ 4       │ … │ 48+2+2          │                 6000 │ 149       │\n",
       "│ Xiaomi  │ Mi 10 Lite 5G        │ 128     │ 6       │ … │ 48+8+2+2        │                 4160 │ 349       │\n",
       "├─────────┴──────────────────────┴─────────┴─────────┴───┴─────────────────┴──────────────────────┴───────────┤\n",
       "│ 67 rows (20 shown)                                                                      8 columns (7 shown) │\n",
       "└─────────────────────────────────────────────────────────────────────────────────────────────────────────────┘"
      ]
     },
     "execution_count": 24,
     "metadata": {},
     "output_type": "execute_result"
    }
   ],
   "source": [
    "duckdb.sql(\"select * from 'prices.csv' where brand = 'Xiaomi'\")"
   ]
  },
  {
   "cell_type": "code",
   "execution_count": 25,
   "id": "c657f9bf-10a1-46a5-b4e2-b9791e6dcc17",
   "metadata": {},
   "outputs": [],
   "source": [
    "duckdb.sql(\"select * from 'prices.csv' where brand = 'Xiaomi'\").write_parquet(\"xiaomi_prices.parquet\")"
   ]
  }
 ],
 "metadata": {
  "kernelspec": {
   "display_name": "Python 3 (ipykernel)",
   "language": "python",
   "name": "python3"
  },
  "language_info": {
   "codemirror_mode": {
    "name": "ipython",
    "version": 3
   },
   "file_extension": ".py",
   "mimetype": "text/x-python",
   "name": "python",
   "nbconvert_exporter": "python",
   "pygments_lexer": "ipython3",
   "version": "3.8.18"
  }
 },
 "nbformat": 4,
 "nbformat_minor": 5
}
