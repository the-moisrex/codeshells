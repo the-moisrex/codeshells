{
 "cells": [
  {
   "cell_type": "markdown",
   "id": "c9d354a4-f694-458f-9c89-0c632ee15648",
   "metadata": {},
   "source": [
    "# tmp.jd0rJHXa6j-codeshell\n",
    "\n",
    "    Python Version:    Python 3.8.18\n",
    "    Conda Version:     conda 24.1.2\n",
    "    Conda Environment: jup\n",
    "    Conda Path:        $HOME/.conda/envs/jup\n"
   ]
  },
  {
   "cell_type": "code",
   "execution_count": 1,
   "id": "ebab4413-85c4-4117-932e-54e2b15dc9cc",
   "metadata": {},
   "outputs": [],
   "source": [
    "import math\n",
    "import numpy as np\n",
    "import matplotlib.pyplot as plt\n",
    "%matplotlib inline"
   ]
  },
  {
   "cell_type": "code",
   "execution_count": 2,
   "id": "9bfc31cb-c45d-4c63-8e4b-871ba3616e92",
   "metadata": {},
   "outputs": [],
   "source": [
    "import torch"
   ]
  },
  {
   "cell_type": "code",
   "execution_count": 4,
   "id": "7b330883-71a0-4b68-91cb-e654008f65ea",
   "metadata": {},
   "outputs": [
    {
     "name": "stdout",
     "output_type": "stream",
     "text": [
      "using cpu device.\n"
     ]
    }
   ],
   "source": [
    "if torch.cuda.is_available():\n",
    "    device = torch.device(\"cuda\")\n",
    "else:\n",
    "    device = torch.device(\"cpu\")\n",
    "\n",
    "print(\"using\", device, \"device.\")"
   ]
  },
  {
   "cell_type": "code",
   "execution_count": 6,
   "id": "fbc210d5-8e1b-415e-ad31-c35ad22c51a4",
   "metadata": {},
   "outputs": [
    {
     "name": "stdout",
     "output_type": "stream",
     "text": [
      "8.655245542526245\n",
      "Verify device: cpu\n"
     ]
    }
   ],
   "source": [
    "import time\n",
    "\n",
    "matrix_size = 32*512\n",
    "\n",
    "x = torch.randn(matrix_size, matrix_size)\n",
    "y = torch.randn(matrix_size, matrix_size)\n",
    "\n",
    "start = time.time()\n",
    "result = torch.matmul(x, y)\n",
    "\n",
    "print(time.time() - start)\n",
    "print(\"Verify device:\", result.device)\n"
   ]
  }
 ],
 "metadata": {
  "kernelspec": {
   "display_name": "Python 3 (ipykernel)",
   "language": "python",
   "name": "python3"
  },
  "language_info": {
   "codemirror_mode": {
    "name": "ipython",
    "version": 3
   },
   "file_extension": ".py",
   "mimetype": "text/x-python",
   "name": "python",
   "nbconvert_exporter": "python",
   "pygments_lexer": "ipython3",
   "version": "3.8.18"
  }
 },
 "nbformat": 4,
 "nbformat_minor": 5
}
