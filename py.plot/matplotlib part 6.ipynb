{
 "cells": [
  {
   "cell_type": "markdown",
   "id": "b4dc89f4-845f-4de8-a1ce-f17b3a104abf",
   "metadata": {},
   "source": [
    "# Matplotlib Tutorial (Part 6): Histograms\n",
    "\n",
    "[The video which its based on](https://youtu.be/XDv6T4a0RNc)\n",
    "\n",
    "[The source code](https://github.com/CoreyMSchafer/code_snippets/tree/master/Python/Matplotlib/06-Histograms)\n"
   ]
  },
  {
   "cell_type": "code",
   "execution_count": 1,
   "id": "4d7c098a-d95a-4e1b-9474-958bcf87728f",
   "metadata": {},
   "outputs": [],
   "source": [
    "from matplotlib import pyplot as plt\n",
    "import pandas as pd\n",
    "from collections import Counter\n",
    "import numpy as np\n",
    "\n",
    "# plt.style.use(\"fivethirtyeight\")"
   ]
  },
  {
   "cell_type": "code",
   "execution_count": null,
   "id": "6c5193f0-00c5-4507-89c8-fe63bd36568f",
   "metadata": {},
   "outputs": [],
   "source": []
  }
 ],
 "metadata": {
  "kernelspec": {
   "display_name": "Python 3 (ipykernel)",
   "language": "python",
   "name": "python3"
  },
  "language_info": {
   "codemirror_mode": {
    "name": "ipython",
    "version": 3
   },
   "file_extension": ".py",
   "mimetype": "text/x-python",
   "name": "python",
   "nbconvert_exporter": "python",
   "pygments_lexer": "ipython3",
   "version": "3.10.9"
  }
 },
 "nbformat": 4,
 "nbformat_minor": 5
}
