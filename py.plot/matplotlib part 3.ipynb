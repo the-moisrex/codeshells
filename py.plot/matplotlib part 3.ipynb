{
 "cells": [
  {
   "cell_type": "markdown",
   "id": "77c4b588-371e-4c86-bf45-aa69637f78e9",
   "metadata": {},
   "source": [
    "# Matplotlib notebook, Part 3\n",
    "\n",
    "Based on this tutorial: https://youtu.be/MPiz50TsyF0?list=PL-osiE80TeTvipOqomVEeZ1HRrcEvtZB_\n"
   ]
  },
  {
   "cell_type": "code",
   "execution_count": null,
   "id": "2c3888de-7bf2-463a-a73e-3e1122ca3a61",
   "metadata": {},
   "outputs": [],
   "source": []
  }
 ],
 "metadata": {
  "kernelspec": {
   "display_name": "Python 3 (ipykernel)",
   "language": "python",
   "name": "python3"
  },
  "language_info": {
   "codemirror_mode": {
    "name": "ipython",
    "version": 3
   },
   "file_extension": ".py",
   "mimetype": "text/x-python",
   "name": "python",
   "nbconvert_exporter": "python",
   "pygments_lexer": "ipython3",
   "version": "3.10.9"
  }
 },
 "nbformat": 4,
 "nbformat_minor": 5
}
