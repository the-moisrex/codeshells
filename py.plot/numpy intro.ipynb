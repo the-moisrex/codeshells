{
 "cells": [
  {
   "cell_type": "code",
   "execution_count": 87,
   "id": "f825ae6b-9742-40c9-8787-52e6a0a82c88",
   "metadata": {},
   "outputs": [],
   "source": [
    "import numpy as np"
   ]
  },
  {
   "cell_type": "code",
   "execution_count": 88,
   "id": "789b5413-8098-48a5-85db-8fe6650f0099",
   "metadata": {},
   "outputs": [
    {
     "data": {
      "text/plain": [
       "array([[0., 0., 0.],\n",
       "       [0., 0., 0.],\n",
       "       [0., 0., 0.]])"
      ]
     },
     "execution_count": 88,
     "metadata": {},
     "output_type": "execute_result"
    }
   ],
   "source": [
    "a = np.zeros((3, 3))\n",
    "a"
   ]
  },
  {
   "cell_type": "code",
   "execution_count": 89,
   "id": "acdf74a2-91f3-497d-8dc0-2d30e047df86",
   "metadata": {},
   "outputs": [
    {
     "data": {
      "text/plain": [
       "array([[2., 2., 2.],\n",
       "       [2., 2., 2.],\n",
       "       [2., 2., 2.]])"
      ]
     },
     "execution_count": 89,
     "metadata": {},
     "output_type": "execute_result"
    }
   ],
   "source": [
    "a[:] = 2\n",
    "a"
   ]
  },
  {
   "cell_type": "code",
   "execution_count": 90,
   "id": "1a55bf6b-f52f-4f8d-a578-ab7ece4e8bec",
   "metadata": {},
   "outputs": [
    {
     "data": {
      "text/plain": [
       "array([1, 2, 3, 4, 5, 6, 7, 8, 9])"
      ]
     },
     "execution_count": 90,
     "metadata": {},
     "output_type": "execute_result"
    }
   ],
   "source": [
    "b = np.arange(1, 10)\n",
    "b"
   ]
  },
  {
   "cell_type": "code",
   "execution_count": 91,
   "id": "d79cea69-99d2-4818-9f05-fe8e4a2c0287",
   "metadata": {},
   "outputs": [
    {
     "data": {
      "text/plain": [
       "array([[1, 2, 3],\n",
       "       [4, 5, 6],\n",
       "       [7, 8, 9]])"
      ]
     },
     "execution_count": 91,
     "metadata": {},
     "output_type": "execute_result"
    }
   ],
   "source": [
    "b = b.reshape((3, 3))\n",
    "b"
   ]
  },
  {
   "cell_type": "code",
   "execution_count": 92,
   "id": "355e99fd-fbb3-4419-99cd-043f4d6b06c2",
   "metadata": {},
   "outputs": [
    {
     "data": {
      "text/plain": [
       "(dtype('float64'), dtype('int64'))"
      ]
     },
     "execution_count": 92,
     "metadata": {},
     "output_type": "execute_result"
    }
   ],
   "source": [
    "a.dtype, b.dtype"
   ]
  },
  {
   "cell_type": "code",
   "execution_count": 93,
   "id": "772bb498-23d5-4ab9-863f-a45bb70bab3b",
   "metadata": {},
   "outputs": [
    {
     "data": {
      "text/plain": [
       "array([[2, 2, 2],\n",
       "       [2, 2, 2],\n",
       "       [2, 2, 2]])"
      ]
     },
     "execution_count": 93,
     "metadata": {},
     "output_type": "execute_result"
    }
   ],
   "source": [
    "aa = np.zeros((3, 3), dtype=np.int64)\n",
    "aa[:] = 2\n",
    "aa"
   ]
  },
  {
   "cell_type": "code",
   "execution_count": 94,
   "id": "b2598432-c617-44aa-a685-a37aa9f908ed",
   "metadata": {},
   "outputs": [
    {
     "data": {
      "text/plain": [
       "array([[8, 8, 8],\n",
       "       [8, 8, 8],\n",
       "       [8, 8, 8]])"
      ]
     },
     "execution_count": 94,
     "metadata": {},
     "output_type": "execute_result"
    }
   ],
   "source": [
    "aa.fill(8)\n",
    "aa"
   ]
  },
  {
   "cell_type": "code",
   "execution_count": 95,
   "id": "da7dc9a8-3aae-4452-8fc0-ea9cb2f9029a",
   "metadata": {},
   "outputs": [
    {
     "data": {
      "text/plain": [
       "array([[11, 11, 11],\n",
       "       [11, 11, 11],\n",
       "       [11, 11, 11]])"
      ]
     },
     "execution_count": 95,
     "metadata": {},
     "output_type": "execute_result"
    }
   ],
   "source": [
    "aa += 3\n",
    "aa"
   ]
  },
  {
   "cell_type": "code",
   "execution_count": 96,
   "id": "279aedfd-67f7-4c24-a1c9-ee6770f1e99d",
   "metadata": {},
   "outputs": [
    {
     "data": {
      "text/plain": [
       "array([[11, 11, 11],\n",
       "       [11, 11, 11],\n",
       "       [11, 11, 11]])"
      ]
     },
     "execution_count": 96,
     "metadata": {},
     "output_type": "execute_result"
    }
   ],
   "source": [
    "# aa /= 3 # The result is a floating point value thus it can't store it again in an int64 bucket\n",
    "aa"
   ]
  },
  {
   "cell_type": "code",
   "execution_count": 97,
   "id": "7292e8fa-5c49-4a24-81fd-f9e61da94911",
   "metadata": {},
   "outputs": [
    {
     "data": {
      "text/plain": [
       "array([[1.66666667, 1.66666667, 1.66666667],\n",
       "       [1.66666667, 1.66666667, 1.66666667],\n",
       "       [1.66666667, 1.66666667, 1.66666667]])"
      ]
     },
     "execution_count": 97,
     "metadata": {},
     "output_type": "execute_result"
    }
   ],
   "source": [
    "a += 3\n",
    "a /= 3 # no more errors because we didn't specify the type for variable a thus it became float\n",
    "a"
   ]
  },
  {
   "cell_type": "code",
   "execution_count": 98,
   "id": "c7cb4046-676b-4247-a479-5a39b60e0d68",
   "metadata": {},
   "outputs": [
    {
     "data": {
      "text/plain": [
       "15.0"
      ]
     },
     "execution_count": 98,
     "metadata": {},
     "output_type": "execute_result"
    }
   ],
   "source": [
    "a.sum()"
   ]
  },
  {
   "cell_type": "code",
   "execution_count": 99,
   "id": "ebc7ea20-68ca-4558-8bb2-cfab41ba8989",
   "metadata": {},
   "outputs": [
    {
     "data": {
      "text/plain": [
       "array([5., 5., 5.])"
      ]
     },
     "execution_count": 99,
     "metadata": {},
     "output_type": "execute_result"
    }
   ],
   "source": [
    "a.sum(0) # sum of each columns"
   ]
  },
  {
   "cell_type": "code",
   "execution_count": 100,
   "id": "9073570b-367a-4708-b168-89cc4ddeb687",
   "metadata": {},
   "outputs": [
    {
     "data": {
      "text/plain": [
       "array([ 6, 15, 24])"
      ]
     },
     "execution_count": 100,
     "metadata": {},
     "output_type": "execute_result"
    }
   ],
   "source": [
    "b.sum(1) # sum of rows"
   ]
  },
  {
   "cell_type": "code",
   "execution_count": 101,
   "id": "3e140628-4569-4039-a555-772b6075ba40",
   "metadata": {},
   "outputs": [
    {
     "data": {
      "text/plain": [
       "array([ 6, 15, 24])"
      ]
     },
     "execution_count": 101,
     "metadata": {},
     "output_type": "execute_result"
    }
   ],
   "source": [
    "b.sum(axis=1)"
   ]
  },
  {
   "cell_type": "code",
   "execution_count": 102,
   "id": "b28d697b-5a17-4060-bbaa-b10290cd125d",
   "metadata": {},
   "outputs": [
    {
     "data": {
      "text/plain": [
       "362880"
      ]
     },
     "execution_count": 102,
     "metadata": {},
     "output_type": "execute_result"
    }
   ],
   "source": [
    "b.prod()"
   ]
  },
  {
   "cell_type": "code",
   "execution_count": 103,
   "id": "240fe01f-1c10-4656-aa12-4cb83c2d9a6a",
   "metadata": {},
   "outputs": [
    {
     "data": {
      "text/plain": [
       "5.0"
      ]
     },
     "execution_count": 103,
     "metadata": {},
     "output_type": "execute_result"
    }
   ],
   "source": [
    "b.mean()"
   ]
  },
  {
   "cell_type": "code",
   "execution_count": 104,
   "id": "aa565af2-c135-4154-b9f1-5512ce94c001",
   "metadata": {},
   "outputs": [
    {
     "data": {
      "text/plain": [
       "(9, 1)"
      ]
     },
     "execution_count": 104,
     "metadata": {},
     "output_type": "execute_result"
    }
   ],
   "source": [
    "b.max(), b.min()"
   ]
  },
  {
   "cell_type": "code",
   "execution_count": 105,
   "id": "6e1ddb93-5f4b-486d-8d68-255574770b82",
   "metadata": {},
   "outputs": [
    {
     "data": {
      "text/plain": [
       "(8, 0)"
      ]
     },
     "execution_count": 105,
     "metadata": {},
     "output_type": "execute_result"
    }
   ],
   "source": [
    "b.argmax(), b.argmin() # The index of tha max and min values"
   ]
  },
  {
   "cell_type": "code",
   "execution_count": 106,
   "id": "d6f8bec8-a9f1-41dd-9ce2-7f56e6d50272",
   "metadata": {},
   "outputs": [
    {
     "data": {
      "text/plain": [
       "8"
      ]
     },
     "execution_count": 106,
     "metadata": {},
     "output_type": "execute_result"
    }
   ],
   "source": [
    "peak_to_peak = b.ptp()\n",
    "peak_to_peak"
   ]
  },
  {
   "cell_type": "code",
   "execution_count": 107,
   "id": "c1bc520d-5a6a-4662-9347-ef83995e0e2a",
   "metadata": {},
   "outputs": [
    {
     "data": {
      "text/plain": [
       "8"
      ]
     },
     "execution_count": 107,
     "metadata": {},
     "output_type": "execute_result"
    }
   ],
   "source": [
    "b.max() - b.min()  # the same as PTP above"
   ]
  },
  {
   "cell_type": "code",
   "execution_count": 108,
   "id": "2a1ab4d2-e847-49c7-92bf-59443c3d7501",
   "metadata": {},
   "outputs": [
    {
     "data": {
      "text/plain": [
       "array([1, 2, 3, 4, 5, 6, 7, 8, 9])"
      ]
     },
     "execution_count": 108,
     "metadata": {},
     "output_type": "execute_result"
    }
   ],
   "source": [
    "# flatten arrays\n",
    "\n",
    "b.reshape(b.size)"
   ]
  },
  {
   "cell_type": "code",
   "execution_count": 109,
   "id": "7a0d5303-3692-49a4-a37d-327972c805e3",
   "metadata": {},
   "outputs": [
    {
     "data": {
      "text/plain": [
       "9"
      ]
     },
     "execution_count": 109,
     "metadata": {},
     "output_type": "execute_result"
    }
   ],
   "source": [
    "b.size"
   ]
  },
  {
   "cell_type": "code",
   "execution_count": 110,
   "id": "bc371f07-14a5-4f72-a6a4-5e968436be94",
   "metadata": {},
   "outputs": [
    {
     "data": {
      "text/plain": [
       "array([1, 2, 3, 4, 5, 6, 7, 8, 9])"
      ]
     },
     "execution_count": 110,
     "metadata": {},
     "output_type": "execute_result"
    }
   ],
   "source": [
    "b.flatten()"
   ]
  },
  {
   "cell_type": "code",
   "execution_count": 111,
   "id": "83e12037-74b3-43df-b75a-e587407ea085",
   "metadata": {},
   "outputs": [
    {
     "data": {
      "text/plain": [
       "array([1, 2, 3, 4, 5, 6, 7, 8, 9])"
      ]
     },
     "execution_count": 111,
     "metadata": {},
     "output_type": "execute_result"
    }
   ],
   "source": [
    "b.ravel() # returns a view despite the .flatten method"
   ]
  },
  {
   "cell_type": "code",
   "execution_count": 112,
   "id": "8c5f2a72-423e-4998-b70d-925b19723bd1",
   "metadata": {},
   "outputs": [
    {
     "data": {
      "text/plain": [
       "(array([[1, 2, 3],\n",
       "        [4, 5, 6],\n",
       "        [7, 8, 9]]),\n",
       " array([ 3,  4,  5,  6,  7,  8,  9, 10, 11]),\n",
       " array([ 3,  4,  5,  6,  7,  8,  9, 10, 11]))"
      ]
     },
     "execution_count": 112,
     "metadata": {},
     "output_type": "execute_result"
    }
   ],
   "source": [
    "bb = b.flatten() # a copy\n",
    "bbr = bb.ravel()\n",
    "bbr += 2\n",
    "b, bb, bbr"
   ]
  },
  {
   "cell_type": "code",
   "execution_count": 113,
   "id": "ccd9eba6-8988-4973-b2ec-4d6ae4030273",
   "metadata": {},
   "outputs": [
    {
     "data": {
      "text/plain": [
       "array([255, 255, 255])"
      ]
     },
     "execution_count": 113,
     "metadata": {},
     "output_type": "execute_result"
    }
   ],
   "source": [
    "np.repeat(255, 3)"
   ]
  },
  {
   "cell_type": "code",
   "execution_count": 114,
   "id": "a2c04903-af2d-48ff-974d-266a93288526",
   "metadata": {},
   "outputs": [
    {
     "data": {
      "text/plain": [
       "array([1, 1, 1, 2, 2, 2, 3, 3, 3, 4, 4, 4, 5, 5, 5, 6, 6, 6, 7, 7, 7, 8,\n",
       "       8, 8, 9, 9, 9])"
      ]
     },
     "execution_count": 114,
     "metadata": {},
     "output_type": "execute_result"
    }
   ],
   "source": [
    "np.repeat(b.flatten(), 3)"
   ]
  },
  {
   "cell_type": "code",
   "execution_count": 115,
   "id": "b9c155ba-fa32-406f-9f3a-55f07e25cae7",
   "metadata": {},
   "outputs": [
    {
     "data": {
      "text/plain": [
       "array([[1, 1, 1, 2, 2, 2, 3, 3, 3],\n",
       "       [4, 4, 4, 5, 5, 5, 6, 6, 6],\n",
       "       [7, 7, 7, 8, 8, 8, 9, 9, 9]])"
      ]
     },
     "execution_count": 115,
     "metadata": {},
     "output_type": "execute_result"
    }
   ],
   "source": [
    "np.repeat(b, 3, axis=1)"
   ]
  },
  {
   "cell_type": "code",
   "execution_count": 116,
   "id": "bb9f7837-8b39-4ba6-802b-9383d697d4d2",
   "metadata": {},
   "outputs": [
    {
     "data": {
      "text/plain": [
       "array([1, 1, 1, 2, 2, 2, 3, 3, 3, 4, 4, 4, 5, 5, 5, 6, 6, 6, 7, 7, 7, 8,\n",
       "       8, 8, 9, 9, 9])"
      ]
     },
     "execution_count": 116,
     "metadata": {},
     "output_type": "execute_result"
    }
   ],
   "source": [
    "np.repeat(b, 3)"
   ]
  },
  {
   "cell_type": "code",
   "execution_count": 117,
   "id": "8d95a933-a1c2-4618-91b7-e41f44252a5e",
   "metadata": {},
   "outputs": [
    {
     "data": {
      "text/plain": [
       "array([[1, 2, 3],\n",
       "       [4, 5, 6],\n",
       "       [7, 8, 9]])"
      ]
     },
     "execution_count": 117,
     "metadata": {},
     "output_type": "execute_result"
    }
   ],
   "source": [
    "b"
   ]
  },
  {
   "cell_type": "code",
   "execution_count": 118,
   "id": "f4ffdbbc-8d7b-4e9c-b631-468ced3515b1",
   "metadata": {},
   "outputs": [
    {
     "data": {
      "text/plain": [
       "array([[1, 2, 3],\n",
       "       [1, 2, 3],\n",
       "       [1, 2, 3],\n",
       "       [4, 5, 6],\n",
       "       [4, 5, 6],\n",
       "       [4, 5, 6],\n",
       "       [7, 8, 9],\n",
       "       [7, 8, 9],\n",
       "       [7, 8, 9]])"
      ]
     },
     "execution_count": 118,
     "metadata": {},
     "output_type": "execute_result"
    }
   ],
   "source": [
    "np.repeat(b, 3, axis=0)"
   ]
  },
  {
   "cell_type": "code",
   "execution_count": 120,
   "id": "2db0f34f-6180-493f-8f42-2e7ccb021c1a",
   "metadata": {},
   "outputs": [
    {
     "data": {
      "text/plain": [
       "array([1, 2, 3, 4, 5, 6, 7, 8, 9])"
      ]
     },
     "execution_count": 120,
     "metadata": {},
     "output_type": "execute_result"
    }
   ],
   "source": [
    "np.unique(np.repeat(b.flatten(), 3))"
   ]
  },
  {
   "cell_type": "code",
   "execution_count": 122,
   "id": "d5b2c378-4bf2-46ff-a0b2-5ec27439281e",
   "metadata": {},
   "outputs": [
    {
     "data": {
      "text/plain": [
       "(array([[1, 1, 1, 2, 2, 2, 3, 3, 3],\n",
       "        [4, 4, 4, 5, 5, 5, 6, 6, 6],\n",
       "        [7, 7, 7, 8, 8, 8, 9, 9, 9]]),\n",
       " array([[1, 2, 3],\n",
       "        [4, 5, 6],\n",
       "        [7, 8, 9]]))"
      ]
     },
     "execution_count": 122,
     "metadata": {},
     "output_type": "execute_result"
    }
   ],
   "source": [
    "rb = np.repeat(b, 3, axis=1)\n",
    "ub = np.unique(rb, axis=1)\n",
    "rb, ub"
   ]
  },
  {
   "cell_type": "code",
   "execution_count": 124,
   "id": "a4146333-6519-4881-a88a-aa6b58e3bef5",
   "metadata": {},
   "outputs": [
    {
     "data": {
      "text/plain": [
       "(array([[1, 2, 3],\n",
       "        [1, 2, 3],\n",
       "        [1, 2, 3],\n",
       "        [4, 5, 6],\n",
       "        [4, 5, 6],\n",
       "        [4, 5, 6],\n",
       "        [7, 8, 9],\n",
       "        [7, 8, 9],\n",
       "        [7, 8, 9]]),\n",
       " array([[1, 2, 3],\n",
       "        [4, 5, 6],\n",
       "        [7, 8, 9]]))"
      ]
     },
     "execution_count": 124,
     "metadata": {},
     "output_type": "execute_result"
    }
   ],
   "source": [
    "rb = np.repeat(b, 3, axis=0)\n",
    "ub = np.unique(rb, axis=0)\n",
    "rb, ub"
   ]
  },
  {
   "cell_type": "code",
   "execution_count": 125,
   "id": "a22afc35-d6f2-461b-9446-6d1f5efa1f0e",
   "metadata": {},
   "outputs": [
    {
     "data": {
      "text/plain": [
       "(array([[1, 2, 3],\n",
       "        [4, 5, 6],\n",
       "        [7, 8, 9]]),\n",
       " array([1, 5, 9]))"
      ]
     },
     "execution_count": 125,
     "metadata": {},
     "output_type": "execute_result"
    }
   ],
   "source": [
    "b, np.diagonal(b)"
   ]
  },
  {
   "cell_type": "code",
   "execution_count": 126,
   "id": "72c31eba-d60b-4053-b207-a0cff3011c99",
   "metadata": {},
   "outputs": [
    {
     "data": {
      "text/plain": [
       "(array([[1, 2, 3],\n",
       "        [4, 5, 6],\n",
       "        [7, 8, 9]]),\n",
       " array([2, 6]))"
      ]
     },
     "execution_count": 126,
     "metadata": {},
     "output_type": "execute_result"
    }
   ],
   "source": [
    "b, np.diagonal(b, offset=1)"
   ]
  },
  {
   "cell_type": "code",
   "execution_count": 127,
   "id": "a3977016-d916-47de-8011-6502f11bb25c",
   "metadata": {},
   "outputs": [
    {
     "data": {
      "text/plain": [
       "(array([[1, 2, 3],\n",
       "        [4, 5, 6],\n",
       "        [7, 8, 9]]),\n",
       " array([4, 8]))"
      ]
     },
     "execution_count": 127,
     "metadata": {},
     "output_type": "execute_result"
    }
   ],
   "source": [
    "b, np.diagonal(b, offset=-1)"
   ]
  },
  {
   "cell_type": "code",
   "execution_count": 128,
   "id": "e5a7651c-91d5-4c7c-ac9e-a5c0b4b531e9",
   "metadata": {},
   "outputs": [
    {
     "data": {
      "text/plain": [
       "[[1, 2, 3], [4, 5, 6], [7, 8, 9]]"
      ]
     },
     "execution_count": 128,
     "metadata": {},
     "output_type": "execute_result"
    }
   ],
   "source": [
    "b.tolist()"
   ]
  },
  {
   "cell_type": "code",
   "execution_count": 129,
   "id": "dba0c9d1-e951-46cb-aa2f-0a66e6d8fe6c",
   "metadata": {},
   "outputs": [
    {
     "data": {
      "text/plain": [
       "(list, numpy.ndarray)"
      ]
     },
     "execution_count": 129,
     "metadata": {},
     "output_type": "execute_result"
    }
   ],
   "source": [
    "type(b.tolist()), type(b)"
   ]
  },
  {
   "cell_type": "code",
   "execution_count": 130,
   "id": "b091be38-5cc6-445a-8950-593e690b7b28",
   "metadata": {},
   "outputs": [],
   "source": [
    "b.tofile(\"/tmp/my-array.txt\", sep=\",\")"
   ]
  },
  {
   "cell_type": "code",
   "execution_count": 131,
   "id": "67964346-5880-43db-b644-6d062ec47fc0",
   "metadata": {},
   "outputs": [
    {
     "data": {
      "text/plain": [
       "array([[1, 4, 7],\n",
       "       [2, 5, 8],\n",
       "       [3, 6, 9]])"
      ]
     },
     "execution_count": 131,
     "metadata": {},
     "output_type": "execute_result"
    }
   ],
   "source": [
    "np.swapaxes(b, 0, 1) # flip axis 0 with axis 1"
   ]
  },
  {
   "cell_type": "code",
   "execution_count": 142,
   "id": "367ea43f-ed1e-4009-887f-e05e7d4f5047",
   "metadata": {},
   "outputs": [
    {
     "data": {
      "text/plain": [
       "array([[1, 4, 7],\n",
       "       [2, 5, 8],\n",
       "       [3, 6, 9]])"
      ]
     },
     "execution_count": 142,
     "metadata": {},
     "output_type": "execute_result"
    }
   ],
   "source": [
    "np.swapaxes(b, 1, 0) # flip axis 1 with axis 0"
   ]
  },
  {
   "cell_type": "code",
   "execution_count": 139,
   "id": "ea87939b-97ed-43a8-ae7e-f85c6e170ad7",
   "metadata": {},
   "outputs": [
    {
     "data": {
      "text/plain": [
       "(array([[1, 2, 3],\n",
       "        [4, 5, 6],\n",
       "        [7, 8, 9]]),\n",
       " array([[1, 4, 7],\n",
       "        [2, 5, 8],\n",
       "        [3, 6, 9]]))"
      ]
     },
     "execution_count": 139,
     "metadata": {},
     "output_type": "execute_result"
    }
   ],
   "source": [
    "b, b.transpose(1, 0) # the same as above swapaxes"
   ]
  },
  {
   "cell_type": "code",
   "execution_count": 138,
   "id": "16a94df9-d65b-4fc6-8299-ee0f897ab1e2",
   "metadata": {},
   "outputs": [
    {
     "data": {
      "text/plain": [
       "(array([[1, 2, 3],\n",
       "        [4, 5, 6],\n",
       "        [7, 8, 9]]),\n",
       " array([[1, 2, 3],\n",
       "        [4, 5, 6],\n",
       "        [7, 8, 9]]))"
      ]
     },
     "execution_count": 138,
     "metadata": {},
     "output_type": "execute_result"
    }
   ],
   "source": [
    "b, b.transpose(0, 1)"
   ]
  },
  {
   "cell_type": "code",
   "execution_count": 135,
   "id": "63879667-50dd-41f3-8944-06edbab348d7",
   "metadata": {},
   "outputs": [
    {
     "data": {
      "text/plain": [
       "array([[1, 4, 7],\n",
       "       [2, 5, 8],\n",
       "       [3, 6, 9]])"
      ]
     },
     "execution_count": 135,
     "metadata": {},
     "output_type": "execute_result"
    }
   ],
   "source": [
    "b.T"
   ]
  },
  {
   "cell_type": "markdown",
   "id": "1b272ba5-c7ac-45ad-9faf-21ede19b1698",
   "metadata": {},
   "source": [
    "# Operations"
   ]
  },
  {
   "cell_type": "code",
   "execution_count": 143,
   "id": "fa47f537-36e0-45c5-90b5-0f531cf9d525",
   "metadata": {},
   "outputs": [
    {
     "data": {
      "text/plain": [
       "(array([[1.66666667, 1.66666667, 1.66666667],\n",
       "        [1.66666667, 1.66666667, 1.66666667],\n",
       "        [1.66666667, 1.66666667, 1.66666667]]),\n",
       " array([[1, 2, 3],\n",
       "        [4, 5, 6],\n",
       "        [7, 8, 9]]))"
      ]
     },
     "execution_count": 143,
     "metadata": {},
     "output_type": "execute_result"
    }
   ],
   "source": [
    "a, b"
   ]
  },
  {
   "cell_type": "code",
   "execution_count": 144,
   "id": "8abc66c7-c889-4e4e-9c85-6ec9d4251d93",
   "metadata": {},
   "outputs": [
    {
     "data": {
      "text/plain": [
       "array([[ 2.66666667,  3.66666667,  4.66666667],\n",
       "       [ 5.66666667,  6.66666667,  7.66666667],\n",
       "       [ 8.66666667,  9.66666667, 10.66666667]])"
      ]
     },
     "execution_count": 144,
     "metadata": {},
     "output_type": "execute_result"
    }
   ],
   "source": [
    "a + b"
   ]
  },
  {
   "cell_type": "code",
   "execution_count": 145,
   "id": "87255f05-c8a8-484e-9724-3da9dab14605",
   "metadata": {},
   "outputs": [
    {
     "data": {
      "text/plain": [
       "array([[ 1.66666667,  3.33333333,  5.        ],\n",
       "       [ 6.66666667,  8.33333333, 10.        ],\n",
       "       [11.66666667, 13.33333333, 15.        ]])"
      ]
     },
     "execution_count": 145,
     "metadata": {},
     "output_type": "execute_result"
    }
   ],
   "source": [
    "a * b"
   ]
  },
  {
   "cell_type": "code",
   "execution_count": 146,
   "id": "afea808c-2ed1-417f-8564-eb9a670e5f41",
   "metadata": {},
   "outputs": [
    {
     "data": {
      "text/plain": [
       "array([[-0.16666667,  0.08333333,  0.33333333],\n",
       "       [ 0.58333333,  0.83333333,  1.08333333],\n",
       "       [ 1.33333333,  1.58333333,  1.83333333]])"
      ]
     },
     "execution_count": 146,
     "metadata": {},
     "output_type": "execute_result"
    }
   ],
   "source": [
    "(a + b - 2 * a) / 4"
   ]
  },
  {
   "cell_type": "code",
   "execution_count": 147,
   "id": "545f42d5-e138-4ea1-9f72-02a5c42dbfe6",
   "metadata": {},
   "outputs": [
    {
     "data": {
      "text/plain": [
       "array([[1.        , 0.33333333, 1.33333333],\n",
       "       [0.66666667, 1.66666667, 1.        ],\n",
       "       [0.33333333, 1.33333333, 0.66666667]])"
      ]
     },
     "execution_count": 147,
     "metadata": {},
     "output_type": "execute_result"
    }
   ],
   "source": [
    "b % a"
   ]
  },
  {
   "cell_type": "code",
   "execution_count": 148,
   "id": "7257d428-e9ce-4530-97f4-fae5c81f45ef",
   "metadata": {},
   "outputs": [
    {
     "data": {
      "text/plain": [
       "array([[0.66666667, 1.66666667, 1.66666667],\n",
       "       [1.66666667, 1.66666667, 1.66666667],\n",
       "       [1.66666667, 1.66666667, 1.66666667]])"
      ]
     },
     "execution_count": 148,
     "metadata": {},
     "output_type": "execute_result"
    }
   ],
   "source": [
    "a % b"
   ]
  },
  {
   "cell_type": "code",
   "execution_count": 152,
   "id": "e84b5913-314f-48b8-9850-db19dffa09a3",
   "metadata": {},
   "outputs": [
    {
     "data": {
      "text/plain": [
       "array([[0., 1., 1.],\n",
       "       [2., 2., 3.],\n",
       "       [4., 4., 5.]])"
      ]
     },
     "execution_count": 152,
     "metadata": {},
     "output_type": "execute_result"
    }
   ],
   "source": [
    "b // a # floor division"
   ]
  },
  {
   "cell_type": "code",
   "execution_count": 151,
   "id": "d80c21e6-cb23-4df1-a53e-541755c88692",
   "metadata": {},
   "outputs": [
    {
     "data": {
      "text/plain": [
       "array([[0.6, 1.2, 1.8],\n",
       "       [2.4, 3. , 3.6],\n",
       "       [4.2, 4.8, 5.4]])"
      ]
     },
     "execution_count": 151,
     "metadata": {},
     "output_type": "execute_result"
    }
   ],
   "source": [
    "b / a"
   ]
  },
  {
   "cell_type": "code",
   "execution_count": 154,
   "id": "997e62e7-685c-42bf-82c1-54c371e36791",
   "metadata": {},
   "outputs": [
    {
     "data": {
      "text/plain": [
       "array([[0., 1., 1.],\n",
       "       [2., 3., 3.],\n",
       "       [4., 4., 5.]])"
      ]
     },
     "execution_count": 154,
     "metadata": {},
     "output_type": "execute_result"
    }
   ],
   "source": [
    "np.floor(b / a)"
   ]
  },
  {
   "cell_type": "code",
   "execution_count": 155,
   "id": "cd330064-f332-47c7-bacc-74dc931eccba",
   "metadata": {},
   "outputs": [
    {
     "data": {
      "text/plain": [
       "array([[20., 25., 30.],\n",
       "       [20., 25., 30.],\n",
       "       [20., 25., 30.]])"
      ]
     },
     "execution_count": 155,
     "metadata": {},
     "output_type": "execute_result"
    }
   ],
   "source": [
    "np.matmul(a, b)"
   ]
  },
  {
   "cell_type": "code",
   "execution_count": 156,
   "id": "efd98fd9-8cd0-4890-b990-f285a1beb8d3",
   "metadata": {},
   "outputs": [
    {
     "data": {
      "text/plain": [
       "array([[10., 10., 10.],\n",
       "       [25., 25., 25.],\n",
       "       [40., 40., 40.]])"
      ]
     },
     "execution_count": 156,
     "metadata": {},
     "output_type": "execute_result"
    }
   ],
   "source": [
    "np.matmul(b, a)"
   ]
  },
  {
   "cell_type": "code",
   "execution_count": 157,
   "id": "4666e3b0-3ee1-40f8-839c-99089b6f0404",
   "metadata": {},
   "outputs": [
    {
     "data": {
      "text/plain": [
       "array([[20., 25., 30.],\n",
       "       [20., 25., 30.],\n",
       "       [20., 25., 30.]])"
      ]
     },
     "execution_count": 157,
     "metadata": {},
     "output_type": "execute_result"
    }
   ],
   "source": [
    "a.dot(b)"
   ]
  },
  {
   "cell_type": "code",
   "execution_count": 158,
   "id": "f9b7bfab-7b02-49b5-a395-559cf0964b06",
   "metadata": {},
   "outputs": [
    {
     "data": {
      "text/plain": [
       "array([[10., 10., 10.],\n",
       "       [25., 25., 25.],\n",
       "       [40., 40., 40.]])"
      ]
     },
     "execution_count": 158,
     "metadata": {},
     "output_type": "execute_result"
    }
   ],
   "source": [
    "b.dot(a)"
   ]
  },
  {
   "cell_type": "code",
   "execution_count": 159,
   "id": "4b87d76b-eeb3-442c-bcbf-ed5185d18506",
   "metadata": {},
   "outputs": [
    {
     "data": {
      "text/plain": [
       "array([[20., 25., 30.],\n",
       "       [20., 25., 30.],\n",
       "       [20., 25., 30.]])"
      ]
     },
     "execution_count": 159,
     "metadata": {},
     "output_type": "execute_result"
    }
   ],
   "source": [
    "a @ b"
   ]
  },
  {
   "cell_type": "code",
   "execution_count": null,
   "id": "d8fa90ca-aeb8-459b-93ac-569296a757cc",
   "metadata": {},
   "outputs": [],
   "source": []
  }
 ],
 "metadata": {
  "kernelspec": {
   "display_name": "Python 3 (ipykernel)",
   "language": "python",
   "name": "python3"
  },
  "language_info": {
   "codemirror_mode": {
    "name": "ipython",
    "version": 3
   },
   "file_extension": ".py",
   "mimetype": "text/x-python",
   "name": "python",
   "nbconvert_exporter": "python",
   "pygments_lexer": "ipython3",
   "version": "3.10.9"
  }
 },
 "nbformat": 4,
 "nbformat_minor": 5
}
