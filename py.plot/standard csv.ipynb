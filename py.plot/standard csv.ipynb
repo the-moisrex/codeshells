{
 "cells": [
  {
   "cell_type": "markdown",
   "id": "7c0e0946-30e5-46c6-82dd-17001b20c60a",
   "metadata": {},
   "source": [
    "# Standard CSV module\n",
    "\n",
    "Based on Video Tutorial: https://youtu.be/q5uM4VKywbA\n",
    "\n",
    "Github of the author of the video: https://github.com/CoreyMSchafer/code_snippets/tree/master/Python-CSV"
   ]
  },
  {
   "cell_type": "code",
   "execution_count": 18,
   "id": "d0a312d6-f458-4e8d-b5ae-90360581847d",
   "metadata": {},
   "outputs": [
    {
     "name": "stdout",
     "output_type": "stream",
     "text": [
      "Responder_id --- LanguagesWorkedWith\n",
      "1            ---  HTML/CSS;Java;JavaScript;Python\n",
      "2            ---  C++;HTML/CSS;Python\n",
      "3            ---  HTML/CSS\n",
      "4            ---  C;C++;C#;Python;SQL\n",
      "5            ---  C++;HTML/CSS;Java;JavaScript;Python;SQL;VBA\n"
     ]
    }
   ],
   "source": [
    "import csv\n",
    "\n",
    "with open('data.csv', 'r') as csv_file:\n",
    "    csv_reader = csv.reader(csv_file)\n",
    "    \n",
    "    heads = next(csv_reader)\n",
    "    print(f\"{heads[0]} --- {heads[1]}\")\n",
    "    for index, line in zip(range(5), csv_reader):\n",
    "        print(f\"{line[0]}            ---  {line[1]}\")"
   ]
  },
  {
   "cell_type": "code",
   "execution_count": 20,
   "id": "60c83d84-36ad-491f-ad24-1f80aac24aa6",
   "metadata": {},
   "outputs": [
    {
     "name": "stdout",
     "output_type": "stream",
     "text": [
      "Responder_id --- LanguagesWorkedWith\n",
      "1            ---  HTML/CSS;Java;JavaScript;Python\n",
      "2            ---  C++;HTML/CSS;Python\n",
      "3            ---  HTML/CSS\n",
      "4            ---  C;C++;C#;Python;SQL\n",
      "5            ---  C++;HTML/CSS;Java;JavaScript;Python;SQL;VBA\n"
     ]
    }
   ],
   "source": [
    "import csv\n",
    "\n",
    "with open('data.csv', 'r') as csv_file:\n",
    "    csv_reader = csv.reader(csv_file)\n",
    "    \n",
    "    with open('/tmp/new_data.csv', 'w') as new_file:\n",
    "        csv_writer = csv.writer(new_file, delimiter='-')\n",
    "        \n",
    "        for line in csv_reader:\n",
    "            csv_writer.writerow(line)\n",
    "\n",
    "\n",
    "with open('/tmp/new_data.csv', 'r') as new_file:\n",
    "    csv_reader = csv.reader(new_file, delimiter='-')\n",
    "    \n",
    "    heads = next(csv_reader)\n",
    "    print(f\"{heads[0]} --- {heads[1]}\")\n",
    "    for index, line in zip(range(5), csv_reader):\n",
    "        print(f\"{line[0]}            ---  {line[1]}\")"
   ]
  },
  {
   "cell_type": "code",
   "execution_count": 22,
   "id": "9524e599-7bfb-46be-adc2-9088cd21318a",
   "metadata": {},
   "outputs": [
    {
     "name": "stdout",
     "output_type": "stream",
     "text": [
      "{'Responder_id': '1', 'LanguagesWorkedWith': 'HTML/CSS;Java;JavaScript;Python'}\n",
      "{'Responder_id': '2', 'LanguagesWorkedWith': 'C++;HTML/CSS;Python'}\n",
      "{'Responder_id': '3', 'LanguagesWorkedWith': 'HTML/CSS'}\n",
      "{'Responder_id': '4', 'LanguagesWorkedWith': 'C;C++;C#;Python;SQL'}\n",
      "{'Responder_id': '5', 'LanguagesWorkedWith': 'C++;HTML/CSS;Java;JavaScript;Python;SQL;VBA'}\n"
     ]
    }
   ],
   "source": [
    "import csv\n",
    "\n",
    "with open('data.csv', 'r') as csv_file:\n",
    "    csv_reader = csv.DictReader(csv_file)\n",
    "    \n",
    "    for index, line in zip(range(5), csv_reader):\n",
    "        print(line)"
   ]
  },
  {
   "cell_type": "code",
   "execution_count": 25,
   "id": "6c97e81e-35bc-4709-a47c-1df59df72b56",
   "metadata": {},
   "outputs": [
    {
     "name": "stdout",
     "output_type": "stream",
     "text": [
      "1 -- HTML/CSS;Java;JavaScript;Python\n",
      "2 -- C++;HTML/CSS;Python\n",
      "3 -- HTML/CSS\n",
      "4 -- C;C++;C#;Python;SQL\n",
      "5 -- C++;HTML/CSS;Java;JavaScript;Python;SQL;VBA\n"
     ]
    }
   ],
   "source": [
    "import csv\n",
    "\n",
    "with open('data.csv', 'r') as csv_file:\n",
    "    csv_reader = csv.DictReader(csv_file)\n",
    "    \n",
    "    for index, line in zip(range(5), csv_reader):\n",
    "        print(f\"{line['Responder_id']} -- {line['LanguagesWorkedWith']}\")"
   ]
  },
  {
   "cell_type": "code",
   "execution_count": 28,
   "id": "6749cbb7-f96c-4e3f-a902-2e77a54c8d34",
   "metadata": {},
   "outputs": [
    {
     "name": "stdout",
     "output_type": "stream",
     "text": [
      "Field names: ['Responder_id', 'LanguagesWorkedWith', 'random']\n",
      "1 -- 57 -- HTML/CSS;Java;JavaScript;Python\n",
      "2 -- 56 -- C++;HTML/CSS;Python\n",
      "3 -- 39 -- HTML/CSS\n",
      "4 -- 23 -- C;C++;C#;Python;SQL\n",
      "5 -- 35 -- C++;HTML/CSS;Java;JavaScript;Python;SQL;VBA\n"
     ]
    }
   ],
   "source": [
    "import csv\n",
    "import random\n",
    "\n",
    "with open('data.csv', 'r') as csv_file:\n",
    "    csv_reader = csv.DictReader(csv_file)\n",
    "    \n",
    "    with open('/tmp/new_dic_data.csv', 'w') as new_file:\n",
    "        fieldnames = csv_reader.fieldnames\n",
    "        fieldnames.append('random')\n",
    "        print(f\"Field names: {fieldnames}\")\n",
    "        \n",
    "        csv_writer = csv.DictWriter(new_file, fieldnames=fieldnames, delimiter='\\t')\n",
    "        \n",
    "        csv_writer.writeheader()\n",
    "        for line in csv_reader:\n",
    "            line['random'] = random.randint(0, 100)\n",
    "            csv_writer.writerow(line)\n",
    "        \n",
    "with open('/tmp/new_dic_data.csv', 'r') as new_file:\n",
    "    csv_reader = csv.DictReader(new_file, delimiter='\\t')\n",
    "    \n",
    "    for index, line in zip(range(5), csv_reader):\n",
    "        print(f\"{line['Responder_id']} -- {line['random']} -- {line['LanguagesWorkedWith']}\")"
   ]
  }
 ],
 "metadata": {
  "kernelspec": {
   "display_name": "Python 3 (ipykernel)",
   "language": "python",
   "name": "python3"
  },
  "language_info": {
   "codemirror_mode": {
    "name": "ipython",
    "version": 3
   },
   "file_extension": ".py",
   "mimetype": "text/x-python",
   "name": "python",
   "nbconvert_exporter": "python",
   "pygments_lexer": "ipython3",
   "version": "3.10.9"
  }
 },
 "nbformat": 4,
 "nbformat_minor": 5
}
