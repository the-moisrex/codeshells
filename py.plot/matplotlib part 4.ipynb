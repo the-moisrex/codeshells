{
 "cells": [
  {
   "cell_type": "markdown",
   "id": "d7d547a9-4089-4f78-a422-2337e1da812b",
   "metadata": {},
   "source": [
    "#  Matplotlib Tutorial (Part 4): Stack Plots \n",
    "\n",
    "Based on this video: https://youtu.be/xN-Supd4H38?list=PL-osiE80TeTvipOqomVEeZ1HRrcEvtZB_"
   ]
  },
  {
   "cell_type": "code",
   "execution_count": 2,
   "id": "5c2d776b-6624-41e1-8398-b9315f9f4652",
   "metadata": {},
   "outputs": [],
   "source": [
    "from matplotlib import pyplot as plt\n",
    "import pandas as pd\n",
    "from collections import Counter\n",
    "import numpy as np"
   ]
  },
  {
   "cell_type": "code",
   "execution_count": null,
   "id": "b138506b-bccf-4e85-814b-eb330950b6ad",
   "metadata": {},
   "outputs": [],
   "source": []
  }
 ],
 "metadata": {
  "kernelspec": {
   "display_name": "Python 3 (ipykernel)",
   "language": "python",
   "name": "python3"
  },
  "language_info": {
   "codemirror_mode": {
    "name": "ipython",
    "version": 3
   },
   "file_extension": ".py",
   "mimetype": "text/x-python",
   "name": "python",
   "nbconvert_exporter": "python",
   "pygments_lexer": "ipython3",
   "version": "3.10.9"
  }
 },
 "nbformat": 4,
 "nbformat_minor": 5
}
