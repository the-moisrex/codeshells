{
 "cells": [
  {
   "cell_type": "code",
   "id": "initial_id",
   "metadata": {
    "collapsed": true,
    "ExecuteTime": {
     "end_time": "2024-08-09T23:48:01.805213Z",
     "start_time": "2024-08-09T23:48:01.800544Z"
    }
   },
   "source": [
    "import numpy as np\n",
    "import pandas as pd\n",
    "from numpy.random import randn\n",
    "\n",
    "np.random.seed(101)"
   ],
   "outputs": [],
   "execution_count": 5
  },
  {
   "metadata": {},
   "cell_type": "markdown",
   "source": "Preparing the data",
   "id": "bd72d638c4779391"
  },
  {
   "metadata": {
    "ExecuteTime": {
     "end_time": "2024-08-09T23:48:03.350398Z",
     "start_time": "2024-08-09T23:48:03.346572Z"
    }
   },
   "cell_type": "code",
   "source": [
    "outside = ['G1', 'G1', 'G1', 'G2', 'G2', 'G2']\n",
    "inside = [1, 2, 3, 1, 2, 3]\n",
    "hier_index = list(zip(outside, inside))\n",
    "print(hier_index)\n",
    "hier_index = pd.MultiIndex.from_tuples(hier_index)\n",
    "print(hier_index)"
   ],
   "id": "3cd05482207bf74e",
   "outputs": [
    {
     "name": "stdout",
     "output_type": "stream",
     "text": [
      "[('G1', 1), ('G1', 2), ('G1', 3), ('G2', 1), ('G2', 2), ('G2', 3)]\n",
      "MultiIndex([('G1', 1),\n",
      "            ('G1', 2),\n",
      "            ('G1', 3),\n",
      "            ('G2', 1),\n",
      "            ('G2', 2),\n",
      "            ('G2', 3)],\n",
      "           )\n"
     ]
    }
   ],
   "execution_count": 6
  },
  {
   "metadata": {},
   "cell_type": "markdown",
   "source": "# Multi-Level Index / Index Hierarchy",
   "id": "3ada5dbbb723bef2"
  },
  {
   "metadata": {
    "ExecuteTime": {
     "end_time": "2024-08-09T23:48:08.379351Z",
     "start_time": "2024-08-09T23:48:08.368082Z"
    }
   },
   "cell_type": "code",
   "source": [
    "df = pd.DataFrame(randn(6, 2), hier_index, ['A', 'B'])\n",
    "df"
   ],
   "id": "292d4587e55e456a",
   "outputs": [
    {
     "data": {
      "text/plain": [
       "             A         B\n",
       "G1 1  2.706850  0.628133\n",
       "   2  0.907969  0.503826\n",
       "   3  0.651118 -0.319318\n",
       "G2 1 -0.848077  0.605965\n",
       "   2 -2.018168  0.740122\n",
       "   3  0.528813 -0.589001"
      ],
      "text/html": [
       "<div>\n",
       "<style scoped>\n",
       "    .dataframe tbody tr th:only-of-type {\n",
       "        vertical-align: middle;\n",
       "    }\n",
       "\n",
       "    .dataframe tbody tr th {\n",
       "        vertical-align: top;\n",
       "    }\n",
       "\n",
       "    .dataframe thead th {\n",
       "        text-align: right;\n",
       "    }\n",
       "</style>\n",
       "<table border=\"1\" class=\"dataframe\">\n",
       "  <thead>\n",
       "    <tr style=\"text-align: right;\">\n",
       "      <th></th>\n",
       "      <th></th>\n",
       "      <th>A</th>\n",
       "      <th>B</th>\n",
       "    </tr>\n",
       "  </thead>\n",
       "  <tbody>\n",
       "    <tr>\n",
       "      <th rowspan=\"3\" valign=\"top\">G1</th>\n",
       "      <th>1</th>\n",
       "      <td>2.706850</td>\n",
       "      <td>0.628133</td>\n",
       "    </tr>\n",
       "    <tr>\n",
       "      <th>2</th>\n",
       "      <td>0.907969</td>\n",
       "      <td>0.503826</td>\n",
       "    </tr>\n",
       "    <tr>\n",
       "      <th>3</th>\n",
       "      <td>0.651118</td>\n",
       "      <td>-0.319318</td>\n",
       "    </tr>\n",
       "    <tr>\n",
       "      <th rowspan=\"3\" valign=\"top\">G2</th>\n",
       "      <th>1</th>\n",
       "      <td>-0.848077</td>\n",
       "      <td>0.605965</td>\n",
       "    </tr>\n",
       "    <tr>\n",
       "      <th>2</th>\n",
       "      <td>-2.018168</td>\n",
       "      <td>0.740122</td>\n",
       "    </tr>\n",
       "    <tr>\n",
       "      <th>3</th>\n",
       "      <td>0.528813</td>\n",
       "      <td>-0.589001</td>\n",
       "    </tr>\n",
       "  </tbody>\n",
       "</table>\n",
       "</div>"
      ]
     },
     "execution_count": 7,
     "metadata": {},
     "output_type": "execute_result"
    }
   ],
   "execution_count": 7
  },
  {
   "metadata": {
    "ExecuteTime": {
     "end_time": "2024-08-09T23:49:53.176866Z",
     "start_time": "2024-08-09T23:49:53.173292Z"
    }
   },
   "cell_type": "code",
   "source": "df.loc['G1'] # everything from G1 cat",
   "id": "559b02485b3f8c6f",
   "outputs": [
    {
     "data": {
      "text/plain": [
       "          A         B\n",
       "1  2.706850  0.628133\n",
       "2  0.907969  0.503826\n",
       "3  0.651118 -0.319318"
      ],
      "text/html": [
       "<div>\n",
       "<style scoped>\n",
       "    .dataframe tbody tr th:only-of-type {\n",
       "        vertical-align: middle;\n",
       "    }\n",
       "\n",
       "    .dataframe tbody tr th {\n",
       "        vertical-align: top;\n",
       "    }\n",
       "\n",
       "    .dataframe thead th {\n",
       "        text-align: right;\n",
       "    }\n",
       "</style>\n",
       "<table border=\"1\" class=\"dataframe\">\n",
       "  <thead>\n",
       "    <tr style=\"text-align: right;\">\n",
       "      <th></th>\n",
       "      <th>A</th>\n",
       "      <th>B</th>\n",
       "    </tr>\n",
       "  </thead>\n",
       "  <tbody>\n",
       "    <tr>\n",
       "      <th>1</th>\n",
       "      <td>2.706850</td>\n",
       "      <td>0.628133</td>\n",
       "    </tr>\n",
       "    <tr>\n",
       "      <th>2</th>\n",
       "      <td>0.907969</td>\n",
       "      <td>0.503826</td>\n",
       "    </tr>\n",
       "    <tr>\n",
       "      <th>3</th>\n",
       "      <td>0.651118</td>\n",
       "      <td>-0.319318</td>\n",
       "    </tr>\n",
       "  </tbody>\n",
       "</table>\n",
       "</div>"
      ]
     },
     "execution_count": 8,
     "metadata": {},
     "output_type": "execute_result"
    }
   ],
   "execution_count": 8
  },
  {
   "metadata": {
    "ExecuteTime": {
     "end_time": "2024-08-09T23:50:33.772525Z",
     "start_time": "2024-08-09T23:50:33.768572Z"
    }
   },
   "cell_type": "code",
   "source": "df.loc['G1'].loc[1] # first row",
   "id": "e93f86ac2bd4417d",
   "outputs": [
    {
     "data": {
      "text/plain": [
       "A    2.706850\n",
       "B    0.628133\n",
       "Name: 1, dtype: float64"
      ]
     },
     "execution_count": 9,
     "metadata": {},
     "output_type": "execute_result"
    }
   ],
   "execution_count": 9
  },
  {
   "metadata": {},
   "cell_type": "markdown",
   "source": "As you can see, the columns of those indices have no name:",
   "id": "17a0140e66854372"
  },
  {
   "metadata": {
    "ExecuteTime": {
     "end_time": "2024-08-09T23:51:29.033783Z",
     "start_time": "2024-08-09T23:51:29.031310Z"
    }
   },
   "cell_type": "code",
   "source": "df.index.names",
   "id": "90ef7bb118c05bb7",
   "outputs": [
    {
     "data": {
      "text/plain": [
       "FrozenList([None, None])"
      ]
     },
     "execution_count": 11,
     "metadata": {},
     "output_type": "execute_result"
    }
   ],
   "execution_count": 11
  },
  {
   "metadata": {
    "ExecuteTime": {
     "end_time": "2024-08-09T23:51:49.793396Z",
     "start_time": "2024-08-09T23:51:49.790525Z"
    }
   },
   "cell_type": "code",
   "source": "df.index.names = ['Groups', 'Num'] # now they do",
   "id": "ebea7be71ccf4034",
   "outputs": [],
   "execution_count": 12
  },
  {
   "metadata": {
    "ExecuteTime": {
     "end_time": "2024-08-09T23:51:52.539125Z",
     "start_time": "2024-08-09T23:51:52.532913Z"
    }
   },
   "cell_type": "code",
   "source": "df",
   "id": "66dceabd4de5cf69",
   "outputs": [
    {
     "data": {
      "text/plain": [
       "                   A         B\n",
       "Groups Num                    \n",
       "G1     1    2.706850  0.628133\n",
       "       2    0.907969  0.503826\n",
       "       3    0.651118 -0.319318\n",
       "G2     1   -0.848077  0.605965\n",
       "       2   -2.018168  0.740122\n",
       "       3    0.528813 -0.589001"
      ],
      "text/html": [
       "<div>\n",
       "<style scoped>\n",
       "    .dataframe tbody tr th:only-of-type {\n",
       "        vertical-align: middle;\n",
       "    }\n",
       "\n",
       "    .dataframe tbody tr th {\n",
       "        vertical-align: top;\n",
       "    }\n",
       "\n",
       "    .dataframe thead th {\n",
       "        text-align: right;\n",
       "    }\n",
       "</style>\n",
       "<table border=\"1\" class=\"dataframe\">\n",
       "  <thead>\n",
       "    <tr style=\"text-align: right;\">\n",
       "      <th></th>\n",
       "      <th></th>\n",
       "      <th>A</th>\n",
       "      <th>B</th>\n",
       "    </tr>\n",
       "    <tr>\n",
       "      <th>Groups</th>\n",
       "      <th>Num</th>\n",
       "      <th></th>\n",
       "      <th></th>\n",
       "    </tr>\n",
       "  </thead>\n",
       "  <tbody>\n",
       "    <tr>\n",
       "      <th rowspan=\"3\" valign=\"top\">G1</th>\n",
       "      <th>1</th>\n",
       "      <td>2.706850</td>\n",
       "      <td>0.628133</td>\n",
       "    </tr>\n",
       "    <tr>\n",
       "      <th>2</th>\n",
       "      <td>0.907969</td>\n",
       "      <td>0.503826</td>\n",
       "    </tr>\n",
       "    <tr>\n",
       "      <th>3</th>\n",
       "      <td>0.651118</td>\n",
       "      <td>-0.319318</td>\n",
       "    </tr>\n",
       "    <tr>\n",
       "      <th rowspan=\"3\" valign=\"top\">G2</th>\n",
       "      <th>1</th>\n",
       "      <td>-0.848077</td>\n",
       "      <td>0.605965</td>\n",
       "    </tr>\n",
       "    <tr>\n",
       "      <th>2</th>\n",
       "      <td>-2.018168</td>\n",
       "      <td>0.740122</td>\n",
       "    </tr>\n",
       "    <tr>\n",
       "      <th>3</th>\n",
       "      <td>0.528813</td>\n",
       "      <td>-0.589001</td>\n",
       "    </tr>\n",
       "  </tbody>\n",
       "</table>\n",
       "</div>"
      ]
     },
     "execution_count": 13,
     "metadata": {},
     "output_type": "execute_result"
    }
   ],
   "execution_count": 13
  },
  {
   "metadata": {
    "ExecuteTime": {
     "end_time": "2024-08-09T23:53:55.678262Z",
     "start_time": "2024-08-09T23:53:55.673389Z"
    }
   },
   "cell_type": "code",
   "source": "df.loc['G2'].loc[2]",
   "id": "6f048b12c0f7a433",
   "outputs": [
    {
     "data": {
      "text/plain": [
       "A   -2.018168\n",
       "B    0.740122\n",
       "Name: 2, dtype: float64"
      ]
     },
     "execution_count": 18,
     "metadata": {},
     "output_type": "execute_result"
    }
   ],
   "execution_count": 18
  },
  {
   "metadata": {
    "ExecuteTime": {
     "end_time": "2024-08-09T23:54:56.830081Z",
     "start_time": "2024-08-09T23:54:56.826246Z"
    }
   },
   "cell_type": "code",
   "source": "df.loc['G2'].loc[2]['B']",
   "id": "3f939f65c3ef672c",
   "outputs": [
    {
     "data": {
      "text/plain": [
       "0.7401220570561068"
      ]
     },
     "execution_count": 22,
     "metadata": {},
     "output_type": "execute_result"
    }
   ],
   "execution_count": 22
  },
  {
   "metadata": {},
   "cell_type": "markdown",
   "source": "# Cross-Section",
   "id": "8bf06cd44c833948"
  },
  {
   "metadata": {
    "ExecuteTime": {
     "end_time": "2024-08-09T23:55:33.787207Z",
     "start_time": "2024-08-09T23:55:33.783699Z"
    }
   },
   "cell_type": "code",
   "source": "df.xs('G2') # cross-section",
   "id": "ba891014d527d2dd",
   "outputs": [
    {
     "data": {
      "text/plain": [
       "            A         B\n",
       "Num                    \n",
       "1   -0.848077  0.605965\n",
       "2   -2.018168  0.740122\n",
       "3    0.528813 -0.589001"
      ],
      "text/html": [
       "<div>\n",
       "<style scoped>\n",
       "    .dataframe tbody tr th:only-of-type {\n",
       "        vertical-align: middle;\n",
       "    }\n",
       "\n",
       "    .dataframe tbody tr th {\n",
       "        vertical-align: top;\n",
       "    }\n",
       "\n",
       "    .dataframe thead th {\n",
       "        text-align: right;\n",
       "    }\n",
       "</style>\n",
       "<table border=\"1\" class=\"dataframe\">\n",
       "  <thead>\n",
       "    <tr style=\"text-align: right;\">\n",
       "      <th></th>\n",
       "      <th>A</th>\n",
       "      <th>B</th>\n",
       "    </tr>\n",
       "    <tr>\n",
       "      <th>Num</th>\n",
       "      <th></th>\n",
       "      <th></th>\n",
       "    </tr>\n",
       "  </thead>\n",
       "  <tbody>\n",
       "    <tr>\n",
       "      <th>1</th>\n",
       "      <td>-0.848077</td>\n",
       "      <td>0.605965</td>\n",
       "    </tr>\n",
       "    <tr>\n",
       "      <th>2</th>\n",
       "      <td>-2.018168</td>\n",
       "      <td>0.740122</td>\n",
       "    </tr>\n",
       "    <tr>\n",
       "      <th>3</th>\n",
       "      <td>0.528813</td>\n",
       "      <td>-0.589001</td>\n",
       "    </tr>\n",
       "  </tbody>\n",
       "</table>\n",
       "</div>"
      ]
     },
     "execution_count": 23,
     "metadata": {},
     "output_type": "execute_result"
    }
   ],
   "execution_count": 23
  },
  {
   "metadata": {
    "ExecuteTime": {
     "end_time": "2024-08-09T23:56:00.396784Z",
     "start_time": "2024-08-09T23:56:00.393410Z"
    }
   },
   "cell_type": "code",
   "source": "df.xs(1, level=\"Num\")",
   "id": "7d8a5e36d82e7198",
   "outputs": [
    {
     "data": {
      "text/plain": [
       "               A         B\n",
       "Groups                    \n",
       "G1      2.706850  0.628133\n",
       "G2     -0.848077  0.605965"
      ],
      "text/html": [
       "<div>\n",
       "<style scoped>\n",
       "    .dataframe tbody tr th:only-of-type {\n",
       "        vertical-align: middle;\n",
       "    }\n",
       "\n",
       "    .dataframe tbody tr th {\n",
       "        vertical-align: top;\n",
       "    }\n",
       "\n",
       "    .dataframe thead th {\n",
       "        text-align: right;\n",
       "    }\n",
       "</style>\n",
       "<table border=\"1\" class=\"dataframe\">\n",
       "  <thead>\n",
       "    <tr style=\"text-align: right;\">\n",
       "      <th></th>\n",
       "      <th>A</th>\n",
       "      <th>B</th>\n",
       "    </tr>\n",
       "    <tr>\n",
       "      <th>Groups</th>\n",
       "      <th></th>\n",
       "      <th></th>\n",
       "    </tr>\n",
       "  </thead>\n",
       "  <tbody>\n",
       "    <tr>\n",
       "      <th>G1</th>\n",
       "      <td>2.706850</td>\n",
       "      <td>0.628133</td>\n",
       "    </tr>\n",
       "    <tr>\n",
       "      <th>G2</th>\n",
       "      <td>-0.848077</td>\n",
       "      <td>0.605965</td>\n",
       "    </tr>\n",
       "  </tbody>\n",
       "</table>\n",
       "</div>"
      ]
     },
     "execution_count": 24,
     "metadata": {},
     "output_type": "execute_result"
    }
   ],
   "execution_count": 24
  },
  {
   "metadata": {},
   "cell_type": "markdown",
   "source": [
    "## Pandas DataFrame xs() Method\n",
    "\n",
    "The `xs()` method in Pandas DataFrame is used to return a cross-section from the DataFrame. It allows you to select a row or column based on a specified key value, even if the DataFrame has a MultiIndex.\n",
    "\n",
    "### Syntax\n",
    "\n",
    "```python\n",
    "DataFrame.xs(key, axis=0, level=None, drop_level=True)\n",
    "```\n",
    "\n",
    "### Parameters\n",
    "\n",
    "- `key`: The label or tuple of labels contained in the index, or partially in a MultiIndex.\n",
    "- `axis`: The axis to retrieve the cross-section from. 0 or 'index' for rows, 1 or 'columns' for columns.\n",
    "- `level`: In case of a key partially contained in a MultiIndex, specify which levels to use. Levels can be referred to by label or position.\n",
    "- `drop_level`: If False, returns an object with the same levels as the DataFrame.\n",
    "\n",
    "### Returns\n",
    "\n",
    "- A Series or DataFrame containing the cross-section from the original DataFrame corresponding to the selected index levels.\n",
    "\n",
    "### Examples\n",
    "\n",
    "```python\n",
    "import pandas as pd\n",
    "\n",
    "# Create a sample DataFrame\n",
    "data = {\n",
    "    'num_legs': [4, 4, 2, 2],\n",
    "    'num_wings': [0, 0, 2, 2],\n",
    "    'class': ['Mammal', 'Mammal', 'Mammal', 'Bird'],\n",
    "    'animal': ['Cow', 'Elephant', 'Deer', 'Sparrow'],\n",
    "    'locomotion': ['Walks', 'Walks', 'Walks', 'Flies']\n",
    "}\n",
    "\n",
    "df = pd.DataFrame(data)\n",
    "df = df.set_index(['class', 'animal', 'locomotion'])\n",
    "\n",
    "# Get cross-section for a specific index\n",
    "print(df.xs('Mammal'))\n",
    "```\n",
    "\n",
    "Output:\n",
    "```\n",
    "                num_legs  num_wings\n",
    "animal locomotion                \n",
    "Cow     Walks           4         0\n",
    "Elephant Walks         4         0\n",
    "Deer    Walks          2         0\n",
    "```\n",
    "\n",
    "In this example, `df.xs('Mammal')` returns a cross-section of the DataFrame where the `class` level is 'Mammal'.\n",
    "\n",
    "The `xs()` method is particularly useful when working with MultiIndex DataFrames, as it allows you to easily retrieve data based on specific index levels[1][2][3][4][5].\n",
    "\n",
    "Citations:\n",
    "\n",
    "[1] https://pandas.pydata.org/docs/reference/api/pandas.DataFrame.xs.html\n",
    "\n",
    "[2] https://www.w3schools.com/python/pandas/ref_df_xs.asp\n",
    "\n",
    "[3] https://www.w3resource.com/pandas/series/series-xs.php\n",
    "\n",
    "[4] https://www.geeksforgeeks.org/python-pandas-series-xs/\n",
    "\n",
    "[5] https://pandas.pydata.org/pandas-docs/version/2.1/reference/api/pandas.DataFrame.xs.html"
   ],
   "id": "45d8ba66e9de289a"
  }
 ],
 "metadata": {
  "kernelspec": {
   "display_name": "Python 3",
   "language": "python",
   "name": "python3"
  },
  "language_info": {
   "codemirror_mode": {
    "name": "ipython",
    "version": 2
   },
   "file_extension": ".py",
   "mimetype": "text/x-python",
   "name": "python",
   "nbconvert_exporter": "python",
   "pygments_lexer": "ipython2",
   "version": "2.7.6"
  }
 },
 "nbformat": 4,
 "nbformat_minor": 5
}
