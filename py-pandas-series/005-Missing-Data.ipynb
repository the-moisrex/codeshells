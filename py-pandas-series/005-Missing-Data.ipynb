{
 "cells": [
  {
   "cell_type": "code",
   "id": "initial_id",
   "metadata": {
    "collapsed": true,
    "ExecuteTime": {
     "end_time": "2024-08-10T00:01:12.923371Z",
     "start_time": "2024-08-10T00:01:12.806437Z"
    }
   },
   "source": [
    "import numpy as np\n",
    "import pandas as pd"
   ],
   "outputs": [],
   "execution_count": 1
  },
  {
   "metadata": {
    "ExecuteTime": {
     "end_time": "2024-08-10T00:01:52.101050Z",
     "start_time": "2024-08-10T00:01:52.097542Z"
    }
   },
   "cell_type": "code",
   "source": [
    "d = {'A': [1, 2, np.nan], 'B': [5, np.nan, np.nan], 'C': [6, np.nan, np.nan], 'D': [7, np.nan, np.nan]}\n",
    "d"
   ],
   "id": "bc2c076003c10fb0",
   "outputs": [
    {
     "data": {
      "text/plain": [
       "{'A': [1, 2, nan], 'B': [5, nan, nan], 'C': [6, nan, nan], 'D': [7, nan, nan]}"
      ]
     },
     "execution_count": 2,
     "metadata": {},
     "output_type": "execute_result"
    }
   ],
   "execution_count": 2
  },
  {
   "metadata": {
    "ExecuteTime": {
     "end_time": "2024-08-10T00:02:05.869062Z",
     "start_time": "2024-08-10T00:02:05.864839Z"
    }
   },
   "cell_type": "code",
   "source": [
    "df = pd.DataFrame(d)\n",
    "df"
   ],
   "id": "6db5f4ecfdc35d9e",
   "outputs": [
    {
     "data": {
      "text/plain": [
       "     A    B    C    D\n",
       "0  1.0  5.0  6.0  7.0\n",
       "1  2.0  NaN  NaN  NaN\n",
       "2  NaN  NaN  NaN  NaN"
      ],
      "text/html": [
       "<div>\n",
       "<style scoped>\n",
       "    .dataframe tbody tr th:only-of-type {\n",
       "        vertical-align: middle;\n",
       "    }\n",
       "\n",
       "    .dataframe tbody tr th {\n",
       "        vertical-align: top;\n",
       "    }\n",
       "\n",
       "    .dataframe thead th {\n",
       "        text-align: right;\n",
       "    }\n",
       "</style>\n",
       "<table border=\"1\" class=\"dataframe\">\n",
       "  <thead>\n",
       "    <tr style=\"text-align: right;\">\n",
       "      <th></th>\n",
       "      <th>A</th>\n",
       "      <th>B</th>\n",
       "      <th>C</th>\n",
       "      <th>D</th>\n",
       "    </tr>\n",
       "  </thead>\n",
       "  <tbody>\n",
       "    <tr>\n",
       "      <th>0</th>\n",
       "      <td>1.0</td>\n",
       "      <td>5.0</td>\n",
       "      <td>6.0</td>\n",
       "      <td>7.0</td>\n",
       "    </tr>\n",
       "    <tr>\n",
       "      <th>1</th>\n",
       "      <td>2.0</td>\n",
       "      <td>NaN</td>\n",
       "      <td>NaN</td>\n",
       "      <td>NaN</td>\n",
       "    </tr>\n",
       "    <tr>\n",
       "      <th>2</th>\n",
       "      <td>NaN</td>\n",
       "      <td>NaN</td>\n",
       "      <td>NaN</td>\n",
       "      <td>NaN</td>\n",
       "    </tr>\n",
       "  </tbody>\n",
       "</table>\n",
       "</div>"
      ]
     },
     "execution_count": 4,
     "metadata": {},
     "output_type": "execute_result"
    }
   ],
   "execution_count": 4
  },
  {
   "metadata": {},
   "cell_type": "markdown",
   "source": "# Dropping NaN values",
   "id": "12519eec4b2b5bb8"
  },
  {
   "metadata": {
    "ExecuteTime": {
     "end_time": "2024-08-10T00:04:15.542409Z",
     "start_time": "2024-08-10T00:04:15.538500Z"
    }
   },
   "cell_type": "code",
   "source": "df.dropna(axis=0, inplace=False)",
   "id": "3b688e70a8afe092",
   "outputs": [
    {
     "data": {
      "text/plain": [
       "     A    B    C    D\n",
       "0  1.0  5.0  6.0  7.0"
      ],
      "text/html": [
       "<div>\n",
       "<style scoped>\n",
       "    .dataframe tbody tr th:only-of-type {\n",
       "        vertical-align: middle;\n",
       "    }\n",
       "\n",
       "    .dataframe tbody tr th {\n",
       "        vertical-align: top;\n",
       "    }\n",
       "\n",
       "    .dataframe thead th {\n",
       "        text-align: right;\n",
       "    }\n",
       "</style>\n",
       "<table border=\"1\" class=\"dataframe\">\n",
       "  <thead>\n",
       "    <tr style=\"text-align: right;\">\n",
       "      <th></th>\n",
       "      <th>A</th>\n",
       "      <th>B</th>\n",
       "      <th>C</th>\n",
       "      <th>D</th>\n",
       "    </tr>\n",
       "  </thead>\n",
       "  <tbody>\n",
       "    <tr>\n",
       "      <th>0</th>\n",
       "      <td>1.0</td>\n",
       "      <td>5.0</td>\n",
       "      <td>6.0</td>\n",
       "      <td>7.0</td>\n",
       "    </tr>\n",
       "  </tbody>\n",
       "</table>\n",
       "</div>"
      ]
     },
     "execution_count": 10,
     "metadata": {},
     "output_type": "execute_result"
    }
   ],
   "execution_count": 10
  },
  {
   "metadata": {
    "ExecuteTime": {
     "end_time": "2024-08-10T00:04:15.829774Z",
     "start_time": "2024-08-10T00:04:15.823125Z"
    }
   },
   "cell_type": "code",
   "source": "df.dropna(axis=1, inplace=False)",
   "id": "dc6c4b7975b90bbb",
   "outputs": [
    {
     "data": {
      "text/plain": [
       "Empty DataFrame\n",
       "Columns: []\n",
       "Index: [0, 1, 2]"
      ],
      "text/html": [
       "<div>\n",
       "<style scoped>\n",
       "    .dataframe tbody tr th:only-of-type {\n",
       "        vertical-align: middle;\n",
       "    }\n",
       "\n",
       "    .dataframe tbody tr th {\n",
       "        vertical-align: top;\n",
       "    }\n",
       "\n",
       "    .dataframe thead th {\n",
       "        text-align: right;\n",
       "    }\n",
       "</style>\n",
       "<table border=\"1\" class=\"dataframe\">\n",
       "  <thead>\n",
       "    <tr style=\"text-align: right;\">\n",
       "      <th></th>\n",
       "    </tr>\n",
       "  </thead>\n",
       "  <tbody>\n",
       "    <tr>\n",
       "      <th>0</th>\n",
       "    </tr>\n",
       "    <tr>\n",
       "      <th>1</th>\n",
       "    </tr>\n",
       "    <tr>\n",
       "      <th>2</th>\n",
       "    </tr>\n",
       "  </tbody>\n",
       "</table>\n",
       "</div>"
      ]
     },
     "execution_count": 11,
     "metadata": {},
     "output_type": "execute_result"
    }
   ],
   "execution_count": 11
  },
  {
   "metadata": {
    "ExecuteTime": {
     "end_time": "2024-08-10T00:05:16.690278Z",
     "start_time": "2024-08-10T00:05:16.684624Z"
    }
   },
   "cell_type": "code",
   "source": "df.dropna(axis=0, thresh=1, inplace=False) # threshold of 1",
   "id": "abd461ed5382f137",
   "outputs": [
    {
     "data": {
      "text/plain": [
       "     A    B    C    D\n",
       "0  1.0  5.0  6.0  7.0\n",
       "1  2.0  NaN  NaN  NaN"
      ],
      "text/html": [
       "<div>\n",
       "<style scoped>\n",
       "    .dataframe tbody tr th:only-of-type {\n",
       "        vertical-align: middle;\n",
       "    }\n",
       "\n",
       "    .dataframe tbody tr th {\n",
       "        vertical-align: top;\n",
       "    }\n",
       "\n",
       "    .dataframe thead th {\n",
       "        text-align: right;\n",
       "    }\n",
       "</style>\n",
       "<table border=\"1\" class=\"dataframe\">\n",
       "  <thead>\n",
       "    <tr style=\"text-align: right;\">\n",
       "      <th></th>\n",
       "      <th>A</th>\n",
       "      <th>B</th>\n",
       "      <th>C</th>\n",
       "      <th>D</th>\n",
       "    </tr>\n",
       "  </thead>\n",
       "  <tbody>\n",
       "    <tr>\n",
       "      <th>0</th>\n",
       "      <td>1.0</td>\n",
       "      <td>5.0</td>\n",
       "      <td>6.0</td>\n",
       "      <td>7.0</td>\n",
       "    </tr>\n",
       "    <tr>\n",
       "      <th>1</th>\n",
       "      <td>2.0</td>\n",
       "      <td>NaN</td>\n",
       "      <td>NaN</td>\n",
       "      <td>NaN</td>\n",
       "    </tr>\n",
       "  </tbody>\n",
       "</table>\n",
       "</div>"
      ]
     },
     "execution_count": 15,
     "metadata": {},
     "output_type": "execute_result"
    }
   ],
   "execution_count": 15
  },
  {
   "metadata": {},
   "cell_type": "markdown",
   "source": "# Filling instead of dropping",
   "id": "99fe4cd9268742a3"
  },
  {
   "metadata": {
    "ExecuteTime": {
     "end_time": "2024-08-10T00:05:44.350668Z",
     "start_time": "2024-08-10T00:05:44.345340Z"
    }
   },
   "cell_type": "code",
   "source": "df.fillna(value='Failed')",
   "id": "7c95d4e451e65893",
   "outputs": [
    {
     "data": {
      "text/plain": [
       "        A       B       C       D\n",
       "0     1.0     5.0     6.0     7.0\n",
       "1     2.0  Failed  Failed  Failed\n",
       "2  Failed  Failed  Failed  Failed"
      ],
      "text/html": [
       "<div>\n",
       "<style scoped>\n",
       "    .dataframe tbody tr th:only-of-type {\n",
       "        vertical-align: middle;\n",
       "    }\n",
       "\n",
       "    .dataframe tbody tr th {\n",
       "        vertical-align: top;\n",
       "    }\n",
       "\n",
       "    .dataframe thead th {\n",
       "        text-align: right;\n",
       "    }\n",
       "</style>\n",
       "<table border=\"1\" class=\"dataframe\">\n",
       "  <thead>\n",
       "    <tr style=\"text-align: right;\">\n",
       "      <th></th>\n",
       "      <th>A</th>\n",
       "      <th>B</th>\n",
       "      <th>C</th>\n",
       "      <th>D</th>\n",
       "    </tr>\n",
       "  </thead>\n",
       "  <tbody>\n",
       "    <tr>\n",
       "      <th>0</th>\n",
       "      <td>1.0</td>\n",
       "      <td>5.0</td>\n",
       "      <td>6.0</td>\n",
       "      <td>7.0</td>\n",
       "    </tr>\n",
       "    <tr>\n",
       "      <th>1</th>\n",
       "      <td>2.0</td>\n",
       "      <td>Failed</td>\n",
       "      <td>Failed</td>\n",
       "      <td>Failed</td>\n",
       "    </tr>\n",
       "    <tr>\n",
       "      <th>2</th>\n",
       "      <td>Failed</td>\n",
       "      <td>Failed</td>\n",
       "      <td>Failed</td>\n",
       "      <td>Failed</td>\n",
       "    </tr>\n",
       "  </tbody>\n",
       "</table>\n",
       "</div>"
      ]
     },
     "execution_count": 16,
     "metadata": {},
     "output_type": "execute_result"
    }
   ],
   "execution_count": 16
  },
  {
   "metadata": {},
   "cell_type": "markdown",
   "source": "### Filling based on mean",
   "id": "ad4a840894909c67"
  },
  {
   "metadata": {
    "ExecuteTime": {
     "end_time": "2024-08-10T00:06:29.639079Z",
     "start_time": "2024-08-10T00:06:29.636637Z"
    }
   },
   "cell_type": "code",
   "source": "df['A']",
   "id": "c72dc683dfe651b6",
   "outputs": [
    {
     "data": {
      "text/plain": [
       "0    1.0\n",
       "1    2.0\n",
       "2    NaN\n",
       "Name: A, dtype: float64"
      ]
     },
     "execution_count": 17,
     "metadata": {},
     "output_type": "execute_result"
    }
   ],
   "execution_count": 17
  },
  {
   "metadata": {
    "ExecuteTime": {
     "end_time": "2024-08-10T00:08:24.220055Z",
     "start_time": "2024-08-10T00:08:24.215496Z"
    }
   },
   "cell_type": "code",
   "source": "df['A'].fillna(value=df['A'].mean())",
   "id": "4745c689ad2a7f96",
   "outputs": [
    {
     "data": {
      "text/plain": [
       "0    1.0\n",
       "1    2.0\n",
       "2    1.5\n",
       "Name: A, dtype: float64"
      ]
     },
     "execution_count": 19,
     "metadata": {},
     "output_type": "execute_result"
    }
   ],
   "execution_count": 19
  },
  {
   "metadata": {},
   "cell_type": "markdown",
   "source": [
    "## fillna and dropna in Pandas\n",
    "\n",
    "Pandas provides two useful methods for handling missing data: `fillna` and `dropna`. Here's an explanation of how to use each method:\n",
    "\n",
    "### fillna\n",
    "\n",
    "The `fillna` method is used to fill missing values (NaN) in a DataFrame or Series with a specified value or method. Here are some key points about `fillna`:\n",
    "\n",
    "- You can pass a scalar value to fill all missing values with that value[1][2]:\n",
    "\n",
    "```python\n",
    "df.fillna(0, inplace=True)\n",
    "```\n",
    "\n",
    "- You can pass a dictionary to fill specific columns with different values[1][2]:\n",
    "\n",
    "```python\n",
    "df.fillna({'A': 0, 'B': 'missing'})\n",
    "```\n",
    "\n",
    "- The `method` parameter allows you to fill missing values using a forward-fill (`ffill`), back-fill (`bfill`), or interpolation[1][2]:\n",
    "\n",
    "```python\n",
    "df.fillna(method='ffill')\n",
    "```\n",
    "\n",
    "- Setting `inplace=True` modifies the original DataFrame, otherwise a new DataFrame is returned[1][2]\n",
    "\n",
    "### dropna\n",
    "\n",
    "The `dropna` method is used to drop rows or columns containing missing values from a DataFrame. Key points about `dropna`:\n",
    "\n",
    "- By default it drops rows where any column has a missing value[3][4]:\n",
    "\n",
    "```python\n",
    "df.dropna()\n",
    "```\n",
    "\n",
    "- Setting `how='all'` only drops rows where all values are missing[3]\n",
    "- Use `subset` to specify which columns to consider for dropping rows[3][4]:\n",
    "\n",
    "```python\n",
    "df.dropna(subset=['A', 'B'])\n",
    "```\n",
    "\n",
    "- Set `axis=1` to drop columns instead of rows[4]\n",
    "- Setting `inplace=True` modifies the original DataFrame[3][4]\n",
    "\n",
    "In summary, `fillna` is used to replace missing values, while `dropna` removes rows or columns containing NaNs. Both methods provide flexibility to handle missing data in Pandas DataFrames and Series.\n",
    "\n",
    "Citations:\n",
    "\n",
    "[1] https://slidescope.com/handling-missing-data-with-fillna-dropna-and-interpolate-in-pandas-lesson-6/\n",
    "\n",
    "[2] https://www.w3schools.com/python/pandas/ref_df_fillna.asp\n",
    "\n",
    "[3] https://pandas.pydata.org/docs/reference/api/pandas.DataFrame.dropna.html\n",
    "\n",
    "[4] https://stackoverflow.com/questions/60832099/what-should-i-do-to-solve-my-problem-with-dropna-and-fillna-in-python\n",
    "\n",
    "[5] https://pandas.pydata.org/docs/reference/api/pandas.DataFrame.fillna.html"
   ],
   "id": "dcd519ada6a9ff46"
  },
  {
   "metadata": {},
   "cell_type": "markdown",
   "source": [
    "------------\n",
    "The `fillna` method in Pandas is a powerful tool for handling missing values (NaN) in DataFrames and Series. It allows users to fill these missing values with specified values or methods, enhancing data integrity and usability during analysis.\n",
    "\n",
    "### Syntax\n",
    "\n",
    "The basic syntax of the `fillna` method is as follows:\n",
    "\n",
    "```python\n",
    "DataFrame.fillna(value=None, method=None, axis=None, inplace=False, limit=None, downcast=None, **kwargs)\n",
    "```\n",
    "\n",
    "### Parameters\n",
    "\n",
    "- **value**: This can be a scalar, dictionary, Series, or DataFrame. It specifies the value(s) to use for filling NaN values. For example, you can fill all NaNs with a specific number or use a dictionary to fill different columns with different values.\n",
    "\n",
    "- **method**: This parameter allows for filling NaNs using specific methods:\n",
    "  - `'ffill'` or `'pad'`: Propagates the last valid observation forward to the next valid.\n",
    "  - `'bfill'` or `'backfill'`: Uses the next valid observation to fill the gap.\n",
    "\n",
    "- **axis**: This specifies the axis along which to fill. `0` or `'index'` fills along rows, while `1` or `'columns'` fills along columns.\n",
    "\n",
    "- **inplace**: If set to `True`, the operation modifies the original DataFrame. If `False`, it returns a new DataFrame.\n",
    "\n",
    "- **limit**: This limits the number of consecutive NaNs to fill. It is useful when you want to restrict the filling to a certain number of NaNs.\n",
    "\n",
    "- **downcast**: This allows for downcasting to a specific data type if possible.\n",
    "\n",
    "### Examples\n",
    "\n",
    "1. **Filling with a Specific Value**:\n",
    "   ```python\n",
    "   import pandas as pd\n",
    "\n",
    "   df = pd.DataFrame({'A': [1, 2, None, 4], 'B': [None, 2, 3, None]})\n",
    "   df.fillna(0, inplace=True)\n",
    "   print(df)\n",
    "   ```\n",
    "   This replaces all NaN values with `0`.\n",
    "\n",
    "2. **Filling with a Dictionary**:\n",
    "   ```python\n",
    "   df.fillna({'A': 0, 'B': 1}, inplace=True)\n",
    "   ```\n",
    "   This fills NaNs in column 'A' with `0` and those in 'B' with `1`.\n",
    "\n",
    "3. **Forward Fill**:\n",
    "   ```python\n",
    "   df.fillna(method='ffill', inplace=True)\n",
    "   ```\n",
    "   This fills NaNs with the last valid observation.\n",
    "\n",
    "4. **Limit Filling**:\n",
    "   ```python\n",
    "   df.fillna(method='ffill', limit=1, inplace=True)\n",
    "   ```\n",
    "   This will only forward fill the first NaN in a sequence.\n",
    "\n",
    "### Conclusion\n",
    "\n",
    "The `fillna` method is essential for data preprocessing, allowing analysts to maintain the integrity of their datasets by effectively managing missing values. It provides flexibility in how missing data is handled, catering to various analytical needs and scenarios, such as time series data where previous or subsequent observations are relevant for filling gaps[1][2][3][4][5].\n",
    "\n",
    "Citations:\n",
    "\n",
    "[1] https://www.geeksforgeeks.org/python-pandas-series-fillna/\n",
    "\n",
    "[2] https://www.kdnuggets.com/2023/02/optimal-way-input-missing-data-pandas-fillna.html\n",
    "\n",
    "[3] https://www.w3schools.com/python/pandas/ref_df_fillna.asp\n",
    "\n",
    "[4] https://slidescope.com/handling-missing-data-with-fillna-dropna-and-interpolate-in-pandas-lesson-6/\n",
    "\n",
    "[5] https://pandas.pydata.org/pandas-docs/version/0.23.4/generated/pandas.DataFrame.fillna.html"
   ],
   "id": "dfb35d1118e44b5c"
  }
 ],
 "metadata": {
  "kernelspec": {
   "display_name": "Python 3",
   "language": "python",
   "name": "python3"
  },
  "language_info": {
   "codemirror_mode": {
    "name": "ipython",
    "version": 2
   },
   "file_extension": ".py",
   "mimetype": "text/x-python",
   "name": "python",
   "nbconvert_exporter": "python",
   "pygments_lexer": "ipython2",
   "version": "2.7.6"
  }
 },
 "nbformat": 4,
 "nbformat_minor": 5
}
