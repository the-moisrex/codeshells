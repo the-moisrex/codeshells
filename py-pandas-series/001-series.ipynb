{
 "cells": [
  {
   "cell_type": "code",
   "id": "initial_id",
   "metadata": {
    "collapsed": true,
    "ExecuteTime": {
     "end_time": "2024-08-06T16:15:34.816801Z",
     "start_time": "2024-08-06T16:15:34.815086Z"
    }
   },
   "source": [
    "import numpy as np\n",
    "import pandas as pd"
   ],
   "outputs": [],
   "execution_count": 2
  },
  {
   "metadata": {
    "ExecuteTime": {
     "end_time": "2024-08-06T16:16:13.386386Z",
     "start_time": "2024-08-06T16:16:13.384368Z"
    }
   },
   "cell_type": "code",
   "source": [
    "labels = ['A', 'B', 'C', 'D', 'E', 'F']\n",
    "my_data = [1, 2, 3, 4, 5, 6]\n",
    "arr = np.array(my_data)\n",
    "d = {'a': 1, 'b': 2, 'c': 3, 'd': 4, 'e': 5}"
   ],
   "id": "4920f06ff6c88d2c",
   "outputs": [],
   "execution_count": 3
  },
  {
   "metadata": {
    "ExecuteTime": {
     "end_time": "2024-08-06T16:16:26.942401Z",
     "start_time": "2024-08-06T16:16:26.934086Z"
    }
   },
   "cell_type": "code",
   "source": "pd.Series(my_data)",
   "id": "8dffd74a70783d4e",
   "outputs": [
    {
     "data": {
      "text/plain": [
       "0    1\n",
       "1    2\n",
       "2    3\n",
       "3    4\n",
       "4    5\n",
       "5    6\n",
       "dtype: int64"
      ]
     },
     "execution_count": 4,
     "metadata": {},
     "output_type": "execute_result"
    }
   ],
   "execution_count": 4
  },
  {
   "metadata": {
    "ExecuteTime": {
     "end_time": "2024-08-06T16:16:49.268472Z",
     "start_time": "2024-08-06T16:16:49.265685Z"
    }
   },
   "cell_type": "code",
   "source": "pd.Series(my_data, index=labels)",
   "id": "ebe8f49e4deb39d6",
   "outputs": [
    {
     "data": {
      "text/plain": [
       "A    1\n",
       "B    2\n",
       "C    3\n",
       "D    4\n",
       "E    5\n",
       "F    6\n",
       "dtype: int64"
      ]
     },
     "execution_count": 5,
     "metadata": {},
     "output_type": "execute_result"
    }
   ],
   "execution_count": 5
  },
  {
   "metadata": {
    "ExecuteTime": {
     "end_time": "2024-08-06T16:19:12.212164Z",
     "start_time": "2024-08-06T16:19:12.209562Z"
    }
   },
   "cell_type": "code",
   "source": "pd.Series(d)",
   "id": "26e6ae9d12bc403f",
   "outputs": [
    {
     "data": {
      "text/plain": [
       "a    1\n",
       "b    2\n",
       "c    3\n",
       "d    4\n",
       "e    5\n",
       "dtype: int64"
      ]
     },
     "execution_count": 6,
     "metadata": {},
     "output_type": "execute_result"
    }
   ],
   "execution_count": 6
  },
  {
   "metadata": {},
   "cell_type": "markdown",
   "source": "# Using them as index",
   "id": "b4f555de17f243b9"
  },
  {
   "metadata": {
    "ExecuteTime": {
     "end_time": "2024-08-06T16:22:00.099647Z",
     "start_time": "2024-08-06T16:22:00.097553Z"
    }
   },
   "cell_type": "code",
   "source": "ser1 = pd.Series([1,2,3,4,5,6], ['USA', 'Germany', 'Italy', 'Iran', 'China', 'Russia'])",
   "id": "eec5868455a33561",
   "outputs": [],
   "execution_count": 8
  },
  {
   "metadata": {
    "ExecuteTime": {
     "end_time": "2024-08-06T16:22:03.222546Z",
     "start_time": "2024-08-06T16:22:03.218630Z"
    }
   },
   "cell_type": "code",
   "source": "ser1",
   "id": "b574181175019fa0",
   "outputs": [
    {
     "data": {
      "text/plain": [
       "USA        1\n",
       "Germany    2\n",
       "Italy      3\n",
       "Iran       4\n",
       "China      5\n",
       "Russia     6\n",
       "dtype: int64"
      ]
     },
     "execution_count": 9,
     "metadata": {},
     "output_type": "execute_result"
    }
   ],
   "execution_count": 9
  },
  {
   "metadata": {
    "ExecuteTime": {
     "end_time": "2024-08-06T16:22:37.556212Z",
     "start_time": "2024-08-06T16:22:37.552962Z"
    }
   },
   "cell_type": "code",
   "source": "ser1['Germany']",
   "id": "9fa0d30a70d9a729",
   "outputs": [
    {
     "data": {
      "text/plain": [
       "2"
      ]
     },
     "execution_count": 11,
     "metadata": {},
     "output_type": "execute_result"
    }
   ],
   "execution_count": 11
  },
  {
   "metadata": {
    "ExecuteTime": {
     "end_time": "2024-08-06T16:22:49.909275Z",
     "start_time": "2024-08-06T16:22:49.906556Z"
    }
   },
   "cell_type": "code",
   "source": "ser1 + ser1",
   "id": "97d396c202d36f14",
   "outputs": [
    {
     "data": {
      "text/plain": [
       "USA         2\n",
       "Germany     4\n",
       "Italy       6\n",
       "Iran        8\n",
       "China      10\n",
       "Russia     12\n",
       "dtype: int64"
      ]
     },
     "execution_count": 12,
     "metadata": {},
     "output_type": "execute_result"
    }
   ],
   "execution_count": 12
  },
  {
   "metadata": {
    "ExecuteTime": {
     "end_time": "2024-08-06T16:23:07.517440Z",
     "start_time": "2024-08-06T16:23:07.514219Z"
    }
   },
   "cell_type": "code",
   "source": "ser1 * 6",
   "id": "bb2a1c6cc383bc7f",
   "outputs": [
    {
     "data": {
      "text/plain": [
       "USA         6\n",
       "Germany    12\n",
       "Italy      18\n",
       "Iran       24\n",
       "China      30\n",
       "Russia     36\n",
       "dtype: int64"
      ]
     },
     "execution_count": 14,
     "metadata": {},
     "output_type": "execute_result"
    }
   ],
   "execution_count": 14
  }
 ],
 "metadata": {
  "kernelspec": {
   "display_name": "Python 3",
   "language": "python",
   "name": "python3"
  },
  "language_info": {
   "codemirror_mode": {
    "name": "ipython",
    "version": 2
   },
   "file_extension": ".py",
   "mimetype": "text/x-python",
   "name": "python",
   "nbconvert_exporter": "python",
   "pygments_lexer": "ipython2",
   "version": "2.7.6"
  }
 },
 "nbformat": 4,
 "nbformat_minor": 5
}
