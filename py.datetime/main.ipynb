{
 "cells": [
  {
   "cell_type": "markdown",
   "source": [
    "# Naive Date Times\n",
    "\n",
    "In Python, naive date times refer to a type of date/time object that doesn't include any information about the time zone in which the date/time is specified. These objects are considered \"naive\" because they don't have enough information to accurately represent a specific moment in time in a global context.\n",
    "\n",
    "Naive date times are created using the datetime module in Python. For example, here's how you can create a naive date time representing January 1, 2021, at 12:00pm:"
   ],
   "metadata": {
    "collapsed": false
   }
  },
  {
   "cell_type": "code",
   "execution_count": 2,
   "outputs": [
    {
     "data": {
      "text/plain": "datetime.datetime(2021, 1, 1, 12, 0)"
     },
     "execution_count": 1,
     "metadata": {},
     "output_type": "execute_result"
    },
    {
     "data": {
      "text/plain": "datetime.datetime(2021, 1, 1, 12, 0)"
     },
     "execution_count": 2,
     "metadata": {},
     "output_type": "execute_result"
    }
   ],
   "source": [
    "from datetime import datetime\n",
    "dt = datetime(2021, 1, 1, 12, 0, 0)\n",
    "dt"
   ],
   "metadata": {
    "collapsed": false
   }
  },
  {
   "cell_type": "markdown",
   "source": [
    "Note that the datetime object created here doesn't include any information about the time zone, so it's considered \"naive.\" If you need to work with time zones, you can use the pytz library to create aware date/time objects that take time zones into account."
   ],
   "metadata": {
    "collapsed": false
   }
  },
  {
   "cell_type": "markdown",
   "source": [
    "# Aware date-time\n",
    "\n",
    "The opposite of a naive date/time in Python is an aware date/time, which includes information about the time zone in which the date/time is specified.\n",
    "\n",
    "An aware date/time takes into account the local time zone in which the date/time occurs, and is able to adjust for daylight saving time and other time zone changes.\n",
    "\n",
    "To create an aware date/time in Python, you can use the pytz library to set a specific time zone for your datetime object. Here's an example of how to create an aware date/time representing January 1, 2021, at 12:00pm in the US Eastern time zone:"
   ],
   "metadata": {
    "collapsed": false
   }
  },
  {
   "cell_type": "code",
   "execution_count": 5,
   "outputs": [
    {
     "data": {
      "text/plain": "datetime.datetime(2021, 1, 1, 12, 0, tzinfo=<DstTzInfo 'US/Eastern' LMT-1 day, 19:04:00 STD>)"
     },
     "execution_count": 5,
     "metadata": {},
     "output_type": "execute_result"
    }
   ],
   "source": [
    "from datetime import datetime\n",
    "import pytz\n",
    "\n",
    "tz = pytz.timezone('US/Eastern')\n",
    "dt = datetime(2021, 1, 1, 12, 0, 0, tzinfo=tz)\n",
    "dt"
   ],
   "metadata": {
    "collapsed": false
   }
  },
  {
   "cell_type": "markdown",
   "source": [
    "Note that the datetime object created here includes the tzinfo parameter, which specifies the time zone information for the object. By including this information, the datetime object is considered \"aware.\""
   ],
   "metadata": {
    "collapsed": false
   }
  },
  {
   "cell_type": "markdown",
   "source": [
    "# Examples, and practices"
   ],
   "metadata": {
    "collapsed": false
   }
  },
  {
   "cell_type": "code",
   "execution_count": 7,
   "outputs": [
    {
     "data": {
      "text/plain": "(16, 2023, 3)"
     },
     "execution_count": 7,
     "metadata": {},
     "output_type": "execute_result"
    }
   ],
   "source": [
    "import datetime\n",
    "\n",
    "today = datetime.date.today()\n",
    "today.day, today.year, today.month"
   ],
   "metadata": {
    "collapsed": false
   }
  },
  {
   "cell_type": "code",
   "execution_count": 9,
   "outputs": [
    {
     "data": {
      "text/plain": "(3, 4)"
     },
     "execution_count": 9,
     "metadata": {},
     "output_type": "execute_result"
    }
   ],
   "source": [
    "today.weekday(), today.isoweekday()"
   ],
   "metadata": {
    "collapsed": false
   }
  },
  {
   "cell_type": "markdown",
   "source": [
    "## Week Days\n",
    "\n",
    "In Python's datetime module, weekday() and isoweekday() are two different methods used to retrieve the day of the week from a given date. The main difference between these two methods is how they represent the day of the week.\n",
    "\n",
    "weekday() returns the day of the week as an integer, where Monday is represented as 0 and Sunday is represented as 6. Here's an example:"
   ],
   "metadata": {
    "collapsed": false
   }
  },
  {
   "cell_type": "code",
   "execution_count": 10,
   "outputs": [
    {
     "name": "stdout",
     "output_type": "stream",
     "text": [
      "6\n"
     ]
    }
   ],
   "source": [
    "from datetime import date\n",
    "d = date(2021, 10, 3)\n",
    "print(d.weekday())  # This will print 6, since Sunday is the 6th day of the week starting from Monday."
   ],
   "metadata": {
    "collapsed": false
   }
  },
  {
   "cell_type": "markdown",
   "source": [
    "On the other hand, isoweekday() also returns the day of the week as an integer, but in this case Monday is represented as 1 and Sunday is represented as 7. Here's an example:"
   ],
   "metadata": {
    "collapsed": false
   }
  },
  {
   "cell_type": "code",
   "execution_count": 11,
   "outputs": [
    {
     "name": "stdout",
     "output_type": "stream",
     "text": [
      "7\n"
     ]
    }
   ],
   "source": [
    "from datetime import date\n",
    "d = date(2021, 10, 3)\n",
    "print(d.isoweekday())  # This will print 7, since Sunday is the 7th day of the week starting from Monday.\n"
   ],
   "metadata": {
    "collapsed": false
   }
  },
  {
   "cell_type": "markdown",
   "source": [
    "So, the key difference between weekday() and isoweekday() is in how they represent the day of the week, with weekday() treating Monday as 0 and isoweekday() treating Monday as 1."
   ],
   "metadata": {
    "collapsed": false
   }
  },
  {
   "cell_type": "markdown",
   "source": [
    "# Time Delta"
   ],
   "metadata": {
    "collapsed": false
   }
  },
  {
   "cell_type": "code",
   "execution_count": 20,
   "outputs": [
    {
     "data": {
      "text/plain": "('2023-03-16', '7 days, 0:00:00', '2023-03-23', '2023-03-09')"
     },
     "execution_count": 20,
     "metadata": {},
     "output_type": "execute_result"
    }
   ],
   "source": [
    "delta = datetime.timedelta(days=7) # seven days\n",
    "\n",
    "str(today), str(delta), (today + delta).strftime('%Y-%m-%d'), str(today - delta)"
   ],
   "metadata": {
    "collapsed": false
   }
  },
  {
   "cell_type": "markdown",
   "source": [
    "### `date`       = `date` + `timedelta`\n",
    "### `timedelta`  = `date` + `date`"
   ],
   "metadata": {
    "collapsed": false
   }
  },
  {
   "cell_type": "code",
   "execution_count": 24,
   "outputs": [
    {
     "data": {
      "text/plain": "('192 days, 0:00:00', 192, 16588800.0)"
     },
     "execution_count": 24,
     "metadata": {},
     "output_type": "execute_result"
    }
   ],
   "source": [
    "# days till:\n",
    "\n",
    "his_birthday = datetime.date(2023, 9, 24)\n",
    "till_bday = his_birthday - today\n",
    "\n",
    "str(till_bday), till_bday.days, till_bday.total_seconds()"
   ],
   "metadata": {
    "collapsed": false
   }
  },
  {
   "cell_type": "markdown",
   "source": [
    "# Time"
   ],
   "metadata": {
    "collapsed": false
   }
  },
  {
   "cell_type": "code",
   "execution_count": 26,
   "outputs": [],
   "source": [
    "t = datetime.time(9, 30, 45, 10000)\n",
    "#                 h, min,sec, msec"
   ],
   "metadata": {
    "collapsed": false
   }
  },
  {
   "cell_type": "code",
   "execution_count": 27,
   "outputs": [
    {
     "data": {
      "text/plain": "(9, 45)"
     },
     "execution_count": 27,
     "metadata": {},
     "output_type": "execute_result"
    }
   ],
   "source": [
    "t.hour, t.second"
   ],
   "metadata": {
    "collapsed": false
   }
  },
  {
   "cell_type": "code",
   "execution_count": 28,
   "outputs": [],
   "source": [
    "t = datetime.datetime(2023, 7, 26, 12, 30, 45, 10000)\n",
    "#                     year, mon,d, hour,m, sec, msec"
   ],
   "metadata": {
    "collapsed": false
   }
  },
  {
   "cell_type": "code",
   "execution_count": 29,
   "outputs": [
    {
     "data": {
      "text/plain": "(2023, 45, 10000, 10000)"
     },
     "execution_count": 29,
     "metadata": {},
     "output_type": "execute_result"
    }
   ],
   "source": [
    "t.year, t.second, t.microsecond, t.microsecond"
   ],
   "metadata": {
    "collapsed": false
   }
  },
  {
   "cell_type": "code",
   "execution_count": 31,
   "outputs": [
    {
     "data": {
      "text/plain": "('2023-07-26 12:30:45.010000', '2023-07-26', '12:30:45.010000')"
     },
     "execution_count": 31,
     "metadata": {},
     "output_type": "execute_result"
    }
   ],
   "source": [
    "str(t), str(t.date()), str(t.time())"
   ],
   "metadata": {
    "collapsed": false
   }
  },
  {
   "cell_type": "code",
   "execution_count": 32,
   "outputs": [
    {
     "data": {
      "text/plain": "'2023-08-02 12:30:45.010000'"
     },
     "execution_count": 32,
     "metadata": {},
     "output_type": "execute_result"
    }
   ],
   "source": [
    "delta = datetime.timedelta(days=7)\n",
    "str(t + delta)"
   ],
   "metadata": {
    "collapsed": false
   }
  },
  {
   "cell_type": "code",
   "execution_count": null,
   "outputs": [],
   "source": [
    "!pip install pytz\n",
    "import pytz"
   ],
   "metadata": {
    "collapsed": false,
    "pycharm": {
     "is_executing": true
    }
   }
  },
  {
   "cell_type": "code",
   "execution_count": 43,
   "outputs": [
    {
     "name": "stdout",
     "output_type": "stream",
     "text": [
      "Today  : 2023-03-16 11:29:58.001267\n",
      "Now    : 2023-03-16 11:29:58.001604\n",
      "Now TZ : 2023-03-16 22:59:58.001708+04:30\n",
      "UTC Now: 2023-03-16 18:29:58.001801\n"
     ]
    }
   ],
   "source": [
    "dt_today  = datetime.datetime.today()\n",
    "dt_now    = datetime.datetime.now()\n",
    "dt_now_tz = datetime.datetime.now(tz=pytz.timezone(\"Asia/Kabul\"))\n",
    "dt_utcnow = datetime.datetime.utcnow()\n",
    "\n",
    "print(f\"Today  : {dt_today}\")\n",
    "print(f\"Now    : {dt_now}\")\n",
    "print(f\"Now TZ : {dt_now_tz}\")\n",
    "print(f\"UTC Now: {dt_utcnow}\")"
   ],
   "metadata": {
    "collapsed": false
   }
  },
  {
   "cell_type": "markdown",
   "source": [
    "In linux, use `timedatectl list-timezones` command to list the time zones."
   ],
   "metadata": {
    "collapsed": false
   }
  },
  {
   "cell_type": "code",
   "execution_count": 46,
   "outputs": [
    {
     "data": {
      "text/plain": "(datetime.datetime(2023, 7, 27, 12, 30, 45, tzinfo=<UTC>),\n '2023-07-27 12:30:45+00:00')"
     },
     "execution_count": 46,
     "metadata": {},
     "output_type": "execute_result"
    }
   ],
   "source": [
    "dt = datetime.datetime(2023, 7, 27, 12, 30, 45, tzinfo=pytz.UTC)\n",
    "dt, str(dt)"
   ],
   "metadata": {
    "collapsed": false
   }
  },
  {
   "cell_type": "code",
   "execution_count": 48,
   "outputs": [
    {
     "name": "stdout",
     "output_type": "stream",
     "text": [
      "Today  : 2023-03-16 11:33:46.766280\n",
      "Now    : 2023-03-16 18:33:46.766407+00:00\n",
      "Now TZ : 2023-03-16 23:03:46.766512+04:30\n",
      "UTC Now: 2023-03-16 18:33:46.766610+00:00\n"
     ]
    }
   ],
   "source": [
    "dt_today  = datetime.datetime.today()\n",
    "dt_now    = datetime.datetime.now(tz=pytz.UTC)\n",
    "dt_now_tz = datetime.datetime.now(tz=pytz.timezone(\"Asia/Kabul\"))\n",
    "dt_utcnow = datetime.datetime.utcnow().replace(tzinfo=pytz.UTC)\n",
    "\n",
    "print(f\"Today  : {dt_today}\")\n",
    "print(f\"Now    : {dt_now}\")\n",
    "print(f\"Now TZ : {dt_now_tz}\")\n",
    "print(f\"UTC Now: {dt_utcnow}\")"
   ],
   "metadata": {
    "collapsed": false
   }
  },
  {
   "cell_type": "code",
   "execution_count": 49,
   "outputs": [
    {
     "data": {
      "text/plain": "'2023-03-16 23:03:46.766407+04:30'"
     },
     "execution_count": 49,
     "metadata": {},
     "output_type": "execute_result"
    }
   ],
   "source": [
    "dt = dt_now.astimezone(pytz.timezone(\"Asia/Kabul\"))\n",
    "str(dt)"
   ],
   "metadata": {
    "collapsed": false
   }
  },
  {
   "cell_type": "code",
   "execution_count": 50,
   "outputs": [
    {
     "name": "stdout",
     "output_type": "stream",
     "text": [
      "Africa/Abidjan\n",
      "Africa/Accra\n",
      "Africa/Addis_Ababa\n",
      "Africa/Algiers\n",
      "Africa/Asmara\n",
      "Africa/Asmera\n",
      "Africa/Bamako\n",
      "Africa/Bangui\n",
      "Africa/Banjul\n",
      "Africa/Bissau\n"
     ]
    }
   ],
   "source": [
    "for index, tz in zip(range(10), pytz.all_timezones):\n",
    "    print(tz)"
   ],
   "metadata": {
    "collapsed": false
   }
  },
  {
   "cell_type": "code",
   "execution_count": 55,
   "outputs": [
    {
     "data": {
      "text/plain": "(datetime.datetime(2023, 3, 16, 15, 4, 29, 489039, tzinfo=<DstTzInfo 'US/Eastern' EDT-1 day, 20:00:00 DST>),\n '2023-03-16 15:04:29.489039-04:00')"
     },
     "execution_count": 55,
     "metadata": {},
     "output_type": "execute_result"
    }
   ],
   "source": [
    "# This seems like a new feature!\n",
    "dt = datetime.datetime.now()\n",
    "dt_east = dt.astimezone(pytz.timezone('Us/Eastern'))\n",
    "dt_east, str(dt_east)"
   ],
   "metadata": {
    "collapsed": false
   }
  },
  {
   "cell_type": "code",
   "execution_count": 56,
   "outputs": [
    {
     "data": {
      "text/plain": "(datetime.datetime(2023, 3, 16, 12, 4, 29, 489039, tzinfo=<DstTzInfo 'US/Eastern' EDT-1 day, 20:00:00 DST>),\n '2023-03-16 12:04:29.489039-04:00')"
     },
     "execution_count": 56,
     "metadata": {},
     "output_type": "execute_result"
    }
   ],
   "source": [
    "# old way:\n",
    "tz = pytz.timezone('Us/Eastern')\n",
    "dt_east = tz.localize(dt)\n",
    "dt_east, str(dt_east)"
   ],
   "metadata": {
    "collapsed": false
   }
  },
  {
   "cell_type": "code",
   "execution_count": 57,
   "outputs": [
    {
     "data": {
      "text/plain": "'2023-03-16T12:04:29.489039'"
     },
     "execution_count": 57,
     "metadata": {},
     "output_type": "execute_result"
    }
   ],
   "source": [
    "dt.isoformat()"
   ],
   "metadata": {
    "collapsed": false
   }
  },
  {
   "cell_type": "code",
   "execution_count": 60,
   "outputs": [
    {
     "data": {
      "text/plain": "'2023-03-16 00:00:00'"
     },
     "execution_count": 60,
     "metadata": {},
     "output_type": "execute_result"
    }
   ],
   "source": [
    "dstr = '2023-03-16'\n",
    "dt = datetime.datetime.strptime(dstr, '%Y-%m-%d')\n",
    "str(dt)"
   ],
   "metadata": {
    "collapsed": false
   }
  },
  {
   "cell_type": "markdown",
   "source": [
    "### strftime = Datetime to String\n",
    "### strptime = String to Datetime\n",
    "\n",
    "Library: Arrow"
   ],
   "metadata": {
    "collapsed": false
   }
  }
 ],
 "metadata": {
  "kernelspec": {
   "display_name": "Python 3",
   "language": "python",
   "name": "python3"
  },
  "language_info": {
   "codemirror_mode": {
    "name": "ipython",
    "version": 2
   },
   "file_extension": ".py",
   "mimetype": "text/x-python",
   "name": "python",
   "nbconvert_exporter": "python",
   "pygments_lexer": "ipython2",
   "version": "2.7.6"
  }
 },
 "nbformat": 4,
 "nbformat_minor": 0
}
